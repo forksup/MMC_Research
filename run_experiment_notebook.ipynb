{
 "cells": [
  {
   "cell_type": "code",
   "execution_count": 1,
   "id": "961580ba-4225-484d-bd3a-e9105088d9e4",
   "metadata": {
    "execution": {
     "iopub.execute_input": "2023-05-17T21:52:34.171038Z",
     "iopub.status.busy": "2023-05-17T21:52:34.170055Z",
     "iopub.status.idle": "2023-05-17T21:52:44.030729Z",
     "shell.execute_reply": "2023-05-17T21:52:44.029690Z",
     "shell.execute_reply.started": "2023-05-17T21:52:34.170949Z"
    }
   },
   "outputs": [
    {
     "name": "stdout",
     "output_type": "stream",
     "text": [
      "/notebooks\n",
      "Cloning into 'thesis_research'...\n",
      "remote: Enumerating objects: 1449, done.\u001b[K\n",
      "remote: Counting objects: 100% (1157/1157), done.\u001b[K\n",
      "remote: Compressing objects: 100% (316/316), done.\u001b[K\n",
      "remote: Total 1449 (delta 950), reused 1033 (delta 833), pack-reused 292\u001b[K\n",
      "Receiving objects: 100% (1449/1449), 12.42 MiB | 17.94 MiB/s, done.\n",
      "Resolving deltas: 100% (1130/1130), done.\n",
      "Updating files: 100% (879/879), done.\n",
      "/notebooks/thesis_research\n",
      "Collecting progressbar\n",
      "  Downloading progressbar-2.5.tar.gz (10 kB)\n",
      "  Preparing metadata (setup.py) ... \u001b[?25ldone\n",
      "\u001b[?25hRequirement already satisfied: numpy in /usr/local/lib/python3.9/dist-packages (from -r requirements.txt (line 2)) (1.23.1)\n",
      "Requirement already satisfied: pandas in /usr/local/lib/python3.9/dist-packages (from -r requirements.txt (line 3)) (1.4.3)\n",
      "Collecting argparse\n",
      "  Downloading argparse-1.4.0-py2.py3-none-any.whl (23 kB)\n",
      "Requirement already satisfied: scipy in /usr/local/lib/python3.9/dist-packages (from -r requirements.txt (line 5)) (1.8.1)\n",
      "Collecting tabulate\n",
      "  Downloading tabulate-0.9.0-py3-none-any.whl (35 kB)\n",
      "Requirement already satisfied: python-dateutil>=2.8.1 in /usr/local/lib/python3.9/dist-packages (from pandas->-r requirements.txt (line 3)) (2.8.2)\n",
      "Requirement already satisfied: pytz>=2020.1 in /usr/local/lib/python3.9/dist-packages (from pandas->-r requirements.txt (line 3)) (2022.1)\n",
      "Requirement already satisfied: six>=1.5 in /usr/lib/python3/dist-packages (from python-dateutil>=2.8.1->pandas->-r requirements.txt (line 3)) (1.14.0)\n",
      "Building wheels for collected packages: progressbar\n",
      "  Building wheel for progressbar (setup.py) ... \u001b[?25ldone\n",
      "\u001b[?25h  Created wheel for progressbar: filename=progressbar-2.5-py3-none-any.whl size=12068 sha256=48c69e259a99a4bde7efaa541a06ad159dcd4afc34788402bc1d9066b6610a93\n",
      "  Stored in directory: /root/.cache/pip/wheels/d7/d9/89/a3f31c76ff6d51dc3b1575628f59afe59e4ceae3f2748cd7ad\n",
      "Successfully built progressbar\n",
      "Installing collected packages: progressbar, argparse, tabulate\n",
      "Successfully installed argparse-1.4.0 progressbar-2.5 tabulate-0.9.0\n",
      "\u001b[33mWARNING: Running pip as the 'root' user can result in broken permissions and conflicting behaviour with the system package manager. It is recommended to use a virtual environment instead: https://pip.pypa.io/warnings/venv\u001b[0m\u001b[33m\n",
      "\u001b[0m"
     ]
    }
   ],
   "source": [
    "%cd /notebooks\n",
    "%rm -d -r -rf \"thesis_research\"\n",
    "\n",
    "!git clone -b master https://github.com/forksup/thesis_research/\n",
    "\n",
    "%cd thesis_research\n",
    "%pip install -r requirements.txt\n",
    "%load_ext autoreload\n",
    "%autoreload 2"
   ]
  },
  {
   "cell_type": "code",
   "execution_count": 4,
   "id": "49485d2b-8a46-4c3b-bd33-1a42bfccb120",
   "metadata": {
    "execution": {
     "iopub.execute_input": "2023-05-17T21:53:03.784892Z",
     "iopub.status.busy": "2023-05-17T21:53:03.783750Z",
     "iopub.status.idle": "2023-05-17T21:53:06.160355Z",
     "shell.execute_reply": "2023-05-17T21:53:06.159205Z",
     "shell.execute_reply.started": "2023-05-17T21:53:03.784853Z"
    }
   },
   "outputs": [
    {
     "ename": "ImportError",
     "evalue": "cannot import name 'MMC_M' from 'Models.MMC_M' (/notebooks/thesis_research/Models/MMC_M.py)",
     "output_type": "error",
     "traceback": [
      "\u001b[0;31m---------------------------------------------------------------------------\u001b[0m",
      "\u001b[0;31mImportError\u001b[0m                               Traceback (most recent call last)",
      "Input \u001b[0;32mIn [4]\u001b[0m, in \u001b[0;36m<cell line: 5>\u001b[0;34m()\u001b[0m\n\u001b[1;32m      3\u001b[0m \u001b[38;5;28;01mfrom\u001b[39;00m \u001b[38;5;21;01mModels\u001b[39;00m\u001b[38;5;21;01m.\u001b[39;00m\u001b[38;5;21;01mHMC\u001b[39;00m \u001b[38;5;28;01mimport\u001b[39;00m HMC\n\u001b[1;32m      4\u001b[0m \u001b[38;5;28;01mfrom\u001b[39;00m \u001b[38;5;21;01mModels\u001b[39;00m\u001b[38;5;21;01m.\u001b[39;00m\u001b[38;5;21;01mDBN\u001b[39;00m \u001b[38;5;28;01mimport\u001b[39;00m FMC\n\u001b[0;32m----> 5\u001b[0m \u001b[38;5;28;01mfrom\u001b[39;00m \u001b[38;5;21;01mModels\u001b[39;00m\u001b[38;5;21;01m.\u001b[39;00m\u001b[38;5;21;01mMMC_M\u001b[39;00m \u001b[38;5;28;01mimport\u001b[39;00m MMC_M\n\u001b[1;32m      7\u001b[0m \u001b[38;5;28;01mfrom\u001b[39;00m \u001b[38;5;21;01mModels\u001b[39;00m\u001b[38;5;21;01m.\u001b[39;00m\u001b[38;5;21;01mmodel_sources\u001b[39;00m\u001b[38;5;21;01m.\u001b[39;00m\u001b[38;5;21;01mmtd_source\u001b[39;00m \u001b[38;5;28;01mimport\u001b[39;00m MTD\n\u001b[1;32m      9\u001b[0m \u001b[38;5;28;01mfrom\u001b[39;00m \u001b[38;5;21;01mDatasets\u001b[39;00m \u001b[38;5;28;01mimport\u001b[39;00m Markov_Data, MMC_Data, Fruit_Data, Markov_Data_Large\n",
      "\u001b[0;31mImportError\u001b[0m: cannot import name 'MMC_M' from 'Models.MMC_M' (/notebooks/thesis_research/Models/MMC_M.py)"
     ]
    }
   ],
   "source": [
    "from Models.model_sources.markov_source import MarkovChain\n",
    "from Models.MMC import MMC\n",
    "from Models.HMC import HMC\n",
    "from Models.DBN import FMC\n",
    "from Models.MMC_M import MMC_M\n",
    "\n",
    "from Models.model_sources.mtd_source import MTD\n",
    "\n",
    "from Datasets import Markov_Data, MMC_Data, Fruit_Data, Markov_Data_Large\n",
    "    \n",
    "methods = [HMC, FMC, MMC, MMC_M]\n",
    "types = [m.__name__ for m in methods]\n",
    "print(types)\n",
    "data_generator = Markov_Data.HMM_Data\n",
    "data_size_args = (75_000,150_000,5_000)\n",
    "state_size_args = 7\n",
    "order_size_args = 5\n",
    "avg_amt = 5\n",
    "threading = True\n",
    "\n",
    "metric_to_test = \"data_size\"\n",
    "\n",
    "# Data size 2k-20k, State size 3-15, order 3-10 , choose these when you have to fix parameters: datasize 5k, state size 7, order 5\n",
    "# order, state_space, or data_size\n",
    "\n",
    "data_results, sgo_type = run_experiment(methods, avg_amt, data_generator, threading, metric_to_test, data_size_args,\n",
    "                                        state_size_args, order_size_args, f\"/storage/data/HMM_Data.pkl\")"
   ]
  }
 ],
 "metadata": {
  "kernelspec": {
   "display_name": "Python 3 (ipykernel)",
   "language": "python",
   "name": "python3"
  },
  "language_info": {
   "codemirror_mode": {
    "name": "ipython",
    "version": 3
   },
   "file_extension": ".py",
   "mimetype": "text/x-python",
   "name": "python",
   "nbconvert_exporter": "python",
   "pygments_lexer": "ipython3",
   "version": "3.9.13"
  }
 },
 "nbformat": 4,
 "nbformat_minor": 5
}
