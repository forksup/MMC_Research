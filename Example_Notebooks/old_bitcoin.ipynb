Order: 3

Dataset: Blocksworld 4 blocks, multitasking 

Statespace Size:
69450

Dataset Size:
5000

MMC
Training:
Testing: 0.128

Start training for FMC
FMC
Training: 
Testing: 0.0
