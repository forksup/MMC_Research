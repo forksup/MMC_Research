{
  "cells": [
    {
      "cell_type": "code",
      "execution_count": null,
      "metadata": {
        "colab": {
          "base_uri": "https://localhost:8080/",
          "height": 518
        },
        "id": "xfUihxJ86hzh",
        "outputId": "231e4913-827a-4f45-b0b7-11256d46075e"
      },
      "outputs": [
        {
          "output_type": "stream",
          "name": "stdout",
          "text": [
            "/content\n",
            "Cloning into 'thesis_research'...\n",
            "remote: Enumerating objects: 1402, done.\u001b[K\n",
            "remote: Counting objects: 100% (1110/1110), done.\u001b[K\n",
            "remote: Compressing objects: 100% (288/288), done.\u001b[K\n",
            "remote: Total 1402 (delta 920), reused 997 (delta 814), pack-reused 292\u001b[K\n",
            "Receiving objects: 100% (1402/1402), 12.41 MiB | 13.46 MiB/s, done.\n",
            "Resolving deltas: 100% (1100/1100), done.\n",
            "/content/thesis_research\n",
            "Looking in indexes: https://pypi.org/simple, https://us-python.pkg.dev/colab-wheels/public/simple/\n",
            "Requirement already satisfied: progressbar in /usr/local/lib/python3.8/dist-packages (from -r requirements.txt (line 1)) (2.5)\n",
            "Requirement already satisfied: numpy in /usr/local/lib/python3.8/dist-packages (from -r requirements.txt (line 2)) (1.21.6)\n",
            "Requirement already satisfied: pandas in /usr/local/lib/python3.8/dist-packages (from -r requirements.txt (line 3)) (1.3.5)\n",
            "Collecting argparse\n",
            "  Using cached argparse-1.4.0-py2.py3-none-any.whl (23 kB)\n",
            "Requirement already satisfied: scipy in /usr/local/lib/python3.8/dist-packages (from -r requirements.txt (line 5)) (1.7.3)\n",
            "Requirement already satisfied: tabulate in /usr/local/lib/python3.8/dist-packages (from -r requirements.txt (line 6)) (0.8.10)\n",
            "Requirement already satisfied: pytz>=2017.3 in /usr/local/lib/python3.8/dist-packages (from pandas->-r requirements.txt (line 3)) (2022.7)\n",
            "Requirement already satisfied: python-dateutil>=2.7.3 in /usr/local/lib/python3.8/dist-packages (from pandas->-r requirements.txt (line 3)) (2.8.2)\n",
            "Requirement already satisfied: six>=1.5 in /usr/local/lib/python3.8/dist-packages (from python-dateutil>=2.7.3->pandas->-r requirements.txt (line 3)) (1.15.0)\n",
            "Installing collected packages: argparse\n",
            "Successfully installed argparse-1.4.0\n"
          ]
        },
        {
          "output_type": "display_data",
          "data": {
            "application/vnd.colab-display-data+json": {
              "pip_warning": {
                "packages": [
                  "argparse"
                ]
              }
            }
          },
          "metadata": {}
        }
      ],
      "source": [
        "# First time setup\n",
        "%cd /content/\n",
        "!rm -rf thesis_research\n",
        "!git clone https://github.com/forksup/thesis_research\n",
        "%cd /content/thesis_research\n",
        "!pip3 install -r requirements.txt"
      ]
    },
    {
      "cell_type": "code",
      "execution_count": null,
      "metadata": {
        "colab": {
          "base_uri": "https://localhost:8080/"
        },
        "id": "u55wnlqR9Nac",
        "outputId": "d0b4cf67-3b1d-4350-e59e-431e860a5e03"
      },
      "outputs": [
        {
          "output_type": "stream",
          "name": "stdout",
          "text": [
            "The autoreload extension is already loaded. To reload it, use:\n",
            "  %reload_ext autoreload\n"
          ]
        }
      ],
      "source": [
        "from Models.model_sources.markov_source import MarkovChain\n",
        "from Models.MMC import MMC\n",
        "from Models.DBN import FMC\n",
        "from Models.HMC import HMC\n",
        "\n",
        "from Models.model_sources.mtd_source import MTD\n",
        "from Models.model_sources.path_encoder import PathEncoder, SequenceCutter\n",
        "\n",
        "from run_experiments import perform_ttest\n",
        "import numpy as np\n",
        "import pandas as pd\n",
        "from matplotlib import pyplot as plt\n",
        "\n",
        "from Datasets.Inflation_data import inflationData\n",
        "from collections import defaultdict\n",
        "from sklearn.model_selection import train_test_split\n",
        "\n",
        "\n",
        "%load_ext autoreload\n",
        "%autoreload 2"
      ]
    },
    {
      "cell_type": "code",
      "execution_count": null,
      "metadata": {
        "colab": {
          "base_uri": "https://localhost:8080/",
          "height": 442
        },
        "id": "EBRVV-Y4_hNK",
        "outputId": "44fe8410-109b-4a88-9e99-1ad5eea55275"
      },
      "outputs": [
        {
          "output_type": "stream",
          "name": "stdout",
          "text": [
            "Standard Deviation = 0.05524291401896159\n"
          ]
        },
        {
          "output_type": "execute_result",
          "data": {
            "text/plain": [
              "     level_0  index  year  amount  inflation rate state_change\n",
              "0          0     21  1821   0.900          -0.030         drop\n",
              "1          1     22  1822   0.930           0.040         rise\n",
              "2          2     23  1823   0.830          -0.100     big drop\n",
              "3          3     24  1824   0.770          -0.080     big drop\n",
              "4          4     25  1825   0.790           0.020         rise\n",
              "..       ...    ...   ...     ...             ...          ...\n",
              "174      174    195  1995  12.100           0.030         rise\n",
              "175      175    196  1996  12.450           0.030         rise\n",
              "176      176    197  1997  12.740           0.020         rise\n",
              "177      177    198  1998  12.940           0.020         rise\n",
              "178      178    199  1999  13.220           0.020         rise\n",
              "\n",
              "[179 rows x 6 columns]"
            ],
            "text/html": [
              "\n",
              "  <div id=\"df-f9ec0107-ffac-453d-bbac-1ddea5f4c580\">\n",
              "    <div class=\"colab-df-container\">\n",
              "      <div>\n",
              "<style scoped>\n",
              "    .dataframe tbody tr th:only-of-type {\n",
              "        vertical-align: middle;\n",
              "    }\n",
              "\n",
              "    .dataframe tbody tr th {\n",
              "        vertical-align: top;\n",
              "    }\n",
              "\n",
              "    .dataframe thead th {\n",
              "        text-align: right;\n",
              "    }\n",
              "</style>\n",
              "<table border=\"1\" class=\"dataframe\">\n",
              "  <thead>\n",
              "    <tr style=\"text-align: right;\">\n",
              "      <th></th>\n",
              "      <th>level_0</th>\n",
              "      <th>index</th>\n",
              "      <th>year</th>\n",
              "      <th>amount</th>\n",
              "      <th>inflation rate</th>\n",
              "      <th>state_change</th>\n",
              "    </tr>\n",
              "  </thead>\n",
              "  <tbody>\n",
              "    <tr>\n",
              "      <th>0</th>\n",
              "      <td>0</td>\n",
              "      <td>21</td>\n",
              "      <td>1821</td>\n",
              "      <td>0.900</td>\n",
              "      <td>-0.030</td>\n",
              "      <td>drop</td>\n",
              "    </tr>\n",
              "    <tr>\n",
              "      <th>1</th>\n",
              "      <td>1</td>\n",
              "      <td>22</td>\n",
              "      <td>1822</td>\n",
              "      <td>0.930</td>\n",
              "      <td>0.040</td>\n",
              "      <td>rise</td>\n",
              "    </tr>\n",
              "    <tr>\n",
              "      <th>2</th>\n",
              "      <td>2</td>\n",
              "      <td>23</td>\n",
              "      <td>1823</td>\n",
              "      <td>0.830</td>\n",
              "      <td>-0.100</td>\n",
              "      <td>big drop</td>\n",
              "    </tr>\n",
              "    <tr>\n",
              "      <th>3</th>\n",
              "      <td>3</td>\n",
              "      <td>24</td>\n",
              "      <td>1824</td>\n",
              "      <td>0.770</td>\n",
              "      <td>-0.080</td>\n",
              "      <td>big drop</td>\n",
              "    </tr>\n",
              "    <tr>\n",
              "      <th>4</th>\n",
              "      <td>4</td>\n",
              "      <td>25</td>\n",
              "      <td>1825</td>\n",
              "      <td>0.790</td>\n",
              "      <td>0.020</td>\n",
              "      <td>rise</td>\n",
              "    </tr>\n",
              "    <tr>\n",
              "      <th>...</th>\n",
              "      <td>...</td>\n",
              "      <td>...</td>\n",
              "      <td>...</td>\n",
              "      <td>...</td>\n",
              "      <td>...</td>\n",
              "      <td>...</td>\n",
              "    </tr>\n",
              "    <tr>\n",
              "      <th>174</th>\n",
              "      <td>174</td>\n",
              "      <td>195</td>\n",
              "      <td>1995</td>\n",
              "      <td>12.100</td>\n",
              "      <td>0.030</td>\n",
              "      <td>rise</td>\n",
              "    </tr>\n",
              "    <tr>\n",
              "      <th>175</th>\n",
              "      <td>175</td>\n",
              "      <td>196</td>\n",
              "      <td>1996</td>\n",
              "      <td>12.450</td>\n",
              "      <td>0.030</td>\n",
              "      <td>rise</td>\n",
              "    </tr>\n",
              "    <tr>\n",
              "      <th>176</th>\n",
              "      <td>176</td>\n",
              "      <td>197</td>\n",
              "      <td>1997</td>\n",
              "      <td>12.740</td>\n",
              "      <td>0.020</td>\n",
              "      <td>rise</td>\n",
              "    </tr>\n",
              "    <tr>\n",
              "      <th>177</th>\n",
              "      <td>177</td>\n",
              "      <td>198</td>\n",
              "      <td>1998</td>\n",
              "      <td>12.940</td>\n",
              "      <td>0.020</td>\n",
              "      <td>rise</td>\n",
              "    </tr>\n",
              "    <tr>\n",
              "      <th>178</th>\n",
              "      <td>178</td>\n",
              "      <td>199</td>\n",
              "      <td>1999</td>\n",
              "      <td>13.220</td>\n",
              "      <td>0.020</td>\n",
              "      <td>rise</td>\n",
              "    </tr>\n",
              "  </tbody>\n",
              "</table>\n",
              "<p>179 rows × 6 columns</p>\n",
              "</div>\n",
              "      <button class=\"colab-df-convert\" onclick=\"convertToInteractive('df-f9ec0107-ffac-453d-bbac-1ddea5f4c580')\"\n",
              "              title=\"Convert this dataframe to an interactive table.\"\n",
              "              style=\"display:none;\">\n",
              "        \n",
              "  <svg xmlns=\"http://www.w3.org/2000/svg\" height=\"24px\"viewBox=\"0 0 24 24\"\n",
              "       width=\"24px\">\n",
              "    <path d=\"M0 0h24v24H0V0z\" fill=\"none\"/>\n",
              "    <path d=\"M18.56 5.44l.94 2.06.94-2.06 2.06-.94-2.06-.94-.94-2.06-.94 2.06-2.06.94zm-11 1L8.5 8.5l.94-2.06 2.06-.94-2.06-.94L8.5 2.5l-.94 2.06-2.06.94zm10 10l.94 2.06.94-2.06 2.06-.94-2.06-.94-.94-2.06-.94 2.06-2.06.94z\"/><path d=\"M17.41 7.96l-1.37-1.37c-.4-.4-.92-.59-1.43-.59-.52 0-1.04.2-1.43.59L10.3 9.45l-7.72 7.72c-.78.78-.78 2.05 0 2.83L4 21.41c.39.39.9.59 1.41.59.51 0 1.02-.2 1.41-.59l7.78-7.78 2.81-2.81c.8-.78.8-2.07 0-2.86zM5.41 20L4 18.59l7.72-7.72 1.47 1.35L5.41 20z\"/>\n",
              "  </svg>\n",
              "      </button>\n",
              "      \n",
              "  <style>\n",
              "    .colab-df-container {\n",
              "      display:flex;\n",
              "      flex-wrap:wrap;\n",
              "      gap: 12px;\n",
              "    }\n",
              "\n",
              "    .colab-df-convert {\n",
              "      background-color: #E8F0FE;\n",
              "      border: none;\n",
              "      border-radius: 50%;\n",
              "      cursor: pointer;\n",
              "      display: none;\n",
              "      fill: #1967D2;\n",
              "      height: 32px;\n",
              "      padding: 0 0 0 0;\n",
              "      width: 32px;\n",
              "    }\n",
              "\n",
              "    .colab-df-convert:hover {\n",
              "      background-color: #E2EBFA;\n",
              "      box-shadow: 0px 1px 2px rgba(60, 64, 67, 0.3), 0px 1px 3px 1px rgba(60, 64, 67, 0.15);\n",
              "      fill: #174EA6;\n",
              "    }\n",
              "\n",
              "    [theme=dark] .colab-df-convert {\n",
              "      background-color: #3B4455;\n",
              "      fill: #D2E3FC;\n",
              "    }\n",
              "\n",
              "    [theme=dark] .colab-df-convert:hover {\n",
              "      background-color: #434B5C;\n",
              "      box-shadow: 0px 1px 3px 1px rgba(0, 0, 0, 0.15);\n",
              "      filter: drop-shadow(0px 1px 2px rgba(0, 0, 0, 0.3));\n",
              "      fill: #FFFFFF;\n",
              "    }\n",
              "  </style>\n",
              "\n",
              "      <script>\n",
              "        const buttonEl =\n",
              "          document.querySelector('#df-f9ec0107-ffac-453d-bbac-1ddea5f4c580 button.colab-df-convert');\n",
              "        buttonEl.style.display =\n",
              "          google.colab.kernel.accessAllowed ? 'block' : 'none';\n",
              "\n",
              "        async function convertToInteractive(key) {\n",
              "          const element = document.querySelector('#df-f9ec0107-ffac-453d-bbac-1ddea5f4c580');\n",
              "          const dataTable =\n",
              "            await google.colab.kernel.invokeFunction('convertToInteractive',\n",
              "                                                     [key], {});\n",
              "          if (!dataTable) return;\n",
              "\n",
              "          const docLinkHtml = 'Like what you see? Visit the ' +\n",
              "            '<a target=\"_blank\" href=https://colab.research.google.com/notebooks/data_table.ipynb>data table notebook</a>'\n",
              "            + ' to learn more about interactive tables.';\n",
              "          element.innerHTML = '';\n",
              "          dataTable['output_type'] = 'display_data';\n",
              "          await google.colab.output.renderOutput(dataTable, element);\n",
              "          const docLink = document.createElement('div');\n",
              "          docLink.innerHTML = docLinkHtml;\n",
              "          element.appendChild(docLink);\n",
              "        }\n",
              "      </script>\n",
              "    </div>\n",
              "  </div>\n",
              "  "
            ]
          },
          "metadata": {},
          "execution_count": 117
        }
      ],
      "source": [
        "df = pd.read_csv(\"Datasets/data_files/inflation_data.csv\")\n",
        "\n",
        "# Filter out to the years used in MTD Paper\n",
        "df['year'] = pd.to_numeric(df['year'])\n",
        "df = df[(df['year'] >= 1821) & (df['year'] <= 1999)]\n",
        "df = df.reset_index()\n",
        "\n",
        "\n",
        "df['state_change'] = 'none'\n",
        "std = df['inflation rate'].std()\n",
        "\n",
        "df.loc[df['inflation rate'] < 0.0, 'state_change'] = \"drop\"\n",
        "df.loc[df['inflation rate'] > 0.0, 'state_change'] = \"rise\"\n",
        "\n",
        "df.loc[df['inflation rate'] <= -std, 'state_change'] = \"big drop\"\n",
        "df.loc[df['inflation rate'] >= std, 'state_change'] = \"big rise\"\n",
        "\n",
        "df.loc[df['inflation rate'] <= -2*std, 'state_change'] = \"bigger drop\"\n",
        "df.loc[df['inflation rate'] >= 2*std, 'state_change'] = \"bigger rise\"\n",
        "\n",
        "df.loc[df['inflation rate'] <= -3*std, 'state_change'] = \"biggest drop\"\n",
        "df.loc[df['inflation rate'] >= 3*std, 'state_change'] = \"biggest rise\"\n",
        "\n",
        "df = df.reset_index()\n",
        "\n",
        "print(f\"Standard Deviation = {std}\")\n",
        "df"
      ]
    },
    {
      "cell_type": "code",
      "execution_count": null,
      "metadata": {
        "colab": {
          "base_uri": "https://localhost:8080/",
          "height": 279
        },
        "id": "M2CyOQT2Oi--",
        "outputId": "cf1007f1-8b92-4408-8096-43bd8db0c35a"
      },
      "outputs": [
        {
          "output_type": "display_data",
          "data": {
            "text/plain": [
              "<Figure size 432x288 with 1 Axes>"
            ],
            "image/png": "[encoded data removed]"
          },
          "metadata": {
            "needs_background": "light"
          }
        }
      ],
      "source": [
        "import matplotlib.pyplot as plt\n",
        "\n",
        "# Create a figure and axes\n",
        "fig, ax = plt.subplots()\n",
        "\n",
        "# Plot the data on the axes\n",
        "ax.plot([i for i in range(len(df))], df['inflation rate'])\n",
        "\n",
        "# Add labels and title\n",
        "ax.set(xlabel='Year', ylabel='Inflation Rate')\n",
        "\n",
        "# Show the plot\n",
        "plt.show()\n"
      ]
    },
    {
      "cell_type": "code",
      "execution_count": null,
      "metadata": {
        "colab": {
          "base_uri": "https://localhost:8080/",
          "height": 442
        },
        "id": "jOccwKA3CBYc",
        "outputId": "813a556a-a646-48ce-978d-7541b69eb8b0"
      },
      "outputs": [
        {
          "output_type": "stream",
          "name": "stdout",
          "text": [
            "Display of X and Y training Data\n"
          ]
        },
        {
          "output_type": "execute_result",
          "data": {
            "text/plain": [
              "     x1  x2  x3  y\n",
              "0     4   6   0  0\n",
              "1     6   0   0  6\n",
              "2     0   0   6  5\n",
              "3     0   6   5  6\n",
              "4     6   5   6  4\n",
              "..   ..  ..  .. ..\n",
              "171   6   6   6  6\n",
              "172   6   6   6  6\n",
              "173   6   6   6  6\n",
              "174   6   6   6  6\n",
              "175   6   6   6  6\n",
              "\n",
              "[176 rows x 4 columns]"
            ],
            "text/html": [
              "\n",
              "  <div id=\"df-feb6481f-9960-405c-a1c3-08cd8760cb9e\">\n",
              "    <div class=\"colab-df-container\">\n",
              "      <div>\n",
              "<style scoped>\n",
              "    .dataframe tbody tr th:only-of-type {\n",
              "        vertical-align: middle;\n",
              "    }\n",
              "\n",
              "    .dataframe tbody tr th {\n",
              "        vertical-align: top;\n",
              "    }\n",
              "\n",
              "    .dataframe thead th {\n",
              "        text-align: right;\n",
              "    }\n",
              "</style>\n",
              "<table border=\"1\" class=\"dataframe\">\n",
              "  <thead>\n",
              "    <tr style=\"text-align: right;\">\n",
              "      <th></th>\n",
              "      <th>x1</th>\n",
              "      <th>x2</th>\n",
              "      <th>x3</th>\n",
              "      <th>y</th>\n",
              "    </tr>\n",
              "  </thead>\n",
              "  <tbody>\n",
              "    <tr>\n",
              "      <th>0</th>\n",
              "      <td>4</td>\n",
              "      <td>6</td>\n",
              "      <td>0</td>\n",
              "      <td>0</td>\n",
              "    </tr>\n",
              "    <tr>\n",
              "      <th>1</th>\n",
              "      <td>6</td>\n",
              "      <td>0</td>\n",
              "      <td>0</td>\n",
              "      <td>6</td>\n",
              "    </tr>\n",
              "    <tr>\n",
              "      <th>2</th>\n",
              "      <td>0</td>\n",
              "      <td>0</td>\n",
              "      <td>6</td>\n",
              "      <td>5</td>\n",
              "    </tr>\n",
              "    <tr>\n",
              "      <th>3</th>\n",
              "      <td>0</td>\n",
              "      <td>6</td>\n",
              "      <td>5</td>\n",
              "      <td>6</td>\n",
              "    </tr>\n",
              "    <tr>\n",
              "      <th>4</th>\n",
              "      <td>6</td>\n",
              "      <td>5</td>\n",
              "      <td>6</td>\n",
              "      <td>4</td>\n",
              "    </tr>\n",
              "    <tr>\n",
              "      <th>...</th>\n",
              "      <td>...</td>\n",
              "      <td>...</td>\n",
              "      <td>...</td>\n",
              "      <td>...</td>\n",
              "    </tr>\n",
              "    <tr>\n",
              "      <th>171</th>\n",
              "      <td>6</td>\n",
              "      <td>6</td>\n",
              "      <td>6</td>\n",
              "      <td>6</td>\n",
              "    </tr>\n",
              "    <tr>\n",
              "      <th>172</th>\n",
              "      <td>6</td>\n",
              "      <td>6</td>\n",
              "      <td>6</td>\n",
              "      <td>6</td>\n",
              "    </tr>\n",
              "    <tr>\n",
              "      <th>173</th>\n",
              "      <td>6</td>\n",
              "      <td>6</td>\n",
              "      <td>6</td>\n",
              "      <td>6</td>\n",
              "    </tr>\n",
              "    <tr>\n",
              "      <th>174</th>\n",
              "      <td>6</td>\n",
              "      <td>6</td>\n",
              "      <td>6</td>\n",
              "      <td>6</td>\n",
              "    </tr>\n",
              "    <tr>\n",
              "      <th>175</th>\n",
              "      <td>6</td>\n",
              "      <td>6</td>\n",
              "      <td>6</td>\n",
              "      <td>6</td>\n",
              "    </tr>\n",
              "  </tbody>\n",
              "</table>\n",
              "<p>176 rows × 4 columns</p>\n",
              "</div>\n",
              "      <button class=\"colab-df-convert\" onclick=\"convertToInteractive('df-feb6481f-9960-405c-a1c3-08cd8760cb9e')\"\n",
              "              title=\"Convert this dataframe to an interactive table.\"\n",
              "              style=\"display:none;\">\n",
              "        \n",
              "  <svg xmlns=\"http://www.w3.org/2000/svg\" height=\"24px\"viewBox=\"0 0 24 24\"\n",
              "       width=\"24px\">\n",
              "    <path d=\"M0 0h24v24H0V0z\" fill=\"none\"/>\n",
              "    <path d=\"M18.56 5.44l.94 2.06.94-2.06 2.06-.94-2.06-.94-.94-2.06-.94 2.06-2.06.94zm-11 1L8.5 8.5l.94-2.06 2.06-.94-2.06-.94L8.5 2.5l-.94 2.06-2.06.94zm10 10l.94 2.06.94-2.06 2.06-.94-2.06-.94-.94-2.06-.94 2.06-2.06.94z\"/><path d=\"M17.41 7.96l-1.37-1.37c-.4-.4-.92-.59-1.43-.59-.52 0-1.04.2-1.43.59L10.3 9.45l-7.72 7.72c-.78.78-.78 2.05 0 2.83L4 21.41c.39.39.9.59 1.41.59.51 0 1.02-.2 1.41-.59l7.78-7.78 2.81-2.81c.8-.78.8-2.07 0-2.86zM5.41 20L4 18.59l7.72-7.72 1.47 1.35L5.41 20z\"/>\n",
              "  </svg>\n",
              "      </button>\n",
              "      \n",
              "  <style>\n",
              "    .colab-df-container {\n",
              "      display:flex;\n",
              "      flex-wrap:wrap;\n",
              "      gap: 12px;\n",
              "    }\n",
              "\n",
              "    .colab-df-convert {\n",
              "      background-color: #E8F0FE;\n",
              "      border: none;\n",
              "      border-radius: 50%;\n",
              "      cursor: pointer;\n",
              "      display: none;\n",
              "      fill: #1967D2;\n",
              "      height: 32px;\n",
              "      padding: 0 0 0 0;\n",
              "      width: 32px;\n",
              "    }\n",
              "\n",
              "    .colab-df-convert:hover {\n",
              "      background-color: #E2EBFA;\n",
              "      box-shadow: 0px 1px 2px rgba(60, 64, 67, 0.3), 0px 1px 3px 1px rgba(60, 64, 67, 0.15);\n",
              "      fill: #174EA6;\n",
              "    }\n",
              "\n",
              "    [theme=dark] .colab-df-convert {\n",
              "      background-color: #3B4455;\n",
              "      fill: #D2E3FC;\n",
              "    }\n",
              "\n",
              "    [theme=dark] .colab-df-convert:hover {\n",
              "      background-color: #434B5C;\n",
              "      box-shadow: 0px 1px 3px 1px rgba(0, 0, 0, 0.15);\n",
              "      filter: drop-shadow(0px 1px 2px rgba(0, 0, 0, 0.3));\n",
              "      fill: #FFFFFF;\n",
              "    }\n",
              "  </style>\n",
              "\n",
              "      <script>\n",
              "        const buttonEl =\n",
              "          document.querySelector('#df-feb6481f-9960-405c-a1c3-08cd8760cb9e button.colab-df-convert');\n",
              "        buttonEl.style.display =\n",
              "          google.colab.kernel.accessAllowed ? 'block' : 'none';\n",
              "\n",
              "        async function convertToInteractive(key) {\n",
              "          const element = document.querySelector('#df-feb6481f-9960-405c-a1c3-08cd8760cb9e');\n",
              "          const dataTable =\n",
              "            await google.colab.kernel.invokeFunction('convertToInteractive',\n",
              "                                                     [key], {});\n",
              "          if (!dataTable) return;\n",
              "\n",
              "          const docLinkHtml = 'Like what you see? Visit the ' +\n",
              "            '<a target=\"_blank\" href=https://colab.research.google.com/notebooks/data_table.ipynb>data table notebook</a>'\n",
              "            + ' to learn more about interactive tables.';\n",
              "          element.innerHTML = '';\n",
              "          dataTable['output_type'] = 'display_data';\n",
              "          await google.colab.output.renderOutput(dataTable, element);\n",
              "          const docLink = document.createElement('div');\n",
              "          docLink.innerHTML = docLinkHtml;\n",
              "          element.appendChild(docLink);\n",
              "        }\n",
              "      </script>\n",
              "    </div>\n",
              "  </div>\n",
              "  "
            ]
          },
          "metadata": {},
          "execution_count": 118
        }
      ],
      "source": [
        "order = 3\n",
        "\n",
        "sc = SequenceCutter(order)\n",
        "x, y = sc.transform(df.state_change.values)\n",
        "\n",
        "pe = PathEncoder(order)\n",
        "pe.fit(x, y)\n",
        "\n",
        "x_tr, y_tr = pe.transform(x, y)\n",
        "\n",
        "# PD used for pretty Juptyer notebook output\n",
        "display_pd = pd.DataFrame(x_tr, columns=[f\"x{i+1}\" for i in range(order)])\n",
        "display_pd[\"y\"] = y_tr\n",
        "\n",
        "print(\"Display of X and Y training Data\")\n",
        "display_pd"
      ]
    },
    {
      "cell_type": "code",
      "execution_count": null,
      "metadata": {
        "id": "3LZjLqBLDbxW"
      },
      "outputs": [],
      "source": [
        "# Now let's run the experiments\n",
        "\n",
        "# We will run the experiment randomly splitting the data into training \n",
        "# and testing data 100 times, due to the low dataset size we must take the\n",
        "# average of many trials \n",
        "\n",
        "amount_to_average = 500\n",
        " \n",
        "methods = [MMC, FMC, HMC, MTD] \n",
        "types = [m.__name__ for m in methods]\n",
        "\n",
        "experiment_results = defaultdict(list)\n",
        "\n",
        "combined_arrays = np.concatenate((x_tr.flatten(),y_tr), axis=0)\n",
        "state_count = len(np.unique(combined_arrays))\n",
        "\n",
        "for _ in range(amount_to_average):\n",
        "    X_train, X_test, y_train, y_test = train_test_split(x_tr, y_tr)\n",
        "\n",
        "    args_training = {\"X_train\": X_train, \"y_train\": y_train}\n",
        "    args_testing =   {\"X_test\": X_test, \"y_test\": y_test}\n",
        "\n",
        "    for m in methods:\n",
        "        model = m(state_count, order=order)\n",
        "        MarkovChain.calculate_time(model.train, args_training)\n",
        "        testing = MarkovChain.calculate_time(model.test, args_testing)\n",
        "        experiment_results[m.__name__].append(testing[0])\n"
      ]
    },
    {
      "cell_type": "code",
      "execution_count": null,
      "metadata": {
        "id": "2q-EC54mfItH"
      },
      "outputs": [],
      "source": [
        "picked_lags = []\n",
        "utility = []\n",
        "for key, item in enumerate(experiment_results['MMC']):\n",
        "  picked_lags.extend(item[1])\n",
        "  utility.append(item[2])\n",
        "  experiment_results['MMC'][key] = item[0]\n"
      ]
    },
    {
      "cell_type": "code",
      "execution_count": null,
      "metadata": {
        "colab": {
          "base_uri": "https://localhost:8080/"
        },
        "id": "UwvriNqC16A8",
        "outputId": "0d755fc7-0e8e-4110-80f5-f4ee92da8655"
      },
      "outputs": [
        {
          "output_type": "execute_result",
          "data": {
            "text/plain": [
              "0.11668801386615733"
            ]
          },
          "metadata": {},
          "execution_count": 126
        }
      ],
      "source": [
        "sum(utility)/len(utility)"
      ]
    },
    {
      "cell_type": "code",
      "source": [
        "#utility_dont_combine = utility\n",
        "utility_do_combine = utility"
      ],
      "metadata": {
        "id": "a5meL9qcUyZd"
      },
      "execution_count": null,
      "outputs": []
    },
    {
      "cell_type": "code",
      "source": [
        "import scipy.stats as stats\n",
        "stats.ttest_rel(utility_dont_combine, utility_do_combine)\n"
      ],
      "metadata": {
        "colab": {
          "base_uri": "https://localhost:8080/"
        },
        "id": "5dFulRkrVs0J",
        "outputId": "e97bd344-8290-4c8b-82e9-737bf9d2f08b"
      },
      "execution_count": null,
      "outputs": [
        {
          "output_type": "execute_result",
          "data": {
            "text/plain": [
              "Ttest_relResult(statistic=-0.15020803160103352, pvalue=0.8806611844086544)"
            ]
          },
          "metadata": {},
          "execution_count": 129
        }
      ]
    },
    {
      "cell_type": "code",
      "execution_count": null,
      "metadata": {
        "colab": {
          "base_uri": "https://localhost:8080/",
          "height": 143
        },
        "id": "7iLp5nGjeGQq",
        "outputId": "508c7006-142c-45ca-bff9-2b65a6d51b16"
      },
      "outputs": [
        {
          "output_type": "execute_result",
          "data": {
            "text/plain": [
              "<pandas.io.formats.style.Styler at 0x7ff3c623e460>"
            ],
            "text/html": [
              "<style type=\"text/css\">\n",
              "</style>\n",
              "<table id=\"T_9ea82_\" class=\"dataframe\">\n",
              "  <thead>\n",
              "    <tr>\n",
              "      <th class=\"col_heading level0 col0\" >Lag</th>\n",
              "      <th class=\"col_heading level0 col1\" >%</th>\n",
              "    </tr>\n",
              "  </thead>\n",
              "  <tbody>\n",
              "    <tr>\n",
              "      <td id=\"T_9ea82_row0_col0\" class=\"data row0 col0\" >0</td>\n",
              "      <td id=\"T_9ea82_row0_col1\" class=\"data row0 col1\" >0.640591</td>\n",
              "    </tr>\n",
              "    <tr>\n",
              "      <td id=\"T_9ea82_row1_col0\" class=\"data row1 col0\" >1</td>\n",
              "      <td id=\"T_9ea82_row1_col1\" class=\"data row1 col1\" >0.229909</td>\n",
              "    </tr>\n",
              "    <tr>\n",
              "      <td id=\"T_9ea82_row2_col0\" class=\"data row2 col0\" >2</td>\n",
              "      <td id=\"T_9ea82_row2_col1\" class=\"data row2 col1\" >0.129500</td>\n",
              "    </tr>\n",
              "  </tbody>\n",
              "</table>\n"
            ]
          },
          "metadata": {},
          "execution_count": 111
        }
      ],
      "source": [
        "rows = [i for i in range(order)]\n",
        "\n",
        "percent = {}\n",
        "for r in rows:\n",
        "  percent[r] = picked_lags.count(r) / len(picked_lags)\n",
        "\n",
        "percent_df = pd.DataFrame(percent.items(), columns=[\"Lag\", \"%\"])\n",
        "percent_df.style.hide_index()\n",
        "\n"
      ]
    },
    {
      "cell_type": "code",
      "execution_count": null,
      "metadata": {
        "colab": {
          "base_uri": "https://localhost:8080/"
        },
        "id": "a0cqMGKRi2o9",
        "outputId": "c3a2e8ee-ae69-443b-aaaf-9f51d3609fb1"
      },
      "outputs": [
        {
          "output_type": "execute_result",
          "data": {
            "text/plain": [
              "22000"
            ]
          },
          "metadata": {},
          "execution_count": 112
        }
      ],
      "source": [
        "len(picked_lags)"
      ]
    },
    {
      "cell_type": "code",
      "execution_count": null,
      "metadata": {
        "id": "ezZlKcBtGdh3"
      },
      "outputs": [],
      "source": [
        "# Now we can calulate the averge performance of each model across all 1000 trials\n",
        "\n",
        "def average(lst):\n",
        "    return sum(lst) / len(lst)\n",
        "\n",
        "percentage_dict = {}\n",
        "for key, values in experiment_results.items():\n",
        "    result = round(average(values) * 100,2)\n",
        "    percentage_dict[key] = f\"{result}%\"\n",
        "\n",
        "testing_results = pd.DataFrame(percentage_dict.items(), columns=[\"Model\", \"Training Accuracy\"])\n",
        "\n",
        "testing_results = testing_results.sort_values(\"Training Accuracy\", ascending=False)"
      ]
    },
    {
      "cell_type": "markdown",
      "metadata": {
        "id": "4s7BvPsBkHK4"
      },
      "source": [
        "## Results of the experiment "
      ]
    },
    {
      "cell_type": "code",
      "execution_count": null,
      "metadata": {
        "colab": {
          "base_uri": "https://localhost:8080/",
          "height": 175
        },
        "id": "HyT8oi7HkCFm",
        "outputId": "386d7aec-6e6b-4e63-f0d5-92f2ba6be595"
      },
      "outputs": [
        {
          "output_type": "execute_result",
          "data": {
            "text/plain": [
              "<pandas.io.formats.style.Styler at 0x7ff3c8213910>"
            ],
            "text/html": [
              "<style type=\"text/css\">\n",
              "</style>\n",
              "<table id=\"T_b9070_\" class=\"dataframe\">\n",
              "  <thead>\n",
              "    <tr>\n",
              "      <th class=\"col_heading level0 col0\" >Model</th>\n",
              "      <th class=\"col_heading level0 col1\" >Training Accuracy</th>\n",
              "    </tr>\n",
              "  </thead>\n",
              "  <tbody>\n",
              "    <tr>\n",
              "      <td id=\"T_b9070_row0_col0\" class=\"data row0 col0\" >MMC</td>\n",
              "      <td id=\"T_b9070_row0_col1\" class=\"data row0 col1\" >50.88%</td>\n",
              "    </tr>\n",
              "    <tr>\n",
              "      <td id=\"T_b9070_row1_col0\" class=\"data row1 col0\" >MTD</td>\n",
              "      <td id=\"T_b9070_row1_col1\" class=\"data row1 col1\" >48.19%</td>\n",
              "    </tr>\n",
              "    <tr>\n",
              "      <td id=\"T_b9070_row2_col0\" class=\"data row2 col0\" >FMC</td>\n",
              "      <td id=\"T_b9070_row2_col1\" class=\"data row2 col1\" >47.64%</td>\n",
              "    </tr>\n",
              "    <tr>\n",
              "      <td id=\"T_b9070_row3_col0\" class=\"data row3 col0\" >HMC</td>\n",
              "      <td id=\"T_b9070_row3_col1\" class=\"data row3 col1\" >37.63%</td>\n",
              "    </tr>\n",
              "  </tbody>\n",
              "</table>\n"
            ]
          },
          "metadata": {},
          "execution_count": 130
        }
      ],
      "source": [
        "testing_results.style.hide_index()\n"
      ]
    },
    {
      "cell_type": "code",
      "execution_count": null,
      "metadata": {
        "id": "Rvb54DzDcDdP"
      },
      "outputs": [],
      "source": []
    },
    {
      "cell_type": "markdown",
      "metadata": {
        "id": "ZB0OreSOj2ko"
      },
      "source": [
        "## Perform an independent ttest on all trials "
      ]
    },
    {
      "cell_type": "code",
      "execution_count": null,
      "metadata": {
        "colab": {
          "base_uri": "https://localhost:8080/",
          "height": 81
        },
        "id": "jU5Ftp63VOLT",
        "outputId": "0d450980-4f3d-4bab-f90d-c942e032dac8"
      },
      "outputs": [
        {
          "output_type": "execute_result",
          "data": {
            "text/plain": [
              "   MMC-FMC  MMC-HMC  MMC-MTD\n",
              "0    0.000    0.000    0.000"
            ],
            "text/html": [
              "\n",
              "  <div id=\"df-18287717-00f7-4c83-b089-5d493d4c7998\">\n",
              "    <div class=\"colab-df-container\">\n",
              "      <div>\n",
              "<style scoped>\n",
              "    .dataframe tbody tr th:only-of-type {\n",
              "        vertical-align: middle;\n",
              "    }\n",
              "\n",
              "    .dataframe tbody tr th {\n",
              "        vertical-align: top;\n",
              "    }\n",
              "\n",
              "    .dataframe thead th {\n",
              "        text-align: right;\n",
              "    }\n",
              "</style>\n",
              "<table border=\"1\" class=\"dataframe\">\n",
              "  <thead>\n",
              "    <tr style=\"text-align: right;\">\n",
              "      <th></th>\n",
              "      <th>MMC-FMC</th>\n",
              "      <th>MMC-HMC</th>\n",
              "      <th>MMC-MTD</th>\n",
              "    </tr>\n",
              "  </thead>\n",
              "  <tbody>\n",
              "    <tr>\n",
              "      <th>0</th>\n",
              "      <td>0.000</td>\n",
              "      <td>0.000</td>\n",
              "      <td>0.000</td>\n",
              "    </tr>\n",
              "  </tbody>\n",
              "</table>\n",
              "</div>\n",
              "      <button class=\"colab-df-convert\" onclick=\"convertToInteractive('df-18287717-00f7-4c83-b089-5d493d4c7998')\"\n",
              "              title=\"Convert this dataframe to an interactive table.\"\n",
              "              style=\"display:none;\">\n",
              "        \n",
              "  <svg xmlns=\"http://www.w3.org/2000/svg\" height=\"24px\"viewBox=\"0 0 24 24\"\n",
              "       width=\"24px\">\n",
              "    <path d=\"M0 0h24v24H0V0z\" fill=\"none\"/>\n",
              "    <path d=\"M18.56 5.44l.94 2.06.94-2.06 2.06-.94-2.06-.94-.94-2.06-.94 2.06-2.06.94zm-11 1L8.5 8.5l.94-2.06 2.06-.94-2.06-.94L8.5 2.5l-.94 2.06-2.06.94zm10 10l.94 2.06.94-2.06 2.06-.94-2.06-.94-.94-2.06-.94 2.06-2.06.94z\"/><path d=\"M17.41 7.96l-1.37-1.37c-.4-.4-.92-.59-1.43-.59-.52 0-1.04.2-1.43.59L10.3 9.45l-7.72 7.72c-.78.78-.78 2.05 0 2.83L4 21.41c.39.39.9.59 1.41.59.51 0 1.02-.2 1.41-.59l7.78-7.78 2.81-2.81c.8-.78.8-2.07 0-2.86zM5.41 20L4 18.59l7.72-7.72 1.47 1.35L5.41 20z\"/>\n",
              "  </svg>\n",
              "      </button>\n",
              "      \n",
              "  <style>\n",
              "    .colab-df-container {\n",
              "      display:flex;\n",
              "      flex-wrap:wrap;\n",
              "      gap: 12px;\n",
              "    }\n",
              "\n",
              "    .colab-df-convert {\n",
              "      background-color: #E8F0FE;\n",
              "      border: none;\n",
              "      border-radius: 50%;\n",
              "      cursor: pointer;\n",
              "      display: none;\n",
              "      fill: #1967D2;\n",
              "      height: 32px;\n",
              "      padding: 0 0 0 0;\n",
              "      width: 32px;\n",
              "    }\n",
              "\n",
              "    .colab-df-convert:hover {\n",
              "      background-color: #E2EBFA;\n",
              "      box-shadow: 0px 1px 2px rgba(60, 64, 67, 0.3), 0px 1px 3px 1px rgba(60, 64, 67, 0.15);\n",
              "      fill: #174EA6;\n",
              "    }\n",
              "\n",
              "    [theme=dark] .colab-df-convert {\n",
              "      background-color: #3B4455;\n",
              "      fill: #D2E3FC;\n",
              "    }\n",
              "\n",
              "    [theme=dark] .colab-df-convert:hover {\n",
              "      background-color: #434B5C;\n",
              "      box-shadow: 0px 1px 3px 1px rgba(0, 0, 0, 0.15);\n",
              "      filter: drop-shadow(0px 1px 2px rgba(0, 0, 0, 0.3));\n",
              "      fill: #FFFFFF;\n",
              "    }\n",
              "  </style>\n",
              "\n",
              "      <script>\n",
              "        const buttonEl =\n",
              "          document.querySelector('#df-18287717-00f7-4c83-b089-5d493d4c7998 button.colab-df-convert');\n",
              "        buttonEl.style.display =\n",
              "          google.colab.kernel.accessAllowed ? 'block' : 'none';\n",
              "\n",
              "        async function convertToInteractive(key) {\n",
              "          const element = document.querySelector('#df-18287717-00f7-4c83-b089-5d493d4c7998');\n",
              "          const dataTable =\n",
              "            await google.colab.kernel.invokeFunction('convertToInteractive',\n",
              "                                                     [key], {});\n",
              "          if (!dataTable) return;\n",
              "\n",
              "          const docLinkHtml = 'Like what you see? Visit the ' +\n",
              "            '<a target=\"_blank\" href=https://colab.research.google.com/notebooks/data_table.ipynb>data table notebook</a>'\n",
              "            + ' to learn more about interactive tables.';\n",
              "          element.innerHTML = '';\n",
              "          dataTable['output_type'] = 'display_data';\n",
              "          await google.colab.output.renderOutput(dataTable, element);\n",
              "          const docLink = document.createElement('div');\n",
              "          docLink.innerHTML = docLinkHtml;\n",
              "          element.appendChild(docLink);\n",
              "        }\n",
              "      </script>\n",
              "    </div>\n",
              "  </div>\n",
              "  "
            ]
          },
          "metadata": {},
          "execution_count": 102
        }
      ],
      "source": [
        "\"# Now let's do the T_TEST\"\n",
        "t_test_df = perform_ttest(methods, experiment_results)\n",
        "pd.set_option('display.float_format','{:.3f}'.format)\n",
        "t_test_df"
      ]
    },
    {
      "cell_type": "markdown",
      "metadata": {
        "id": "uT4UN_UP-Dxn"
      },
      "source": [
        "## Final experiment results "
      ]
    },
    {
      "cell_type": "code",
      "execution_count": null,
      "metadata": {
        "colab": {
          "base_uri": "https://localhost:8080/",
          "height": 710
        },
        "id": "UFZ6m4ty7Oyv",
        "outputId": "ca65a1ad-4b18-49b3-9e5a-09940f6ff8a4"
      },
      "outputs": [
        {
          "output_type": "stream",
          "name": "stdout",
          "text": [
            "Experiment Description\n"
          ]
        },
        {
          "output_type": "display_data",
          "data": {
            "text/plain": [
              "<pandas.io.formats.style.Styler at 0x7ff3c74657c0>"
            ],
            "text/html": [
              "<style type=\"text/css\">\n",
              "</style>\n",
              "<table id=\"T_29322_\" class=\"dataframe\">\n",
              "  <thead>\n",
              "    <tr>\n",
              "      <th class=\"col_heading level0 col0\" >Param</th>\n",
              "      <th class=\"col_heading level0 col1\" >Value</th>\n",
              "    </tr>\n",
              "  </thead>\n",
              "  <tbody>\n",
              "    <tr>\n",
              "      <td id=\"T_29322_row0_col0\" class=\"data row0 col0\" >Dataset</td>\n",
              "      <td id=\"T_29322_row0_col1\" class=\"data row0 col1\" >Inflation</td>\n",
              "    </tr>\n",
              "    <tr>\n",
              "      <td id=\"T_29322_row1_col0\" class=\"data row1 col0\" >Order</td>\n",
              "      <td id=\"T_29322_row1_col1\" class=\"data row1 col1\" >3</td>\n",
              "    </tr>\n",
              "    <tr>\n",
              "      <td id=\"T_29322_row2_col0\" class=\"data row2 col0\" >Dataset Size</td>\n",
              "      <td id=\"T_29322_row2_col1\" class=\"data row2 col1\" >176</td>\n",
              "    </tr>\n",
              "    <tr>\n",
              "      <td id=\"T_29322_row3_col0\" class=\"data row3 col0\" >State Size</td>\n",
              "      <td id=\"T_29322_row3_col1\" class=\"data row3 col1\" >7</td>\n",
              "    </tr>\n",
              "    <tr>\n",
              "      <td id=\"T_29322_row4_col0\" class=\"data row4 col0\" >Std Deviation</td>\n",
              "      <td id=\"T_29322_row4_col1\" class=\"data row4 col1\" >0.055243</td>\n",
              "    </tr>\n",
              "    <tr>\n",
              "      <td id=\"T_29322_row5_col0\" class=\"data row5 col0\" ># of Trials</td>\n",
              "      <td id=\"T_29322_row5_col1\" class=\"data row5 col1\" >500</td>\n",
              "    </tr>\n",
              "  </tbody>\n",
              "</table>\n"
            ]
          },
          "metadata": {}
        },
        {
          "output_type": "stream",
          "name": "stdout",
          "text": [
            "\n",
            "Accuracy\n"
          ]
        },
        {
          "output_type": "display_data",
          "data": {
            "text/plain": [
              "<pandas.io.formats.style.Styler at 0x7ff3c74657c0>"
            ],
            "text/html": [
              "<style type=\"text/css\">\n",
              "</style>\n",
              "<table id=\"T_d0994_\" class=\"dataframe\">\n",
              "  <thead>\n",
              "    <tr>\n",
              "      <th class=\"col_heading level0 col0\" >Model</th>\n",
              "      <th class=\"col_heading level0 col1\" >Training Accuracy</th>\n",
              "    </tr>\n",
              "  </thead>\n",
              "  <tbody>\n",
              "    <tr>\n",
              "      <td id=\"T_d0994_row0_col0\" class=\"data row0 col0\" >MMC</td>\n",
              "      <td id=\"T_d0994_row0_col1\" class=\"data row0 col1\" >50.87%</td>\n",
              "    </tr>\n",
              "    <tr>\n",
              "      <td id=\"T_d0994_row1_col0\" class=\"data row1 col0\" >MTD</td>\n",
              "      <td id=\"T_d0994_row1_col1\" class=\"data row1 col1\" >48.24%</td>\n",
              "    </tr>\n",
              "    <tr>\n",
              "      <td id=\"T_d0994_row2_col0\" class=\"data row2 col0\" >FMC</td>\n",
              "      <td id=\"T_d0994_row2_col1\" class=\"data row2 col1\" >47.96%</td>\n",
              "    </tr>\n",
              "    <tr>\n",
              "      <td id=\"T_d0994_row3_col0\" class=\"data row3 col0\" >HMC</td>\n",
              "      <td id=\"T_d0994_row3_col1\" class=\"data row3 col1\" >38.1%</td>\n",
              "    </tr>\n",
              "  </tbody>\n",
              "</table>\n"
            ]
          },
          "metadata": {}
        },
        {
          "output_type": "stream",
          "name": "stdout",
          "text": [
            "\n",
            "T_Test\n"
          ]
        },
        {
          "output_type": "display_data",
          "data": {
            "text/plain": [
              "<pandas.io.formats.style.Styler at 0x7ff3c84daa90>"
            ],
            "text/html": [
              "<style type=\"text/css\">\n",
              "</style>\n",
              "<table id=\"T_93634_\" class=\"dataframe\">\n",
              "  <thead>\n",
              "    <tr>\n",
              "      <th class=\"col_heading level0 col0\" >MMC-FMC</th>\n",
              "      <th class=\"col_heading level0 col1\" >MMC-HMC</th>\n",
              "      <th class=\"col_heading level0 col2\" >MMC-MTD</th>\n",
              "    </tr>\n",
              "  </thead>\n",
              "  <tbody>\n",
              "    <tr>\n",
              "      <td id=\"T_93634_row0_col0\" class=\"data row0 col0\" >0.000000</td>\n",
              "      <td id=\"T_93634_row0_col1\" class=\"data row0 col1\" >0.000000</td>\n",
              "      <td id=\"T_93634_row0_col2\" class=\"data row0 col2\" >0.000000</td>\n",
              "    </tr>\n",
              "  </tbody>\n",
              "</table>\n"
            ]
          },
          "metadata": {}
        },
        {
          "output_type": "stream",
          "name": "stdout",
          "text": [
            "\n",
            "Lag Position %\n"
          ]
        },
        {
          "output_type": "display_data",
          "data": {
            "text/plain": [
              "<pandas.io.formats.style.Styler at 0x7ff3c74657c0>"
            ],
            "text/html": [
              "<style type=\"text/css\">\n",
              "</style>\n",
              "<table id=\"T_e6115_\" class=\"dataframe\">\n",
              "  <thead>\n",
              "    <tr>\n",
              "      <th class=\"col_heading level0 col0\" >Lag</th>\n",
              "      <th class=\"col_heading level0 col1\" >%</th>\n",
              "    </tr>\n",
              "  </thead>\n",
              "  <tbody>\n",
              "    <tr>\n",
              "      <td id=\"T_e6115_row0_col0\" class=\"data row0 col0\" >0</td>\n",
              "      <td id=\"T_e6115_row0_col1\" class=\"data row0 col1\" >0.640136</td>\n",
              "    </tr>\n",
              "    <tr>\n",
              "      <td id=\"T_e6115_row1_col0\" class=\"data row1 col0\" >1</td>\n",
              "      <td id=\"T_e6115_row1_col1\" class=\"data row1 col1\" >0.231136</td>\n",
              "    </tr>\n",
              "    <tr>\n",
              "      <td id=\"T_e6115_row2_col0\" class=\"data row2 col0\" >2</td>\n",
              "      <td id=\"T_e6115_row2_col1\" class=\"data row2 col1\" >0.128727</td>\n",
              "    </tr>\n",
              "  </tbody>\n",
              "</table>\n"
            ]
          },
          "metadata": {}
        }
      ],
      "source": [
        "\n",
        "params = {\n",
        "          \"Dataset\": \"Inflation\",\n",
        "          \"Order\":order, \n",
        "          \"Dataset Size\": len(x_tr),\n",
        "          \"State Size\": len(df.state_change.unique()),\n",
        "          \"Std Deviation\": std,\n",
        "          \"# of Trials\": amount_to_average\n",
        "          }\n",
        "\n",
        "experiment_params = pd.DataFrame(params.items(), columns=[\"Param\", \"Value\"])\n",
        "\n",
        "print(\"Experiment Description\")\n",
        "display(experiment_params.style.hide_index())\n",
        "print(\"\")\n",
        "\n",
        "print(\"Accuracy\")\n",
        "display(testing_results.style.hide_index())\n",
        "print(\"\")\n",
        "print(\"T_Test\")\n",
        "display(t_test_df.style.hide_index())\n",
        "print(\"\")\n",
        "print(\"Lag Position %\")\n",
        "display(percent_df.style.hide_index())"
      ]
    },
    {
      "cell_type": "markdown",
      "metadata": {
        "id": "2oYUjX67jocS"
      },
      "source": [
        "## Here are the results in LATEX:"
      ]
    },
    {
      "cell_type": "code",
      "execution_count": null,
      "metadata": {
        "colab": {
          "base_uri": "https://localhost:8080/",
          "height": 323
        },
        "id": "I89iCHAbjrL9",
        "outputId": "5861a9d0-f698-4c35-a5e4-6a8742f26e53"
      },
      "outputs": [
        {
          "output_type": "stream",
          "name": "stdout",
          "text": [
            "Experiment Description\n"
          ]
        },
        {
          "output_type": "display_data",
          "data": {
            "text/plain": [
              "'\\\\begin{tabular}{ll}\\n{Param} & {Value} \\\\\\\\\\nDataset & Inflation \\\\\\\\\\nOrder & 3 \\\\\\\\\\nDataset Size & 176 \\\\\\\\\\nState Size & 7 \\\\\\\\\\nStd Deviation & 0.055243 \\\\\\\\\\n# of Trials & 500 \\\\\\\\\\n\\\\end{tabular}\\n'"
            ],
            "application/vnd.google.colaboratory.intrinsic+json": {
              "type": "string"
            }
          },
          "metadata": {}
        },
        {
          "output_type": "stream",
          "name": "stdout",
          "text": [
            "\n",
            "Accuracy\n"
          ]
        },
        {
          "output_type": "display_data",
          "data": {
            "text/plain": [
              "'\\\\begin{tabular}{ll}\\n{Model} & {Training Accuracy} \\\\\\\\\\nMMC & 50.87% \\\\\\\\\\nMTD & 48.24% \\\\\\\\\\nFMC & 47.96% \\\\\\\\\\nHMC & 38.1% \\\\\\\\\\n\\\\end{tabular}\\n'"
            ],
            "application/vnd.google.colaboratory.intrinsic+json": {
              "type": "string"
            }
          },
          "metadata": {}
        },
        {
          "output_type": "stream",
          "name": "stdout",
          "text": [
            "\n",
            "T_Test\n"
          ]
        },
        {
          "output_type": "display_data",
          "data": {
            "text/plain": [
              "'\\\\begin{tabular}{rrr}\\n{MMC-FMC} & {MMC-HMC} & {MMC-MTD} \\\\\\\\\\n0.000000 & 0.000000 & 0.000000 \\\\\\\\\\n\\\\end{tabular}\\n'"
            ],
            "application/vnd.google.colaboratory.intrinsic+json": {
              "type": "string"
            }
          },
          "metadata": {}
        },
        {
          "output_type": "stream",
          "name": "stdout",
          "text": [
            "\n",
            "Lag Position %\n"
          ]
        },
        {
          "output_type": "display_data",
          "data": {
            "text/plain": [
              "'\\\\begin{tabular}{rr}\\n{Lag} & {%} \\\\\\\\\\n0 & 0.640136 \\\\\\\\\\n1 & 0.231136 \\\\\\\\\\n2 & 0.128727 \\\\\\\\\\n\\\\end{tabular}\\n'"
            ],
            "application/vnd.google.colaboratory.intrinsic+json": {
              "type": "string"
            }
          },
          "metadata": {}
        }
      ],
      "source": [
        "\n",
        "params = {\n",
        "          \"Dataset\": \"Inflation\",\n",
        "          \"Order\":order, \n",
        "          \"Dataset Size\": len(x_tr),\n",
        "          \"State Size\": len(df.state_change.unique()),\n",
        "          \"Std Deviation\": std,\n",
        "          \"# of Trials\": amount_to_average\n",
        "          }\n",
        "\n",
        "experiment_params = pd.DataFrame(params.items(), columns=[\"Param\", \"Value\"])\n",
        "\n",
        "print(\"Experiment Description\")\n",
        "display(experiment_params.style.hide_index().to_latex())\n",
        "print(\"\")\n",
        "\n",
        "print(\"Accuracy\")\n",
        "display(testing_results.style.hide_index().to_latex())\n",
        "print(\"\")\n",
        "print(\"T_Test\")\n",
        "display(t_test_df.style.hide_index().to_latex())\n",
        "print(\"\")\n",
        "print(\"Lag Position %\")\n",
        "display(percent_df.style.hide_index().to_latex())"
      ]
    },
    {
      "cell_type": "markdown",
      "metadata": {
        "id": "6qkD08HxMIoR"
      },
      "source": [
        "## Experiment Description \n",
        "\n",
        "[Data Source](https://https://www.minneapolisfed.org/about-us/monetary-policy/inflation-calculator/consumer-price-index-1913-)\n",
        "\n",
        "In this experiment we are taking the inflationary data from the US CPI from 1821 to 1999 as is used in \"[The Mixture Transition Distribution Model for High-Order Markov Chains and Non-Gaussian Time Series](https://projecteuclid.org/journals/statistical-science/volume-17/issue-3/The-Mixture-Transition-Distribution-Model-for-High-Order-Markov-Chains/10.1214/ss/1042727943.full)\". This consits of a total of 179 observations. In order to transform this data into a state representation we divide the dataset in accordance to how it lies within the distribution of it's standard deviation. A \"drop\" state lies within 0 and -std, big drop within -std and -2std and bigger drop within -2std and -3std. And vice versa for the ranges between 0 and 2std. This results in a total state space of 6. \n",
        "\n",
        "Now since this dataset is a mere 179 observations, we will need to run 1000 trials splitting up the data into training and testing randomly each iteration in an effort to have an acceptable sample size.  Once complete, we calculate the average performance of each model across all 1000 trials.\n",
        "\n",
        "To Summarize:\n",
        "*   Order: 3 \n",
        "*   Dataset Size: 176\n",
        "*   Sate Size: 8\n",
        "*   Standard Deviation of CPI Data = 0.05524291401896159\n",
        "*   Average of 500 trials\n",
        "\n",
        "\n",
        "It is important to note that MMC is using misalignments and is using a greedy SGO identification technique. \n",
        "\n",
        "\n"
      ]
    }
  ],
  "metadata": {
    "colab": {
      "provenance": []
    },
    "kernelspec": {
      "display_name": "Python 3",
      "name": "python3"
    },
    "language_info": {
      "name": "python"
    }
  },
  "nbformat": 4,
  "nbformat_minor": 0
}