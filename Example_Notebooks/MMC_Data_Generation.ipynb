{
 "cells": [
  {
   "cell_type": "code",
   "execution_count": 18,
   "metadata": {
    "ExecuteTime": {
     "end_time": "2020-04-25T14:32:10.974865Z",
     "start_time": "2020-04-25T14:32:10.227208Z"
    },
    "pycharm": {
     "name": "#%%\n"
    }
   },
   "outputs": [
    {
     "name": "stdout",
     "output_type": "stream",
     "text": [
      "The autoreload extension is already loaded. To reload it, use:\n",
      "  %reload_ext autoreload\n"
     ]
    }
   ],
   "source": [
    "import numpy as np\n",
    "import matplotlib.pyplot as plt\n",
    "import pandas as pd\n",
    "from Models.MMC import MMC, sgo_types\n",
    "import datetime\n",
    "import random\n",
    "from numpy.random import choice\n",
    "from markov import MarkovChain\n",
    "from Models.MMC import MMC, sgo_types\n",
    "from Models.CAP import CAP\n",
    "from Models.HMC import HMC\n",
    "from Models.FMC import FMC\n",
    "\n",
    "from Models.MAX import MAX\n",
    "\n",
    "from Datasets import Markov_Data, MMC_Data, Fruit_Data\n",
    "\n",
    "from mtdlearn.mtd import MTD\n",
    "from mtdlearn.datasets import ChainGenerator\n",
    "\n",
    "from sklearn.model_selection import train_test_split\n",
    "\n",
    "import warnings\n",
    "warnings.filterwarnings(\"ignore\")\n",
    "\n",
    "%load_ext autoreload\n",
    "%autoreload 2"
   ]
  },
  {
   "cell_type": "markdown",
   "metadata": {
    "pycharm": {
     "name": "#%% md\n"
    }
   },
   "source": [
    "## Generate data\n",
    "First, generate a standard 1st order Markov Model cg."
   ]
  },
  {
   "cell_type": "code",
   "execution_count": null,
   "outputs": [],
   "source": [
    "states = ('A', 'B', 'C', 'D')\n",
    "order = 3\n",
    "dataset_size = 2000\n",
    "cg = ChainGenerator(states, order=1, min_len= 3, max_len= 3)"
   ],
   "metadata": {
    "collapsed": false,
    "pycharm": {
     "name": "#%%\n"
    }
   }
  },
  {
   "cell_type": "code",
   "execution_count": 142,
   "outputs": [
    {
     "data": {
      "text/plain": "array([[0.34532058, 0.37017921, 0.24721113, 0.03728908],\n       [0.0302618 , 0.42666673, 0.13088301, 0.41218846],\n       [0.1370596 , 0.17778852, 0.28516126, 0.39999062],\n       [0.40679655, 0.10643655, 0.13675736, 0.35000954]])"
     },
     "execution_count": 142,
     "metadata": {},
     "output_type": "execute_result"
    }
   ],
   "source": [
    "cg.transition_matrix"
   ],
   "metadata": {
    "collapsed": false,
    "pycharm": {
     "name": "#%%\n"
    }
   }
  },
  {
   "cell_type": "code",
   "execution_count": 5,
   "outputs": [
    {
     "data": {
      "text/plain": "[array([[3, 0, 0],\n        [3, 0, 3],\n        [3, 1, 1],\n        ...,\n        [2, 3, 2],\n        [1, 2, 2],\n        [3, 1, 1]]),\n array([[2, 0, 3],\n        [1, 0, 1],\n        [3, 1, 3],\n        ...,\n        [2, 1, 1],\n        [0, 1, 2],\n        [0, 0, 2]]),\n array([1, 1, 1, ..., 0, 2, 0]),\n array([2, 3, 1, ..., 0, 2, 1])]"
     },
     "execution_count": 5,
     "metadata": {},
     "output_type": "execute_result"
    }
   ],
   "source": [
    "MMC_Data.MMC_data.gen_data(4,3,20000)"
   ],
   "metadata": {
    "collapsed": false,
    "pycharm": {
     "name": "#%%\n"
    }
   }
  },
  {
   "cell_type": "markdown",
   "source": [
    "## Randomly Select One SGO\n",
    "Now from the set of all SGOs randomly select one SGO"
   ],
   "metadata": {
    "collapsed": false,
    "pycharm": {
     "name": "#%% md\n"
    }
   }
  },
  {
   "cell_type": "code",
   "execution_count": 133,
   "outputs": [],
   "source": [
    "labels = {v: k for k, v in cg._label_dict.items()}\n",
    "state_num = list(labels.values())\n",
    "SGO = random.sample(state_num, len(state_num))\n",
    "x = [random.choices(state_num, k=order) for i in range(dataset_size)]\n",
    "y = [choice(state_num, 1, p=cg.transition_matrix[MMC.find_high(x_, SGO)])[0] for x_ in x ]"
   ],
   "metadata": {
    "collapsed": false,
    "pycharm": {
     "name": "#%%\n"
    }
   }
  },
  {
   "cell_type": "code",
   "execution_count": 117,
   "outputs": [
    {
     "data": {
      "text/plain": "[2, 3, 1, 0]"
     },
     "execution_count": 117,
     "metadata": {},
     "output_type": "execute_result"
    }
   ],
   "source": [
    "SGO"
   ],
   "metadata": {
    "collapsed": false,
    "pycharm": {
     "name": "#%%\n"
    }
   }
  },
  {
   "cell_type": "code",
   "execution_count": 118,
   "outputs": [
    {
     "data": {
      "text/plain": "dict_values([0, 1, 2, 3])"
     },
     "execution_count": 118,
     "metadata": {},
     "output_type": "execute_result"
    }
   ],
   "source": [
    "labels.values()"
   ],
   "metadata": {
    "collapsed": false,
    "pycharm": {
     "name": "#%%\n"
    }
   }
  },
  {
   "cell_type": "markdown",
   "source": [
    "## Generate input and output data\n",
    "First we will generate 100,000 random sequences of order 3 states. Then we will select the highest order state from each sequence and sample from it's associated entry in the markov table.\n",
    "\n",
    "For example, if the episode is ['C', 'B', 'C'] and the SGO ['C', 'A', 'D', 'B'], the 'C' distribution will be used to generate the output."
   ],
   "metadata": {
    "collapsed": false,
    "pycharm": {
     "name": "#%% md\n"
    }
   }
  },
  {
   "cell_type": "code",
   "execution_count": 28,
   "outputs": [
    {
     "name": "stdout",
     "output_type": "stream",
     "text": [
      "[[0.1899279  0.4559948  0.04866433 0.30541297]\n",
      " [0.24372757 0.50495051 0.03226755 0.21905437]\n",
      " [0.01566661 0.09741709 0.13090704 0.75600927]\n",
      " [0.13590479 0.43521085 0.3003318  0.12855257]]\n",
      "[2, 1, 0, 3]\n"
     ]
    }
   ],
   "source": [
    "state_count = 4\n",
    "X_train, X_test, y_train, y_test = MMC_Data.MMC_data.gen_data(state_count, 3, 20000, True)## Fitting model"
   ],
   "metadata": {
    "collapsed": false,
    "pycharm": {
     "name": "#%%\n"
    }
   }
  },
  {
   "cell_type": "markdown",
   "source": [],
   "metadata": {
    "collapsed": false,
    "pycharm": {
     "name": "#%% md\n"
    }
   }
  },
  {
   "cell_type": "code",
   "execution_count": 90,
   "outputs": [
    {
     "ename": "TypeError",
     "evalue": "MMC.__init__() got an unexpected keyword argument 'X_train'",
     "output_type": "error",
     "traceback": [
      "\u001B[0;31m---------------------------------------------------------------------------\u001B[0m",
      "\u001B[0;31mTypeError\u001B[0m                                 Traceback (most recent call last)",
      "Input \u001B[0;32mIn [90]\u001B[0m, in \u001B[0;36m<cell line: 4>\u001B[0;34m()\u001B[0m\n\u001B[1;32m      1\u001B[0m arguments \u001B[38;5;241m=\u001B[39m {\u001B[38;5;124m\"\u001B[39m\u001B[38;5;124mX_train\u001B[39m\u001B[38;5;124m\"\u001B[39m:X_train,\u001B[38;5;124m\"\u001B[39m\u001B[38;5;124my_train\u001B[39m\u001B[38;5;124m\"\u001B[39m:y_train,\u001B[38;5;124m\"\u001B[39m\u001B[38;5;124mstates\u001B[39m\u001B[38;5;124m\"\u001B[39m:labels}\n\u001B[1;32m      3\u001B[0m arguments[\u001B[38;5;124m\"\u001B[39m\u001B[38;5;124msgo_method\u001B[39m\u001B[38;5;124m\"\u001B[39m] \u001B[38;5;241m=\u001B[39m sgo_types\u001B[38;5;241m.\u001B[39mhillclimb\n\u001B[0;32m----> 4\u001B[0m model0 \u001B[38;5;241m=\u001B[39m \u001B[43mMMC\u001B[49m\u001B[43m(\u001B[49m\u001B[38;5;241;43m*\u001B[39;49m\u001B[38;5;241;43m*\u001B[39;49m\u001B[43marguments\u001B[49m\u001B[43m)\u001B[49m\n\u001B[1;32m      6\u001B[0m arguments[\u001B[38;5;124m\"\u001B[39m\u001B[38;5;124msgo_method\u001B[39m\u001B[38;5;124m\"\u001B[39m] \u001B[38;5;241m=\u001B[39m sgo_types\u001B[38;5;241m.\u001B[39mgreedy\n\u001B[1;32m      7\u001B[0m model1 \u001B[38;5;241m=\u001B[39m MMC(arguments)\n",
      "\u001B[0;31mTypeError\u001B[0m: MMC.__init__() got an unexpected keyword argument 'X_train'"
     ]
    }
   ],
   "source": [
    "\n",
    "arguments = {\"X_train\":X_train,\"y_train\":y_train,\"states\":labels}\n",
    "\n",
    "arguments[\"sgo_method\"] = sgo_types.hillclimb\n",
    "model0 = MMC(**arguments)\n",
    "\n",
    "arguments[\"sgo_method\"] = sgo_types.greedy\n",
    "model1 = MMC(arguments)\n",
    "\n",
    "arguments[\"sgo_method\"] = sgo_types.full\n",
    "model2 = MMC(arguments)\n"
   ],
   "metadata": {
    "collapsed": false,
    "pycharm": {
     "name": "#%%\n"
    }
   }
  },
  {
   "cell_type": "markdown",
   "source": [
    "## Convert Probabilities\n",
    "Now we will convert the dictionary format into a traditional CPT table format"
   ],
   "metadata": {
    "collapsed": false,
    "pycharm": {
     "name": "#%% md\n"
    }
   }
  },
  {
   "cell_type": "markdown",
   "source": [
    "Now we must compare these two arrays to verify training is done accurately"
   ],
   "metadata": {
    "collapsed": false,
    "pycharm": {
     "name": "#%% md\n"
    }
   }
  },
  {
   "cell_type": "code",
   "execution_count": null,
   "outputs": [
    {
     "ename": "KeyboardInterrupt",
     "evalue": "",
     "output_type": "error",
     "traceback": [
      "\u001B[0;31m---------------------------------------------------------------------------\u001B[0m",
      "\u001B[0;31mKeyboardInterrupt\u001B[0m                         Traceback (most recent call last)",
      "Input \u001B[0;32mIn [20]\u001B[0m, in \u001B[0;36m<cell line: 11>\u001B[0;34m()\u001B[0m\n\u001B[1;32m     19\u001B[0m \u001B[38;5;28;01mfor\u001B[39;00m m \u001B[38;5;129;01min\u001B[39;00m methods:\n\u001B[1;32m     20\u001B[0m     model \u001B[38;5;241m=\u001B[39m m(state_count, order\u001B[38;5;241m=\u001B[39mo)\n\u001B[0;32m---> 21\u001B[0m     results_training\u001B[38;5;241m.\u001B[39mappend(\u001B[43mMarkovChain\u001B[49m\u001B[38;5;241;43m.\u001B[39;49m\u001B[43mcalculate_time\u001B[49m\u001B[43m(\u001B[49m\u001B[43mmodel\u001B[49m\u001B[38;5;241;43m.\u001B[39;49m\u001B[43mtrain\u001B[49m\u001B[43m,\u001B[49m\u001B[43m \u001B[49m\u001B[43margs_training\u001B[49m\u001B[43m)\u001B[49m)\n\u001B[1;32m     22\u001B[0m     results_testing\u001B[38;5;241m.\u001B[39mappend(MarkovChain\u001B[38;5;241m.\u001B[39mcalculate_time(model\u001B[38;5;241m.\u001B[39mtest, args_testing))\n\u001B[1;32m     24\u001B[0m training_master\u001B[38;5;241m.\u001B[39mappend(results_training)\n",
      "File \u001B[0;32m/mnt/watchandhelp/PycharmProjects/HOMarkov/markov.py:67\u001B[0m, in \u001B[0;36mMarkovChain.calculate_time\u001B[0;34m(function, args)\u001B[0m\n\u001B[1;32m     64\u001B[0m \u001B[38;5;129m@staticmethod\u001B[39m\n\u001B[1;32m     65\u001B[0m \u001B[38;5;28;01mdef\u001B[39;00m \u001B[38;5;21mcalculate_time\u001B[39m(function, args):\n\u001B[1;32m     66\u001B[0m     time \u001B[38;5;241m=\u001B[39m datetime\u001B[38;5;241m.\u001B[39mdatetime\u001B[38;5;241m.\u001B[39mnow()\n\u001B[0;32m---> 67\u001B[0m     res \u001B[38;5;241m=\u001B[39m \u001B[43mfunction\u001B[49m\u001B[43m(\u001B[49m\u001B[38;5;241;43m*\u001B[39;49m\u001B[38;5;241;43m*\u001B[39;49m\u001B[43margs\u001B[49m\u001B[43m)\u001B[49m\n\u001B[1;32m     68\u001B[0m     duration \u001B[38;5;241m=\u001B[39m (datetime\u001B[38;5;241m.\u001B[39mdatetime\u001B[38;5;241m.\u001B[39mnow() \u001B[38;5;241m-\u001B[39m time)\u001B[38;5;241m.\u001B[39mtotal_seconds()\n\u001B[1;32m     69\u001B[0m     \u001B[38;5;28;01mreturn\u001B[39;00m (res, duration)\n",
      "File \u001B[0;32m/mnt/watchandhelp/PycharmProjects/HOMarkov/Models/MMC.py:158\u001B[0m, in \u001B[0;36mMMC.train\u001B[0;34m(self, X_train, y_train)\u001B[0m\n\u001B[1;32m    156\u001B[0m sgo_results \u001B[38;5;241m=\u001B[39m []\n\u001B[1;32m    157\u001B[0m \u001B[38;5;28;01mfor\u001B[39;00m SGO \u001B[38;5;129;01min\u001B[39;00m SGOs:\n\u001B[0;32m--> 158\u001B[0m     n \u001B[38;5;241m=\u001B[39m \u001B[38;5;28;43mself\u001B[39;49m\u001B[38;5;241;43m.\u001B[39;49m\u001B[43mcalculate_probabilities\u001B[49m\u001B[43m(\u001B[49m\u001B[43mSGO\u001B[49m\u001B[43m)\u001B[49m\n\u001B[1;32m    159\u001B[0m     \u001B[38;5;28mself\u001B[39m\u001B[38;5;241m.\u001B[39mnormalize_dct(n)\n\u001B[1;32m    160\u001B[0m     max_probs \u001B[38;5;241m=\u001B[39m \u001B[38;5;28mlist\u001B[39m({k[\u001B[38;5;241m0\u001B[39m]: \u001B[38;5;28mmax\u001B[39m(k[\u001B[38;5;241m1\u001B[39m]\u001B[38;5;241m.\u001B[39mvalues()) \u001B[38;5;28;01mfor\u001B[39;00m k \u001B[38;5;129;01min\u001B[39;00m n\u001B[38;5;241m.\u001B[39mitems()}\u001B[38;5;241m.\u001B[39mkeys())\n",
      "File \u001B[0;32m/mnt/watchandhelp/PycharmProjects/HOMarkov/Models/MMC.py:91\u001B[0m, in \u001B[0;36mMMC.calculate_probabilities\u001B[0;34m(self, sgo)\u001B[0m\n\u001B[1;32m     89\u001B[0m n \u001B[38;5;241m=\u001B[39m defaultdict(\u001B[38;5;28;01mlambda\u001B[39;00m: defaultdict(\u001B[38;5;28mfloat\u001B[39m))\n\u001B[1;32m     90\u001B[0m \u001B[38;5;28;01mfor\u001B[39;00m i, lag \u001B[38;5;129;01min\u001B[39;00m \u001B[38;5;28menumerate\u001B[39m(\u001B[38;5;28mself\u001B[39m\u001B[38;5;241m.\u001B[39mX_train):\n\u001B[0;32m---> 91\u001B[0m     s \u001B[38;5;241m=\u001B[39m \u001B[38;5;28;43mself\u001B[39;49m\u001B[38;5;241;43m.\u001B[39;49m\u001B[43mfind_high\u001B[49m\u001B[43m(\u001B[49m\u001B[43mlag\u001B[49m\u001B[43m,\u001B[49m\u001B[43m \u001B[49m\u001B[43msgo\u001B[49m\u001B[43m)\u001B[49m\n\u001B[1;32m     92\u001B[0m     \u001B[38;5;28;01mif\u001B[39;00m s \u001B[38;5;241m!=\u001B[39m \u001B[38;5;28;01mNone\u001B[39;00m:\n\u001B[1;32m     93\u001B[0m         n[s][\u001B[38;5;28mself\u001B[39m\u001B[38;5;241m.\u001B[39my_train[i]] \u001B[38;5;241m+\u001B[39m\u001B[38;5;241m=\u001B[39m \u001B[38;5;241m1\u001B[39m\n",
      "File \u001B[0;32m/mnt/watchandhelp/PycharmProjects/HOMarkov/Models/MMC.py:31\u001B[0m, in \u001B[0;36mMMC.find_high\u001B[0;34m(lag, sgo)\u001B[0m\n\u001B[1;32m     28\u001B[0m \u001B[38;5;129m@staticmethod\u001B[39m\n\u001B[1;32m     29\u001B[0m \u001B[38;5;28;01mdef\u001B[39;00m \u001B[38;5;21mfind_high\u001B[39m(lag, sgo\u001B[38;5;241m=\u001B[39m\u001B[38;5;28;01mNone\u001B[39;00m):\n\u001B[1;32m     30\u001B[0m     \u001B[38;5;28;01mfor\u001B[39;00m s \u001B[38;5;129;01min\u001B[39;00m sgo:\n\u001B[0;32m---> 31\u001B[0m         \u001B[38;5;28;01mif\u001B[39;00m \u001B[43mnp\u001B[49m\u001B[38;5;241;43m.\u001B[39;49m\u001B[43misin\u001B[49m\u001B[43m(\u001B[49m\u001B[43ms\u001B[49m\u001B[43m,\u001B[49m\u001B[43m \u001B[49m\u001B[43mlag\u001B[49m\u001B[43m)\u001B[49m:\n\u001B[1;32m     32\u001B[0m             \u001B[38;5;28;01mreturn\u001B[39;00m s\n\u001B[1;32m     33\u001B[0m     \u001B[38;5;28;01mreturn\u001B[39;00m \u001B[38;5;28;01mNone\u001B[39;00m\n",
      "File \u001B[0;32m<__array_function__ internals>:180\u001B[0m, in \u001B[0;36misin\u001B[0;34m(*args, **kwargs)\u001B[0m\n",
      "File \u001B[0;32m~/anaconda3/envs/py3.10/lib/python3.10/site-packages/numpy/lib/arraysetops.py:739\u001B[0m, in \u001B[0;36misin\u001B[0;34m(element, test_elements, assume_unique, invert)\u001B[0m\n\u001B[1;32m    646\u001B[0m \u001B[38;5;124;03m\"\"\"\u001B[39;00m\n\u001B[1;32m    647\u001B[0m \u001B[38;5;124;03mCalculates ``element in test_elements``, broadcasting over `element` only.\u001B[39;00m\n\u001B[1;32m    648\u001B[0m \u001B[38;5;124;03mReturns a boolean array of the same shape as `element` that is True\u001B[39;00m\n\u001B[0;32m   (...)\u001B[0m\n\u001B[1;32m    736\u001B[0m \u001B[38;5;124;03m       [ True, False]])\u001B[39;00m\n\u001B[1;32m    737\u001B[0m \u001B[38;5;124;03m\"\"\"\u001B[39;00m\n\u001B[1;32m    738\u001B[0m element \u001B[38;5;241m=\u001B[39m np\u001B[38;5;241m.\u001B[39masarray(element)\n\u001B[0;32m--> 739\u001B[0m \u001B[38;5;28;01mreturn\u001B[39;00m \u001B[43min1d\u001B[49m\u001B[43m(\u001B[49m\u001B[43melement\u001B[49m\u001B[43m,\u001B[49m\u001B[43m \u001B[49m\u001B[43mtest_elements\u001B[49m\u001B[43m,\u001B[49m\u001B[43m \u001B[49m\u001B[43massume_unique\u001B[49m\u001B[38;5;241;43m=\u001B[39;49m\u001B[43massume_unique\u001B[49m\u001B[43m,\u001B[49m\n\u001B[1;32m    740\u001B[0m \u001B[43m            \u001B[49m\u001B[43minvert\u001B[49m\u001B[38;5;241;43m=\u001B[39;49m\u001B[43minvert\u001B[49m\u001B[43m)\u001B[49m\u001B[38;5;241m.\u001B[39mreshape(element\u001B[38;5;241m.\u001B[39mshape)\n",
      "File \u001B[0;32m<__array_function__ internals>:180\u001B[0m, in \u001B[0;36min1d\u001B[0;34m(*args, **kwargs)\u001B[0m\n",
      "\u001B[0;31mKeyboardInterrupt\u001B[0m: "
     ]
    }
   ],
   "source": [
    "state_count = 4\n",
    "\n",
    "amount_to_average = 5\n",
    "\n",
    "training_master = []\n",
    "testing_master = []\n",
    "# implement FMC\n",
    "o = 3\n",
    "methods = [MMC, MTD, CAP, HMC, MAX, FMC]\n",
    "types = [\"MMC\", \"MTD\", \"CAP\", \"HMC\", \"MAX\", \"FMC\"]\n",
    "for _ in range(amount_to_average):\n",
    "\n",
    "    X_train, X_test, y_train, y_test = MMC_Data.MMC_data.gen_data(state_count,3,30000, True)## Fitting model\n",
    "    args_training = {\"X_train\": X_train, \"y_train\": y_train}\n",
    "    args_testing = {\"X_test\": X_test, \"y_test\": y_test}\n",
    "    results_training = []\n",
    "    results_testing = []\n",
    "\n",
    "    for m in methods:\n",
    "        model = m(state_count, order=o)\n",
    "        results_training.append(MarkovChain.calculate_time(model.train, args_training))\n",
    "        results_testing.append(MarkovChain.calculate_time(model.test, args_testing))\n",
    "\n",
    "    training_master.append(results_training)\n",
    "    testing_master.append(results_testing)"
   ],
   "metadata": {
    "collapsed": false,
    "pycharm": {
     "name": "#%%\n"
    }
   }
  },
  {
   "cell_type": "code",
   "execution_count": 14,
   "outputs": [
    {
     "data": {
      "text/plain": "[[(0.3549333333333333, 5.521003),\n  (0.34986666666666666, 0.819414),\n  (0.33413333333333334, 3.610424),\n  (0.38866666666666666, 1.061475),\n  (0.33413333333333334, 3.642435),\n  (0.34026666666666666, 1.073637)],\n [(0.504, 5.35482),\n  (0.45613333333333334, 0.064922),\n  (0.4472, 3.609104),\n  (0.5257333333333334, 1.07793),\n  (0.4472, 3.591545),\n  (0.4472, 1.066975)],\n [(0.32266666666666666, 5.376923),\n  (0.3352, 0.074048),\n  (0.3104, 3.61515),\n  (0.37906666666666666, 1.090463),\n  (0.3104, 3.582452),\n  (0.3156, 1.065514)],\n [(0.3672, 5.402237),\n  (0.31733333333333336, 0.05416),\n  (0.2876, 3.582243),\n  (0.38666666666666666, 1.057701),\n  (0.2996, 3.58449),\n  (0.31266666666666665, 1.085489)],\n [(0.37346666666666667, 5.431063),\n  (0.3516, 0.048201),\n  (0.3516, 3.565828),\n  (0.38693333333333335, 1.070125),\n  (0.3516, 3.506565),\n  (0.3516, 1.056651)]]"
     },
     "execution_count": 14,
     "metadata": {},
     "output_type": "execute_result"
    }
   ],
   "source": [
    "training_master"
   ],
   "metadata": {
    "collapsed": false,
    "pycharm": {
     "name": "#%%\n"
    }
   }
  },
  {
   "cell_type": "code",
   "execution_count": 23,
   "outputs": [],
   "source": [
    "def find_average(arr):\n",
    "    return sum(arr)/len(arr)"
   ],
   "metadata": {
    "collapsed": false,
    "pycharm": {
     "name": "#%%\n"
    }
   }
  },
  {
   "cell_type": "code",
   "execution_count": null,
   "outputs": [],
   "source": [
    "acc_testing = []\n",
    "for i in range(len(methods)):\n",
    "    acc_testing += [find_average([av_[i][0] for av_ in training_master])]\n",
    "\n",
    "acc_training = []\n",
    "for i in range(len(methods)):\n",
    "    acc_training += [find_average([av_[i][0] for av_ in testing_master])]\n",
    "\n",
    "\n",
    "training_times = []\n",
    "for i in range(len(methods)):\n",
    "    training_times += [find_average([av_[i][1] for av_ in training_master])]"
   ],
   "metadata": {
    "collapsed": false,
    "pycharm": {
     "name": "#%%\n"
    }
   }
  },
  {
   "cell_type": "code",
   "execution_count": 25,
   "outputs": [],
   "source": [
    "import numpy as np\n",
    "import matplotlib.pyplot as plt\n",
    "\n",
    "\n",
    "# creating the dataset\n",
    "def create_bar_graph(data, title):\n",
    "    courses = list(data.keys())\n",
    "    values = list(data.values())\n",
    "\n",
    "    plt.figure(figsize = (10, 5))\n",
    "\n",
    "    # creating the bar plot\n",
    "    plt.bar(courses, values, color ='maroon',\n",
    "            width = 0.4)\n",
    "\n",
    "    plt.title(title)\n",
    "    plt.show()"
   ],
   "metadata": {
    "collapsed": false,
    "pycharm": {
     "name": "#%%\n"
    }
   }
  },
  {
   "cell_type": "code",
   "execution_count": 27,
   "outputs": [
    {
     "data": {
      "text/plain": "[0.43,\n 0.40836000000000006,\n 0.39692,\n 0.43431999999999993,\n 0.39692,\n 0.39855999999999997]"
     },
     "execution_count": 27,
     "metadata": {},
     "output_type": "execute_result"
    }
   ],
   "source": [
    "acc_training"
   ],
   "metadata": {
    "collapsed": false,
    "pycharm": {
     "name": "#%%\n"
    }
   }
  },
  {
   "cell_type": "code",
   "execution_count": null,
   "outputs": [],
   "source": [
    "\n",
    "create_bar_graph({types[i] : acc_training[i] for i in range(len(acc_training))}, \"Training Accuracy\")\n",
    "create_bar_graph({types[i] : acc_testing[i] for i in range(len(acc_testing))}, \"Testing Accuracy\")\n",
    "create_bar_graph({types[i] : training_times[i] for i in range(len(training_times))}, \"Training Times\")"
   ],
   "metadata": {
    "collapsed": false,
    "pycharm": {
     "name": "#%%\n"
    }
   }
  },
  {
   "cell_type": "code",
   "execution_count": 127,
   "outputs": [
    {
     "data": {
      "text/plain": "0.42112"
     },
     "execution_count": 127,
     "metadata": {},
     "output_type": "execute_result"
    }
   ],
   "source": [
    "#sum([ 1 for i, lag in enumerate(X_test) if np.argmax(model2.cpt[MAX.find_high(lag, SGO)]) == y_test[i]])/len(y_test)\n",
    "\n",
    "def test_model(model):\n",
    "    return sum([ 1 for i, lag in enumerate(X_test) if np.argmax(model.cpt[MAX.find_high(lag, model.SGO)]) == y_test[i]])/len(y_test)\n",
    "\n",
    "test_model(model2)"
   ],
   "metadata": {
    "collapsed": false,
    "pycharm": {
     "name": "#%%\n"
    }
   }
  },
  {
   "cell_type": "code",
   "execution_count": null,
   "outputs": [],
   "source": [
    "# MMC is the new one\n",
    "# implement CAP, HMC, MTD, FMC, MAX SMILE, MAX COUNTING\n",
    "from markov import MarkovChain\n",
    "o = 3\n",
    "methods = [CAP, MMC, HMC, MAX]\n",
    "results = []\n",
    "training_times = []\n",
    "args_training = {\"X_train\": X_train, \"y_train\": y_train}\n",
    "args_testing = {\"X_test\": X_test, \"y_test\": y_test}\n",
    "for m in methods:\n",
    "    model = m(labels, o)\n",
    "    training_times.append(MarkovChain.calculate_time(model.train, args_training))\n",
    "    results.append(MarkovChain.calculate_time(model.test, args_testing))\n"
   ],
   "metadata": {
    "collapsed": false,
    "pycharm": {
     "name": "#%%\n"
    }
   }
  },
  {
   "cell_type": "code",
   "execution_count": 74,
   "metadata": {
    "ExecuteTime": {
     "end_time": "2020-04-25T14:32:40.644638Z",
     "start_time": "2020-04-25T14:32:40.628794Z"
    },
    "pycharm": {
     "name": "#%%\n"
    }
   },
   "outputs": [],
   "source": [
    "models = []\n",
    "for i in range(1, 4):\n",
    "    models.append(MTD(order=i))"
   ]
  },
  {
   "cell_type": "code",
   "execution_count": 75,
   "outputs": [
    {
     "name": "stdout",
     "output_type": "stream",
     "text": [
      "[3 2 3 ... 3 3 3]\n",
      "[2 2 3 ... 2 0 3]\n",
      "[2 3 0 ... 3 0 0]\n"
     ]
    }
   ],
   "source": [
    "save_path = \"/home/mitch/PycharmProjects/diverse-plan-rec/src/pr/input_data/generated_markov_data/\"\n",
    "\n",
    "for gap in range(0,X_train.shape[1]):\n",
    "    col = X_train.shape[1]-gap-1\n",
    "    print(X_train[:,col])\n",
    "    pd.DataFrame({'state0': X_train[:,col], 'state1':y_train}).to_csv(save_path+f\"train_data_gap{gap+1}_train.txt\", index=False)"
   ],
   "metadata": {
    "collapsed": false,
    "pycharm": {
     "name": "#%%\n"
    }
   }
  },
  {
   "cell_type": "code",
   "execution_count": 76,
   "outputs": [],
   "source": [
    "import pickle\n",
    "with open(f\"{save_path}/test_data.pickle\", 'wb') as handle:\n",
    "    pickle.dump([X_test, y_test], handle)"
   ],
   "metadata": {
    "collapsed": false,
    "pycharm": {
     "name": "#%%\n"
    }
   }
  },
  {
   "cell_type": "code",
   "execution_count": 77,
   "outputs": [
    {
     "data": {
      "text/plain": "[3,\n 3,\n 2,\n 2,\n 0,\n 3,\n 2,\n 0,\n 2,\n 0,\n 3,\n 3,\n 0,\n 0,\n 3,\n 2,\n 0,\n 3,\n 3,\n 0,\n 0,\n 3,\n 2,\n 3,\n 3,\n 0,\n 0,\n 2,\n 3,\n 2,\n 2,\n 3,\n 0,\n 3,\n 3,\n 3,\n 2,\n 3,\n 2,\n 3,\n 2,\n 0,\n 3,\n 1,\n 3,\n 3,\n 2,\n 0,\n 3,\n 0,\n 1,\n 3,\n 3,\n 2,\n 0,\n 2,\n 2,\n 0,\n 3,\n 0,\n 3,\n 2,\n 2,\n 0,\n 0,\n 2,\n 2,\n 3,\n 1,\n 1,\n 3,\n 2,\n 0,\n 3,\n 1,\n 3,\n 0,\n 0,\n 3,\n 2,\n 0,\n 2,\n 2,\n 3,\n 2,\n 0,\n 1,\n 2,\n 2,\n 3,\n 0,\n 3,\n 0,\n 2,\n 3,\n 3,\n 3,\n 3,\n 3,\n 2,\n 1,\n 0,\n 2,\n 3,\n 3,\n 2,\n 3,\n 2,\n 0,\n 3,\n 3,\n 3,\n 3,\n 0,\n 0,\n 2,\n 0,\n 2,\n 0,\n 1,\n 1,\n 0,\n 2,\n 2,\n 0,\n 2,\n 0,\n 3,\n 3,\n 2,\n 2,\n 3,\n 1,\n 3,\n 2,\n 1,\n 0,\n 3,\n 0,\n 0,\n 3,\n 3,\n 0,\n 0,\n 3,\n 3,\n 3,\n 0,\n 0,\n 3,\n 3,\n 0,\n 3,\n 0,\n 2,\n 0,\n 0,\n 3,\n 0,\n 3,\n 3,\n 3,\n 0,\n 0,\n 2,\n 3,\n 0,\n 0,\n 3,\n 0,\n 3,\n 0,\n 3,\n 3,\n 3,\n 3,\n 3,\n 3,\n 2,\n 2,\n 2,\n 1,\n 3,\n 0,\n 2,\n 3,\n 3,\n 3,\n 2,\n 2,\n 3,\n 1,\n 1,\n 2,\n 1,\n 3,\n 2,\n 0,\n 0,\n 0,\n 2,\n 3,\n 3,\n 1,\n 0,\n 1,\n 2,\n 3,\n 0,\n 2,\n 2,\n 3,\n 1,\n 2,\n 0,\n 3,\n 2,\n 3,\n 1,\n 2,\n 2,\n 3,\n 3,\n 2,\n 3,\n 0,\n 3,\n 2,\n 3,\n 3,\n 3,\n 3,\n 2,\n 1,\n 2,\n 0,\n 3,\n 3,\n 3,\n 0,\n 3,\n 2,\n 3,\n 0,\n 1,\n 3,\n 2,\n 1,\n 2,\n 2,\n 0,\n 3,\n 3,\n 2,\n 3,\n 2,\n 3,\n 3,\n 0,\n 3,\n 3,\n 2,\n 2,\n 0,\n 3,\n 0,\n 2,\n 0,\n 2,\n 3,\n 0,\n 3,\n 2,\n 0,\n 1,\n 3,\n 3,\n 0,\n 3,\n 3,\n 3,\n 3,\n 0,\n 2,\n 3,\n 2,\n 3,\n 1,\n 3,\n 3,\n 2,\n 3,\n 3,\n 3,\n 3,\n 0,\n 3,\n 3,\n 3,\n 0,\n 3,\n 3,\n 3,\n 1,\n 2,\n 2,\n 3,\n 3,\n 2,\n 1,\n 0,\n 2,\n 3,\n 0,\n 3,\n 2,\n 2,\n 2,\n 0,\n 0,\n 0,\n 3,\n 2,\n 0,\n 2,\n 3,\n 0,\n 3,\n 0,\n 2,\n 3,\n 3,\n 1,\n 1,\n 0,\n 1,\n 3,\n 2,\n 0,\n 3,\n 2,\n 3,\n 0,\n 0,\n 0,\n 2,\n 3,\n 1,\n 0,\n 3,\n 0,\n 2,\n 0,\n 2,\n 3,\n 3,\n 0,\n 0,\n 1,\n 0,\n 1,\n 3,\n 3,\n 0,\n 3,\n 1,\n 3,\n 3,\n 3,\n 3,\n 0,\n 3,\n 0,\n 0,\n 0,\n 3,\n 0,\n 0,\n 0,\n 2,\n 0,\n 3,\n 3,\n 3,\n 2,\n 2,\n 3,\n 2,\n 3,\n 2,\n 3,\n 0,\n 2,\n 0,\n 2,\n 1,\n 0,\n 0,\n 0,\n 0,\n 0,\n 3,\n 2,\n 0,\n 2,\n 1,\n 2,\n 2,\n 2,\n 1,\n 2,\n 3,\n 0,\n 0,\n 3,\n 3,\n 1,\n 3,\n 3,\n 3,\n 0,\n 2,\n 1,\n 0,\n 1,\n 1,\n 2,\n 3,\n 0,\n 2,\n 2,\n 3,\n 2,\n 3,\n 2,\n 2,\n 3,\n 0,\n 3,\n 2,\n 3,\n 2,\n 0,\n 2,\n 3,\n 2,\n 3,\n 1,\n 2,\n 3,\n 3,\n 1,\n 0,\n 3,\n 3,\n 0,\n 0,\n 0,\n 2,\n 0,\n 2,\n 3,\n 1,\n 0,\n 1,\n 2,\n 3,\n 2,\n 3,\n 0,\n 3,\n 3,\n 1,\n 2,\n 3,\n 0,\n 2,\n 3,\n 2,\n 0,\n 3,\n 0,\n 0,\n 2,\n 0,\n 3,\n 3,\n 3,\n 3,\n 3,\n 3,\n 1,\n 3,\n 3,\n 2,\n 2,\n 0,\n 1,\n 2,\n 2,\n 2,\n 3,\n 3,\n 3,\n 2,\n 0,\n 3,\n 0,\n 2,\n 3,\n 3,\n 3,\n 0,\n 2,\n 0,\n 3,\n 2,\n 0,\n 3,\n 2,\n 2,\n 0,\n 2,\n 1,\n 3,\n 3,\n 3,\n 3,\n 0,\n 0,\n 1,\n 3,\n 0,\n 0,\n 0,\n 0,\n 3,\n 1,\n 0,\n 0,\n 3,\n 3,\n 1,\n 2,\n 3,\n 2,\n 1,\n 0,\n 2,\n 3,\n 3,\n 3,\n 3,\n 0,\n 1,\n 1,\n 1,\n 2,\n 0,\n 2,\n 3,\n 0,\n 2,\n 3,\n 3,\n 3,\n 0,\n 1,\n 1,\n 0,\n 3,\n 1,\n 2,\n 2,\n 2,\n 0,\n 0,\n 2,\n 2,\n 2,\n 0,\n 0,\n 0,\n 0,\n 0,\n 0,\n 3,\n 0,\n 3,\n 2,\n 2,\n 2,\n 2,\n 0,\n 2,\n 2,\n 0,\n 3,\n 0,\n 2,\n 2,\n 1,\n 3,\n 3,\n 3,\n 0,\n 2,\n 2,\n 2,\n 2,\n 3,\n 3,\n 0,\n 3,\n 0,\n 3,\n 3,\n 3,\n 3,\n 0,\n 2,\n 1,\n 2,\n 0,\n 3,\n 2,\n 3,\n 0,\n 2,\n 3,\n 2,\n 0,\n 3,\n 3,\n 0,\n 0,\n 3,\n 0,\n 2,\n 3,\n 2,\n 3,\n 0,\n 2,\n 2,\n 0,\n 1,\n 0,\n 3,\n 2,\n 1,\n 0,\n 2,\n 0,\n 3,\n 0,\n 3,\n 1,\n 2,\n 3,\n 2,\n 3,\n 2,\n 2,\n 1,\n 2,\n 2,\n 0,\n 3,\n 3,\n 3,\n 1,\n 3,\n 0,\n 0,\n 3,\n 0,\n 1,\n 1,\n 2,\n 2,\n 0,\n 3,\n 0,\n 2,\n 3,\n 3,\n 0,\n 2,\n 1,\n 0,\n 2,\n 3,\n 2,\n 3,\n 0,\n 0,\n 0,\n 3,\n 2,\n 1,\n 2,\n 3,\n 3,\n 3,\n 0,\n 2,\n 3,\n 3,\n 2,\n 3,\n 3,\n 0,\n 0,\n 3,\n 0,\n 0,\n 3,\n 3,\n 2,\n 2,\n 0,\n 2,\n 0,\n 3,\n 3,\n 0,\n 2,\n 3,\n 3,\n 0,\n 0,\n 1,\n 0,\n 3,\n 3,\n 2,\n 2,\n 2,\n 2,\n 0,\n 0,\n 2,\n 2,\n 0,\n 3,\n 0,\n 2,\n 3,\n 3,\n 3,\n 0,\n 0,\n 2,\n 0,\n 3,\n 2,\n 2,\n 0,\n 0,\n 0,\n 2,\n 1,\n 3,\n 0,\n 2,\n 3,\n 3,\n 2,\n 3,\n 1,\n 0,\n 2,\n 2,\n 2,\n 0,\n 3,\n 1,\n 3,\n 3,\n 3,\n 3,\n 0,\n 2,\n 2,\n 0,\n 3,\n 0,\n 3,\n 3,\n 2,\n 1,\n 3,\n 2,\n 1,\n 1,\n 3,\n 0,\n 0,\n 3,\n 2,\n 2,\n 3,\n 2,\n 2,\n 2,\n 2,\n 2,\n 0,\n 2,\n 0,\n 3,\n 2,\n 2,\n 0,\n 3,\n 0,\n 2,\n 1,\n 3,\n 3,\n 2,\n 0,\n 3,\n 0,\n 0,\n 2,\n 3,\n 2,\n 3,\n 1,\n 1,\n 3,\n 3,\n 0,\n 3,\n 2,\n 0,\n 2,\n 2,\n 3,\n 2,\n 1,\n 3,\n 3,\n 2,\n 3,\n 0,\n 3,\n 1,\n 2,\n 0,\n 1,\n 2,\n 0,\n 3,\n 3,\n 2,\n 0,\n 0,\n 2,\n 3,\n 3,\n 1,\n 3,\n 3,\n 3,\n 0,\n 3,\n 3,\n 3,\n 2,\n 0,\n 2,\n 2,\n 3,\n 1,\n 2,\n 3,\n 2,\n 3,\n 2,\n 0,\n 3,\n 3,\n 2,\n 0,\n 0,\n 2,\n 0,\n 2,\n 3,\n 3,\n 2,\n 3,\n 3,\n 0,\n 3,\n 0,\n 3,\n 0,\n 3,\n 0,\n 3,\n 0,\n 1,\n 0,\n 0,\n 0,\n 2,\n 2,\n 0,\n 0,\n 0,\n 1,\n 3,\n 3,\n 2,\n 2,\n 3,\n 0,\n 0,\n 0,\n 3,\n 3,\n 0,\n 2,\n 1,\n 0,\n 2,\n 3,\n 0,\n 0,\n 3,\n 2,\n 3,\n 3,\n 1,\n 2,\n 2,\n 3,\n 3,\n 2,\n 3,\n 3,\n 0,\n 3,\n 0,\n 0,\n 0,\n 2,\n 0,\n 3,\n 3,\n 0,\n 2,\n 2,\n 3,\n 1,\n 3,\n 1,\n 2,\n 3,\n 3,\n 0,\n 3,\n 2,\n 3,\n 1,\n 0,\n 0,\n 0,\n 2,\n 0,\n 0,\n 2,\n 2,\n 3,\n 3,\n 3,\n 0,\n 2,\n 1,\n 3,\n 3,\n 3,\n 1,\n 1,\n 0,\n 2,\n 3,\n 3,\n 2,\n 3,\n 2,\n 0,\n 0,\n 2,\n 0,\n 3,\n ...]"
     },
     "execution_count": 77,
     "metadata": {},
     "output_type": "execute_result"
    }
   ],
   "source": [
    "same_input = [i for i, row in enumerate(X_train == X_train[0]) if row.all()]\n",
    "[y_train[s] for s in same_input]\n",
    "# make sure all the values are the same ie they are deterministic"
   ],
   "metadata": {
    "collapsed": false,
    "pycharm": {
     "name": "#%%\n"
    }
   }
  },
  {
   "cell_type": "code",
   "execution_count": 78,
   "outputs": [],
   "source": [
    "def save_data(x,y, name):\n",
    "    values = [np.concatenate((x[i],[y[i]], [\"end\"])) for i in range(len(x))]\n",
    "    train_markov_data = pd.DataFrame({'state': np.append([],values)})\n",
    "    train_markov_data.to_csv(save_path+name, index=False)\n",
    "save_data(X_train, y_train, \"train_markov.txt\")\n",
    "save_data(X_test,  y_test, \"test.txt\")\n"
   ],
   "metadata": {
    "collapsed": false,
    "pycharm": {
     "name": "#%%\n"
    }
   }
  },
  {
   "cell_type": "code",
   "execution_count": 79,
   "metadata": {
    "ExecuteTime": {
     "end_time": "2020-04-25T14:32:42.294388Z",
     "start_time": "2020-04-25T14:32:41.180808Z"
    },
    "pycharm": {
     "name": "#%%\n"
    }
   },
   "outputs": [
    {
     "name": "stdout",
     "output_type": "stream",
     "text": [
      "Training Times:\n",
      "log-likelihood value: -411799.462097521\n",
      "0:00:00.979866\n",
      "log-likelihood value: -407206.93467911996\n",
      "0:00:00.224420\n",
      "log-likelihood value: -402889.63620540156\n",
      "0:00:00.351516\n"
     ]
    }
   ],
   "source": [
    "from datetime import datetime\n",
    "\n",
    "print(\"Training Times:\")\n",
    "\n",
    "for i, model in enumerate(models):\n",
    "    start = datetime.now()\n",
    "    model.fit(X_train[:,len(models)-i-1:], y_train)\n",
    "    print(datetime.now() - start)"
   ]
  },
  {
   "cell_type": "code",
   "execution_count": 80,
   "outputs": [
    {
     "data": {
      "text/plain": "array([[2, 2, 3],\n       [3, 2, 2],\n       [0, 3, 3],\n       ...,\n       [3, 2, 3],\n       [0, 0, 3],\n       [0, 3, 3]])"
     },
     "execution_count": 80,
     "metadata": {},
     "output_type": "execute_result"
    }
   ],
   "source": [
    "X_train[:,len(models)-i-1:]"
   ],
   "metadata": {
    "collapsed": false,
    "pycharm": {
     "name": "#%%\n"
    }
   }
  },
  {
   "cell_type": "markdown",
   "metadata": {
    "pycharm": {
     "name": "#%% md\n"
    }
   },
   "source": [
    "## Information criteria"
   ]
  },
  {
   "cell_type": "code",
   "execution_count": 81,
   "metadata": {
    "ExecuteTime": {
     "end_time": "2020-04-25T14:32:44.489848Z",
     "start_time": "2020-04-25T14:32:44.481227Z"
    },
    "pycharm": {
     "name": "#%%\n"
    }
   },
   "outputs": [
    {
     "data": {
      "text/plain": "805839.2724108031"
     },
     "execution_count": 81,
     "metadata": {},
     "output_type": "execute_result"
    }
   ],
   "source": [
    "model.aic"
   ]
  },
  {
   "cell_type": "code",
   "execution_count": 82,
   "metadata": {
    "ExecuteTime": {
     "end_time": "2020-04-25T14:32:45.094917Z",
     "start_time": "2020-04-25T14:32:45.077490Z"
    },
    "pycharm": {
     "name": "#%%\n"
    }
   },
   "outputs": [
    {
     "data": {
      "text/plain": "806157.6185434123"
     },
     "execution_count": 82,
     "metadata": {},
     "output_type": "execute_result"
    }
   ],
   "source": [
    "model.bic"
   ]
  },
  {
   "cell_type": "markdown",
   "metadata": {
    "pycharm": {
     "name": "#%% md\n"
    }
   },
   "source": [
    "## Trained parameters"
   ]
  },
  {
   "cell_type": "code",
   "execution_count": 83,
   "metadata": {
    "ExecuteTime": {
     "end_time": "2020-04-25T14:32:48.275128Z",
     "start_time": "2020-04-25T14:32:48.267360Z"
    },
    "pycharm": {
     "name": "#%%\n"
    }
   },
   "outputs": [
    {
     "data": {
      "text/plain": "array([0.577, 0.307, 0.116])"
     },
     "execution_count": 83,
     "metadata": {},
     "output_type": "execute_result"
    }
   ],
   "source": [
    "model.lambdas.round(3)"
   ]
  },
  {
   "cell_type": "code",
   "execution_count": 84,
   "metadata": {
    "ExecuteTime": {
     "end_time": "2020-04-25T14:32:49.255870Z",
     "start_time": "2020-04-25T14:32:49.251150Z"
    },
    "pycharm": {
     "name": "#%%\n"
    }
   },
   "outputs": [
    {
     "data": {
      "text/plain": "array([[[0.245, 0.251, 0.274, 0.23 ],\n        [0.135, 0.205, 0.307, 0.353],\n        [0.328, 0.148, 0.191, 0.333],\n        [0.172, 0.211, 0.126, 0.491]],\n\n       [[0.36 , 0.281, 0.032, 0.326],\n        [0.182, 0.523, 0.071, 0.224],\n        [0.13 , 0.203, 0.313, 0.354],\n        [0.27 , 0.423, 0.269, 0.038]],\n\n       [[0.019, 0.115, 0.39 , 0.477],\n        [0.369, 0.087, 0.404, 0.139],\n        [0.283, 0.452, 0.179, 0.086],\n        [0.121, 0.023, 0.367, 0.488]]])"
     },
     "execution_count": 84,
     "metadata": {},
     "output_type": "execute_result"
    }
   ],
   "source": [
    "model.transition_matrices.round(3)"
   ]
  },
  {
   "cell_type": "markdown",
   "metadata": {
    "pycharm": {
     "name": "#%% md\n"
    }
   },
   "source": [
    "## Predict"
   ]
  },
  {
   "cell_type": "code",
   "execution_count": 87,
   "metadata": {
    "ExecuteTime": {
     "end_time": "2020-04-25T14:32:57.691386Z",
     "start_time": "2020-04-25T14:32:57.686617Z"
    },
    "pycharm": {
     "name": "#%%\n"
    }
   },
   "outputs": [],
   "source": [
    "result = []\n",
    "for i, model in enumerate(models):\n",
    "    result.append(len([y for y,p in enumerate(model.predict(X_test[:,len(models)-i-1:4])) if p == y_test[y]])/len(y_test))"
   ]
  },
  {
   "cell_type": "code",
   "execution_count": 88,
   "outputs": [
    {
     "data": {
      "text/plain": "[0.30926, 0.32556, 0.33925]"
     },
     "execution_count": 88,
     "metadata": {},
     "output_type": "execute_result"
    }
   ],
   "source": [
    "result"
   ],
   "metadata": {
    "collapsed": false,
    "pycharm": {
     "name": "#%%\n"
    }
   }
  },
  {
   "cell_type": "code",
   "execution_count": 89,
   "outputs": [
    {
     "data": {
      "text/plain": "0.34199"
     },
     "execution_count": 89,
     "metadata": {},
     "output_type": "execute_result"
    }
   ],
   "source": [
    "sum(list(map(np.argmax,cg.predict_proba(np.array(X_test)))) == y_test)/len(y_test)"
   ],
   "metadata": {
    "collapsed": false,
    "pycharm": {
     "name": "#%%\n"
    }
   }
  },
  {
   "cell_type": "code",
   "execution_count": 90,
   "outputs": [],
   "source": [
    "import numpy as np\n",
    "from sklearn.preprocessing import normalize"
   ],
   "metadata": {
    "collapsed": false,
    "pycharm": {
     "name": "#%%\n"
    }
   }
  },
  {
   "cell_type": "code",
   "execution_count": 91,
   "outputs": [],
   "source": [
    "\n",
    "from itertools import permutations\n",
    "\n",
    "gap_probs = [{},{},{}]\n",
    "\n",
    "for i in range(len(X_test[0])):\n",
    "    for s in map(states.index, states):\n",
    "        not_s = [states.index(x) for x in states if states.index(x) != s ]\n",
    "        probs = []\n",
    "        for p in permutations(not_s):\n",
    "            input = [-1 for _ in range(cg.order)]\n",
    "            input[i] = s\n",
    "\n",
    "            c = 0\n",
    "            for r in set([j for j in range(cg.order) if j != i]):\n",
    "                input[r] = p[c]\n",
    "                c += 1\n",
    "\n",
    "            probs.append(cg.predict_proba(np.array([input])))\n",
    "        sum_list = [sum([probs[j][i] for j in range(len(probs))]) for i in range(len(probs[0]))]\n",
    "        gap_probs[i][s] =  [s/sum(sum_list[0]) for s in sum_list[0]]"
   ],
   "metadata": {
    "collapsed": false,
    "pycharm": {
     "name": "#%%\n"
    }
   }
  },
  {
   "cell_type": "code",
   "execution_count": 60,
   "outputs": [
    {
     "data": {
      "text/plain": "[{0: [0.3409188300864065,\n   0.29629403735781173,\n   0.17716289656421638,\n   0.1856242359915654],\n  1: [0.403694423663215,\n   0.20823007401341442,\n   0.2552413594309092,\n   0.13283414289246134],\n  2: [0.27904897032076886,\n   0.3330698321785714,\n   0.09373260722424294,\n   0.2941485902764169],\n  3: [0.37818337835859756,\n   0.21208721769174796,\n   0.16956201107920463,\n   0.24016739287044983]},\n {0: [0.4210396168583954,\n   0.12243077675564094,\n   0.1552396179326447,\n   0.30128998845331895],\n  1: [0.26364796816813635,\n   0.28017823324079694,\n   0.13007624654086827,\n   0.32609755205019847],\n  2: [0.3859215441701222,\n   0.2890435036854268,\n   0.20913388498321714,\n   0.11590106716123394],\n  3: [0.33123647323233396,\n   0.35802864755968083,\n   0.201249124841843,\n   0.1094857543661421]},\n {0: [0.30094046749374576,\n   0.31376862748704226,\n   0.18897475319647977,\n   0.19631615182273215],\n  1: [0.36301437117240737,\n   0.28400034560314086,\n   0.15862325252161624,\n   0.1943620307028354],\n  2: [0.38305357650949223,\n   0.21424190458597744,\n   0.19014139551132234,\n   0.21256312339320796],\n  3: [0.3548371872533425,\n   0.2376702835653849,\n   0.15795947306915475,\n   0.24953305611211785]}]"
     },
     "execution_count": 60,
     "metadata": {},
     "output_type": "execute_result"
    }
   ],
   "source": [
    "gap_probs\n",
    "# gap 1\n",
    "# gap 2\n",
    "# gap 3\n",
    "# Array is in that orderc"
   ],
   "metadata": {
    "collapsed": false,
    "pycharm": {
     "name": "#%%\n"
    }
   }
  },
  {
   "cell_type": "code",
   "execution_count": 61,
   "outputs": [
    {
     "data": {
      "text/plain": "0.35325"
     },
     "execution_count": 61,
     "metadata": {},
     "output_type": "execute_result"
    }
   ],
   "source": [
    "from itertools import chain as ch\n",
    "sum(list(map(lambda x: np.argmax(x) % len(states), [list(ch(*[gap_probs[gap-1][item[-gap]] for gap in range(len(gap_probs))])) for item in X_test])) == y_test) / len(y_test)"
   ],
   "metadata": {
    "collapsed": false,
    "pycharm": {
     "name": "#%%\n"
    }
   }
  },
  {
   "cell_type": "code",
   "execution_count": 62,
   "outputs": [
    {
     "ename": "NameError",
     "evalue": "name 'item' is not defined",
     "output_type": "error",
     "traceback": [
      "\u001B[0;31m---------------------------------------------------------------------------\u001B[0m",
      "\u001B[0;31mNameError\u001B[0m                                 Traceback (most recent call last)",
      "\u001B[0;32m<ipython-input-62-5c5a7859e6ac>\u001B[0m in \u001B[0;36m<module>\u001B[0;34m\u001B[0m\n\u001B[0;32m----> 1\u001B[0;31m \u001B[0mnp\u001B[0m\u001B[0;34m.\u001B[0m\u001B[0margmax\u001B[0m\u001B[0;34m(\u001B[0m\u001B[0mlist\u001B[0m\u001B[0;34m(\u001B[0m\u001B[0mch\u001B[0m\u001B[0;34m(\u001B[0m\u001B[0;34m*\u001B[0m\u001B[0;34m[\u001B[0m\u001B[0mgap_probs\u001B[0m\u001B[0;34m[\u001B[0m\u001B[0mgap\u001B[0m\u001B[0;34m-\u001B[0m\u001B[0;36m1\u001B[0m\u001B[0;34m]\u001B[0m\u001B[0;34m[\u001B[0m\u001B[0mitem\u001B[0m\u001B[0;34m[\u001B[0m\u001B[0;34m-\u001B[0m\u001B[0mgap\u001B[0m\u001B[0;34m]\u001B[0m\u001B[0;34m]\u001B[0m \u001B[0;32mfor\u001B[0m \u001B[0mgap\u001B[0m \u001B[0;32min\u001B[0m \u001B[0mrange\u001B[0m\u001B[0;34m(\u001B[0m\u001B[0mlen\u001B[0m\u001B[0;34m(\u001B[0m\u001B[0mgap_probs\u001B[0m\u001B[0;34m)\u001B[0m\u001B[0;34m)\u001B[0m\u001B[0;34m]\u001B[0m\u001B[0;34m)\u001B[0m\u001B[0;34m)\u001B[0m\u001B[0;34m)\u001B[0m\u001B[0;34m\u001B[0m\u001B[0;34m\u001B[0m\u001B[0m\n\u001B[0m",
      "\u001B[0;32m<ipython-input-62-5c5a7859e6ac>\u001B[0m in \u001B[0;36m<listcomp>\u001B[0;34m(.0)\u001B[0m\n\u001B[0;32m----> 1\u001B[0;31m \u001B[0mnp\u001B[0m\u001B[0;34m.\u001B[0m\u001B[0margmax\u001B[0m\u001B[0;34m(\u001B[0m\u001B[0mlist\u001B[0m\u001B[0;34m(\u001B[0m\u001B[0mch\u001B[0m\u001B[0;34m(\u001B[0m\u001B[0;34m*\u001B[0m\u001B[0;34m[\u001B[0m\u001B[0mgap_probs\u001B[0m\u001B[0;34m[\u001B[0m\u001B[0mgap\u001B[0m\u001B[0;34m-\u001B[0m\u001B[0;36m1\u001B[0m\u001B[0;34m]\u001B[0m\u001B[0;34m[\u001B[0m\u001B[0mitem\u001B[0m\u001B[0;34m[\u001B[0m\u001B[0;34m-\u001B[0m\u001B[0mgap\u001B[0m\u001B[0;34m]\u001B[0m\u001B[0;34m]\u001B[0m \u001B[0;32mfor\u001B[0m \u001B[0mgap\u001B[0m \u001B[0;32min\u001B[0m \u001B[0mrange\u001B[0m\u001B[0;34m(\u001B[0m\u001B[0mlen\u001B[0m\u001B[0;34m(\u001B[0m\u001B[0mgap_probs\u001B[0m\u001B[0;34m)\u001B[0m\u001B[0;34m)\u001B[0m\u001B[0;34m]\u001B[0m\u001B[0;34m)\u001B[0m\u001B[0;34m)\u001B[0m\u001B[0;34m)\u001B[0m\u001B[0;34m\u001B[0m\u001B[0;34m\u001B[0m\u001B[0m\n\u001B[0m",
      "\u001B[0;31mNameError\u001B[0m: name 'item' is not defined"
     ]
    }
   ],
   "source": [
    "np.argmax(list(ch(*[gap_probs[gap-1][item[-gap]] for gap in range(len(gap_probs))])))"
   ],
   "metadata": {
    "collapsed": false,
    "pycharm": {
     "name": "#%%\n"
    }
   }
  },
  {
   "cell_type": "code",
   "execution_count": null,
   "outputs": [],
   "source": [
    "[gap_probs[gap-1][item[-gap]] for gap in range(len(gap_probs))]"
   ],
   "metadata": {
    "collapsed": false,
    "pycharm": {
     "name": "#%%\n"
    }
   }
  },
  {
   "cell_type": "code",
   "execution_count": null,
   "outputs": [],
   "source": [
    "list(ch(*[gap_probs[gap-1][item[-gap]] for gap in range(len(gap_probs))]))"
   ],
   "metadata": {
    "collapsed": false,
    "pycharm": {
     "name": "#%%\n"
    }
   }
  },
  {
   "cell_type": "code",
   "execution_count": null,
   "outputs": [],
   "source": [
    "sum(list(map(np.argmax,cg.predict_proba(np.array(X_test)))) == y_test)/len(y_test)"
   ],
   "metadata": {
    "collapsed": false,
    "pycharm": {
     "name": "#%%\n"
    }
   }
  },
  {
   "cell_type": "code",
   "execution_count": null,
   "outputs": [],
   "source": [
    "# first is\n",
    "gap_probs[0][0]"
   ],
   "metadata": {
    "collapsed": false,
    "pycharm": {
     "name": "#%%\n"
    }
   }
  },
  {
   "cell_type": "code",
   "execution_count": null,
   "outputs": [],
   "source": [
    "cg._label_dict.values"
   ],
   "metadata": {
    "collapsed": false,
    "pycharm": {
     "name": "#%%\n"
    }
   }
  },
  {
   "cell_type": "code",
   "execution_count": null,
   "outputs": [],
   "source": [],
   "metadata": {
    "collapsed": false,
    "pycharm": {
     "name": "#%%\n"
    }
   }
  },
  {
   "cell_type": "code",
   "execution_count": null,
   "outputs": [],
   "source": [
    "cg._label_dict"
   ],
   "metadata": {
    "collapsed": false,
    "pycharm": {
     "name": "#%%\n"
    }
   }
  },
  {
   "cell_type": "code",
   "execution_count": null,
   "outputs": [],
   "source": [
    "np.array(X_test)"
   ],
   "metadata": {
    "collapsed": false,
    "pycharm": {
     "name": "#%%\n"
    }
   }
  },
  {
   "cell_type": "code",
   "execution_count": null,
   "outputs": [],
   "source": [],
   "metadata": {
    "collapsed": false,
    "pycharm": {
     "name": "#%%\n"
    }
   }
  }
 ],
 "metadata": {
  "jupytext": {
   "formats": "ipynb,py:light"
  },
  "kernelspec": {
   "display_name": "Python 3",
   "language": "python",
   "name": "python3"
  },
  "language_info": {
   "codemirror_mode": {
    "name": "ipython",
    "version": 3
   },
   "file_extension": ".py",
   "mimetype": "text/x-python",
   "name": "python",
   "nbconvert_exporter": "python",
   "pygments_lexer": "ipython3",
   "version": "3.6.7"
  }
 },
 "nbformat": 4,
 "nbformat_minor": 2
}