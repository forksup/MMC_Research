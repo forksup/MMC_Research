{
 "cells": [
  {
   "cell_type": "code",
   "execution_count": null,
   "outputs": [],
   "source": [
    "from Models.model_sources.markov_source import MarkovChain\n",
    "from Models.MMC import MMC\n",
    "from Models.DBN import FMC\n",
    "import requests\n",
    "from Models.model_sources.mtd_source import MTD\n",
    "from Models.model_sources.path_encoder import PathEncoder, SequenceCutter\n",
    "import numpy as np\n",
    "import pandas as pd\n",
    "from matplotlib import pyplot as plt\n",
    "\n",
    "%load_ext autoreload\n",
    "%autoreload 2"
   ],
   "metadata": {
    "collapsed": false,
    "pycharm": {
     "is_executing": true
    }
   }
  },
  {
   "cell_type": "code",
   "execution_count": 26,
   "outputs": [],
   "source": [
    "# IDeas here:\n",
    "# Use indicators\n",
    "#"
   ],
   "metadata": {
    "collapsed": false
   }
  },
  {
   "cell_type": "code",
   "execution_count": 27,
   "outputs": [
    {
     "name": "stdout",
     "output_type": "stream",
     "text": [
      "    timestamp  gmtoffset             datetime        open        high  \\\n",
      "0  1653053400          0  2022-05-20 13:30:00  139.000000  139.580001   \n",
      "1  1653053700          0  2022-05-20 13:35:00  138.660003  138.910003   \n",
      "2  1653054000          0  2022-05-20 13:40:00  138.809997  139.929992   \n",
      "3  1653054300          0  2022-05-20 13:45:00  139.789993  140.179992   \n",
      "4  1653054600          0  2022-05-20 13:50:00  139.619995  140.359695   \n",
      "\n",
      "          low       close     volume  \n",
      "0  138.500000  138.651992  7433897.0  \n",
      "1  138.070007  138.809997  2606685.0  \n",
      "2  138.679992  139.785003  2955811.0  \n",
      "3  139.161804  139.612304  2670813.0  \n",
      "4  139.539993  140.239898  2352598.0  \n"
     ]
    }
   ],
   "source": [
    "interval = \"5m\"\n",
    "symbol = \"AAPL.US\"\n",
    "def get_crypto_price(symbol, exchange,interval, start_date = None):\n",
    "    api_key = '630d712fd8bd74.01254339'\n",
    "    api_url = f'https://eodhistoricaldata.com/api/intraday/{symbol}?api_token={api_key}&interval={interval}&fmt=json'\n",
    "    raw_df = requests.get(api_url).json()\n",
    "    df = pd.DataFrame(raw_df)\n",
    "    df['close'] = df['close'].astype(float)\n",
    "    return df\n",
    "\n",
    "# go for 100 states\n",
    "# add volume, increase to 24 states\n",
    "# fix training data for MTD\n",
    "#\n",
    "\n",
    "\n",
    "df = get_crypto_price(symbol = symbol, exchange = 'USD', interval = interval)\n",
    "print(df.head())\n",
    "df = df.drop([\"gmtoffset\", \"datetime\", \"timestamp\",\"volume\"], axis=1)\n",
    "\n",
    "df['Change'] = df['close'].diff()\n",
    "\n",
    "df['Change_enc'] = np.nan\n",
    "std = df.std()['Change']\n",
    "\n",
    "df.loc[df.Change < 0.0, 'Change_enc'] = \"drop\"\n",
    "\n",
    "df.loc[df.Change <= -std, 'Change_enc'] = \"big drop\"\n",
    "df.loc[df.Change <= -2*std, 'Change_enc'] = \"bigger drop\"\n",
    "df.loc[df.Change <= -3*std, 'Change_enc'] = \"biggest drop\"\n",
    "\n",
    "\n",
    "df.loc[df.Change > 0.0, 'Change_enc'] = \"rise\"\n",
    "\n",
    "df.loc[df.Change >= std, 'Change_enc'] = \"big rise\"\n",
    "df.loc[df.Change >= 2*std, 'Change_enc'] = \"bigger rise\"\n",
    "df.loc[df.Change >= 3*std, 'Change_enc'] = \"biggest rise\"\n",
    "\n",
    "\n",
    "\n",
    "# New York\n",
    "# London\n",
    "# Asia\n",
    "\n",
    "#df['volume_bin'] = pd.qcut(df['volume'], q=6, labels=[i for i in range(6)])\n",
    "df['open_bin'] = pd.qcut(df['open'], q=4, labels=[i for i in range(4)])\n",
    "df['close_bin'] = pd.qcut(df['close'], q=4, labels=[i for i in range(4)])\n",
    "\n",
    "df['ma5'] = df['Change'].rolling(window=5, min_periods=5).mean()\n",
    "\n",
    "df['ma8'] = df['Change'].rolling(window=8, min_periods=8).mean()\n",
    "df['ma13'] = df['Change'].rolling(window=13, min_periods=13).mean()\n",
    "\n",
    "\n",
    "\n",
    "columns = [\"close_bin\",\"open_bin\"] #\"volume_bin\"]\n",
    "\n",
    "for c in columns:\n",
    "    res = [None, None, None]\n",
    "    res.extend([(df.iloc[i-1][c],df.iloc[i-2][c], df.iloc[i-3][c])  for i in range(3, len(df))])\n",
    "    df[c+'_history'] = res\n",
    "\n",
    "#df.dropna(inplace=True)\n",
    "df = df.reset_index()\n",
    "\n",
    "df['ma_cross'] = [[x for _,x in sorted(zip([row['ma5'],row['ma8'],row['ma13']],[0,1,2]))] for key,row in df.iterrows()]\n",
    "\n",
    "\n",
    "df['gain'] = df['Change'].clip(lower=0).round(2)\n",
    "df['loss'] = df['Change'].clip(upper=0).abs().round(2)\n",
    "df['gain'] = df['gain'].fillna(0)\n",
    "df['loss'] = df['loss'].fillna(0)\n",
    "\n",
    "\n",
    "window_length = 14\n",
    "df['avg_gain'] = df['gain'].rolling(window=window_length, min_periods=window_length).mean()\n",
    "df['avg_loss'] = df['loss'].rolling(window=window_length, min_periods=window_length).mean()\n",
    "\n"
   ],
   "metadata": {
    "collapsed": false
   }
  },
  {
   "cell_type": "code",
   "execution_count": 28,
   "outputs": [],
   "source": [
    "df['ma_cross'] = [''.join([str(x) for _,x in sorted(zip([row['ma5'],row['ma8'],row['ma13']],[0,1,2]))]) for key,row in df.iterrows()]"
   ],
   "metadata": {
    "collapsed": false
   }
  },
  {
   "cell_type": "code",
   "execution_count": 29,
   "outputs": [
    {
     "data": {
      "text/plain": "0            NaN\n1            NaN\n2            NaN\n3            NaN\n4            NaN\n          ...   \n6394    0.023999\n6395    0.023999\n6396    0.149420\n6397    0.134003\n6398    0.116998\nName: Change, Length: 6399, dtype: float64"
     },
     "execution_count": 29,
     "metadata": {},
     "output_type": "execute_result"
    }
   ],
   "source": [
    "df['Change'].rolling(window=5, min_periods=5).mean()"
   ],
   "metadata": {
    "collapsed": false
   }
  },
  {
   "cell_type": "code",
   "execution_count": 30,
   "outputs": [
    {
     "name": "stderr",
     "output_type": "stream",
     "text": [
      "/tmp/ipykernel_18187/3763601371.py:5: SettingWithCopyWarning: \n",
      "A value is trying to be set on a copy of a slice from a DataFrame\n",
      "\n",
      "See the caveats in the documentation: https://pandas.pydata.org/pandas-docs/stable/user_guide/indexing.html#returning-a-view-versus-a-copy\n",
      "  df['avg_gain'].iloc[i + window_length + 1] = \\\n",
      "/tmp/ipykernel_18187/3763601371.py:12: SettingWithCopyWarning: \n",
      "A value is trying to be set on a copy of a slice from a DataFrame\n",
      "\n",
      "See the caveats in the documentation: https://pandas.pydata.org/pandas-docs/stable/user_guide/indexing.html#returning-a-view-versus-a-copy\n",
      "  df['avg_loss'].iloc[i + window_length + 1] = \\\n"
     ]
    },
    {
     "name": "stdout",
     "output_type": "stream",
     "text": [
      "    index        open        high         low       close    Change  \\\n",
      "13     13  138.589904  138.789993  138.270004  138.380004 -0.209992   \n",
      "14     14  138.369995  138.800003  138.309997  138.520004  0.140000   \n",
      "15     15  138.529998  138.639999  137.960006  138.009994 -0.510010   \n",
      "16     16  138.000000  138.089996  137.300003  137.374206 -0.635788   \n",
      "17     17  137.369995  137.570007  137.059997  137.190002 -0.184204   \n",
      "18     18  137.199996  137.529998  137.089996  137.399993  0.209991   \n",
      "\n",
      "   Change_enc open_bin close_bin       ma5       ma8      ma13  \\\n",
      "13       drop        0         0 -0.052338 -0.186249 -0.020922   \n",
      "14       rise        0         0 -0.039999 -0.173750 -0.022307   \n",
      "15       drop        0         0 -0.120001 -0.088751 -0.136539   \n",
      "16       drop        0         0 -0.281158 -0.158436 -0.172161   \n",
      "17       drop        0         0 -0.279999 -0.191250 -0.234607   \n",
      "18       rise        0         0 -0.196002 -0.151251 -0.190000   \n",
      "\n",
      "   close_bin_history open_bin_history ma_cross  gain  loss  avg_gain  avg_loss  \n",
      "13         (0, 0, 0)        (0, 0, 0)      102  0.00  0.21  0.147143  0.165714  \n",
      "14         (0, 0, 0)        (0, 0, 0)      102  0.14  0.00  0.157143  0.165714  \n",
      "15         (0, 0, 0)        (0, 0, 0)      201  0.00  0.51  0.145918  0.190306  \n",
      "16         (0, 0, 0)        (0, 0, 0)      021  0.00  0.64  0.135496  0.222427  \n",
      "17         (0, 0, 0)        (0, 0, 0)      021  0.00  0.18  0.125817  0.219397  \n",
      "18         (0, 0, 0)        (0, 0, 0)      021  0.21  0.00  0.131830  0.203725  \n"
     ]
    }
   ],
   "source": [
    "window_length = 14\n",
    "# Get WMS averages\n",
    "# Average Gains\n",
    "for i, row in enumerate(df['avg_gain'].iloc[window_length+1:]):\n",
    "    df['avg_gain'].iloc[i + window_length + 1] = \\\n",
    "        (df['avg_gain'].iloc[i + window_length] *\n",
    "         (window_length - 1) +\n",
    "         df['gain'].iloc[i + window_length + 1]) \\\n",
    "        / window_length\n",
    "# Average Losses\n",
    "for i, row in enumerate(df['avg_loss'].iloc[window_length+1:]):\n",
    "    df['avg_loss'].iloc[i + window_length + 1] = \\\n",
    "        (df['avg_loss'].iloc[i + window_length] *\n",
    "         (window_length - 1) +\n",
    "         df['loss'].iloc[i + window_length + 1]) \\\n",
    "        / window_length\n",
    "# View initial results\n",
    "print(df[window_length-1:window_length+5])"
   ],
   "metadata": {
    "collapsed": false
   }
  },
  {
   "cell_type": "code",
   "execution_count": 31,
   "outputs": [],
   "source": [
    "# Calculate RS Values\n",
    "df['rs'] = df['avg_gain'] / df['avg_loss']\n",
    "df = df.iloc[30:]\n",
    "def convert_rs(value):\n",
    "    if value > .70:\n",
    "        return 0\n",
    "    if value < .30:\n",
    "        return 1\n",
    "    return 2\n",
    "\n",
    "df['rs_state'] = [convert_rs(df['rs'].values[i]) for i in range(len(df))]"
   ],
   "metadata": {
    "collapsed": false
   }
  },
  {
   "cell_type": "markdown",
   "metadata": {},
   "source": [
    "## Fit models"
   ]
  },
  {
   "cell_type": "code",
   "execution_count": 32,
   "outputs": [],
   "source": [
    "values = [df.Change_enc, df.ma_cross, df.rs_state]\n",
    "\n",
    "data_to_fit = np.array([''.join([str(v.values[i]) for v in values]) for i in range(len(df))])\n",
    "#data_to_fit = np.array([str(v3[i])+str(v2[i]) for i in range(len(df))])\n",
    "values = df.Change_enc.values\n",
    "\n",
    "order = 2\n",
    "\n",
    "sc = SequenceCutter(order)\n",
    "x, y = sc.transform(data_to_fit)\n",
    "\n",
    "pe = PathEncoder(order)\n",
    "pe.fit(x, y)\n",
    "\n",
    "x_tr, y_tr = pe.transform(x, y)\n"
   ],
   "metadata": {
    "collapsed": false
   }
  },
  {
   "cell_type": "code",
   "execution_count": null,
   "outputs": [
    {
     "name": "stdout",
     "output_type": "stream",
     "text": [
      "47 48\n"
     ]
    }
   ],
   "source": [
    "from sklearn.model_selection import train_test_split\n",
    "\n",
    "div = round(len(x_tr)*.85)\n",
    "X_train, X_test, y_train, y_test = x_tr[div:, :],x_tr[:div, :], y_tr[div:], y_tr[:div]\n",
    "(X_train, X_test, y_train, y_test) = train_test_split(x_tr, y_tr)\n",
    "\n",
    "#X_train, y_train = x_tr, y_tr\n",
    "#X_test, y_test = x_tr, y_tr\n",
    "\n",
    "print(max(X_train.flatten()), len(set(X_train.flatten())))\n",
    "amount_to_average = 1\n",
    "\n",
    "sgo_type = \"greedy\"\n",
    "methods = [MMC, FMC] #HMC] #FMC]\n",
    "types = [m.__name__ for m in methods]\n",
    "\n",
    "state_count = len(np.unique(x_tr))\n",
    "\n",
    "mmc = None\n",
    "for _ in range(amount_to_average):\n",
    "\n",
    "    args_training = {\"X_train\": X_train, \"y_train\": y_train}\n",
    "    args_testing =   {\"X_test\": X_test, \"y_test\": y_test}\n",
    "    results_training = []\n",
    "    results_testing = []\n",
    "\n",
    "    for m in methods:\n",
    "        model = m(state_count, order=order)\n",
    "        training = MarkovChain.calculate_time(model.train, args_training)\n",
    "        testing = MarkovChain.calculate_time(model.test, args_testing)\n",
    "\n",
    "        if m.__name__ == \"MMC\":\n",
    "            mmc = model\n",
    "            pred_res = []\n",
    "            drop_indexes = [key for key,value in pe.label_dict_inverse.items() if \"drop\" in value]\n",
    "            rise_indexes = [key for key,value in pe.label_dict_inverse.items() if \"drop\" in value]\n",
    "\n",
    "            for lag in X_test:\n",
    "\n",
    "\n",
    "                prob_values = mmc.cpt[mmc.find_high(lag, mmc.index_dict)]\n",
    "\n",
    "                drop_prob = sum([prob_values[key] for key in drop_indexes])\n",
    "\n",
    "                if drop_prob > .5:\n",
    "                    pred_res.append(drop_indexes[0])\n",
    "                else:\n",
    "                    pred_res.append(rise_indexes[0])\n",
    "        else:\n",
    "            pred_res = model.predict(X_test)\n",
    "\n",
    "        #results_training.append(training[0])\n",
    "        results_testing.append(testing[0])\n",
    "\n",
    "        count = 0\n",
    "        for i,p in enumerate(pred_res):\n",
    "\n",
    "            if \"drop\" in pe.label_dict_inverse[p] and \"drop\" in pe.label_dict_inverse[y_test[i]]:\n",
    "                count += 1\n",
    "            elif \"rise\" in pe.label_dict_inverse[p] and \"rise\" in pe.label_dict_inverse[y_test[i]]:\n",
    "                count += 1\n",
    "        print(count/len(pred_res))\n",
    "\n",
    "\n",
    "        #print(count/sum)\n",
    "\n",
    "        print(model.__class__.__name__)\n",
    "        print(f\"Training: {training}\")\n",
    "        print(f\"Testing: {testing}\")\n",
    "        print(\"\")\n",
    "\n",
    "    print(results_testing)"
   ],
   "metadata": {
    "collapsed": false,
    "pycharm": {
     "is_executing": true
    }
   }
  },
  {
   "cell_type": "code",
   "execution_count": 33,
   "outputs": [],
   "source": [
    "lag = X_test[0]\n",
    "\n"
   ],
   "metadata": {
    "collapsed": false
   }
  },
  {
   "cell_type": "code",
   "execution_count": 34,
   "outputs": [
    {
     "data": {
      "text/plain": "0.5428490351872871"
     },
     "execution_count": 34,
     "metadata": {},
     "output_type": "execute_result"
    }
   ],
   "source": [
    "drop_prob"
   ],
   "metadata": {
    "collapsed": false
   }
  },
  {
   "cell_type": "code",
   "execution_count": null,
   "outputs": [],
   "source": [
    "def create_bar_graph(data, title, types):\n",
    "    plt.figure(figsize=(10, 5))\n",
    "\n",
    "    # creating the bar plot\n",
    "    plt.bar(types, data, color='maroon',\n",
    "            width=0.4)\n",
    "\n",
    "    plt.title(title)\n",
    "    plt.show()\n",
    "[m.__name__ for m in methods if m != MTD]\n",
    "\n",
    "create_bar_graph(results_testing, f\"{symbol} Intraday {interval} Interval Latest 15% Order {order}\", [m.__name__ for m in methods if m != MTD])"
   ],
   "metadata": {
    "collapsed": false
   }
  },
  {
   "cell_type": "code",
   "execution_count": 37,
   "outputs": [
    {
     "data": {
      "text/plain": "['MMC', 'FMC', 'HMC']"
     },
     "execution_count": 37,
     "metadata": {},
     "output_type": "execute_result"
    }
   ],
   "source": [
    "[m.__name__ for m in methods]"
   ],
   "metadata": {
    "collapsed": false
   }
  },
  {
   "cell_type": "markdown",
   "metadata": {},
   "source": [
    "## Choose model"
   ]
  },
  {
   "cell_type": "code",
   "execution_count": 39,
   "outputs": [
    {
     "data": {
      "text/plain": "[0]"
     },
     "execution_count": 39,
     "metadata": {},
     "output_type": "execute_result"
    }
   ],
   "source": [
    "mmc.predict([x_tr[-1]])"
   ],
   "metadata": {
    "collapsed": false
   }
  },
  {
   "cell_type": "code",
   "execution_count": null,
   "outputs": [],
   "source": [],
   "metadata": {
    "collapsed": false
   }
  }
 ],
 "metadata": {
  "jupytext": {
   "formats": "ipynb,py:light"
  },
  "kernelspec": {
   "display_name": "Python 3",
   "language": "python",
   "name": "python3"
  },
  "language_info": {
   "codemirror_mode": {
    "name": "ipython",
    "version": 3
   },
   "file_extension": ".py",
   "mimetype": "text/x-python",
   "name": "python",
   "nbconvert_exporter": "python",
   "pygments_lexer": "ipython3",
   "version": "3.6.7"
  }
 },
 "nbformat": 4,
 "nbformat_minor": 2
}
