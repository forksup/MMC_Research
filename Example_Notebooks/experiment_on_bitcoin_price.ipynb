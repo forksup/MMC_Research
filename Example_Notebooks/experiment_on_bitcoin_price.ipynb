{
 "cells": [
  {
   "cell_type": "code",
   "execution_count": null,
   "outputs": [],
   "source": [
    "from Models.model_sources.markov_source import MarkovChain\n",
    "from Models.MMC import MMC\n",
    "from Models.DBN import FMC\n",
    "import requests\n",
    "from Models.model_sources.mtd_source import MTD\n",
    "from Models.model_sources.path_encoder import PathEncoder, SequenceCutter\n",
    "\n",
    "import numpy as np\n",
    "import pandas as pd\n",
    "from matplotlib import pyplot as plt\n",
    "\n",
    "%load_ext autoreload\n",
    "%autoreload 2"
   ],
   "metadata": {
    "collapsed": false,
    "pycharm": {
     "is_executing": true
    }
   }
  },
  {
   "cell_type": "code",
   "execution_count": 32,
   "outputs": [],
   "source": [
    "# use hillclimbing and misalignment combinment\n",
    "# take a look at java code\n"
   ],
   "metadata": {
    "collapsed": false
   }
  },
  {
   "cell_type": "code",
   "execution_count": 42,
   "outputs": [
    {
     "name": "stdout",
     "output_type": "stream",
     "text": [
      "    timestamp  gmtoffset             datetime        open        high  \\\n",
      "0  1654003800          0  2022-05-31 13:30:00  150.000000  150.121994   \n",
      "1  1654004100          0  2022-05-31 13:35:00  148.315902  148.779998   \n",
      "2  1654004400          0  2022-05-31 13:40:00  148.199996  148.399993   \n",
      "3  1654004700          0  2022-05-31 13:45:00  147.770004  148.490005   \n",
      "4  1654005000          0  2022-05-31 13:50:00  148.020004  148.539993   \n",
      "\n",
      "          low       close     volume  \n",
      "0  148.300003  148.320007  5858531.0  \n",
      "1  148.009994  148.199996  1865629.0  \n",
      "2  147.580001  147.759994  1810754.0  \n",
      "3  147.750000  148.019302  1784333.0  \n",
      "4  147.779998  147.829895  1415227.0  \n"
     ]
    }
   ],
   "source": [
    "interval = \"5m\"\n",
    "symbol = \"AAPL.US\"\n",
    "def get_crypto_price(symbol, exchange,interval, start_date = None):\n",
    "    api_key = '630d712fd8bd74.01254339'\n",
    "    api_url = f'https://eodhistoricaldata.com/api/intraday/{symbol}?api_token={api_key}&interval={interval}&fmt=json'\n",
    "    raw_df = requests.get(api_url).json()\n",
    "    df = pd.DataFrame(raw_df)\n",
    "    df['close'] = df['close'].astype(float)\n",
    "    return df\n",
    "\n",
    "# go for 100 states\n",
    "# add volume, increase to 24 states\n",
    "# fix training data for MTD\n",
    "\n",
    "df = get_crypto_price(symbol = symbol, exchange = 'USD', interval = interval)\n",
    "print(df.head())\n",
    "df = df.drop([\"gmtoffset\", \"datetime\", \"timestamp\",\"volume\"], axis=1)\n",
    "\n",
    "df['Change'] = df['close'].diff()\n",
    "\n",
    "df['Change_enc'] = np.nan\n",
    "std = df.std()['Change']\n",
    "\n",
    "df.loc[df.Change < 0.0, 'Change_enc'] = \"drop\"\n",
    "df.loc[df.Change > 0.0, 'Change_enc'] = \"rise\"\n",
    "\n",
    "df.loc[df.Change <= -std, 'Change_enc'] = \"big drop\"\n",
    "df.loc[df.Change <= -2*std, 'Change_enc'] = \"bigger drop\"\n",
    "df.loc[df.Change <= -3*std, 'Change_enc'] = \"biggest drop\"\n",
    "df.loc[df.Change >= std, 'Change_enc'] = \"big rise\"\n",
    "df.loc[df.Change >= 2*std, 'Change_enc'] = \"bigger rise\"\n",
    "df.loc[df.Change >= 3*std, 'Change_enc'] = \"biggest rise\"\n",
    "\n",
    "#df['volume_bin'] = pd.qcut(df['volume'], q=6, labels=[i for i in range(6)])\n",
    "#df['open_bin'] = pd.qcut(df['open'], q=4, labels=[i for i in range(4)])\n",
    "#df['close_bin'] = pd.qcut(df['close'], q=4 , labels=[i for i in range(4)])\n",
    "\n",
    "df['ma5'] = df['close'].rolling(window=5, min_periods=5).mean()\n",
    "df['ma8'] = df['close'].rolling(window=8, min_periods=8).mean()\n",
    "df['ma13'] = df['close'].rolling(window=13, min_periods=13).mean()\n",
    "\n",
    "\"\"\"columns = [\"close_bin\",\"open_bin\"] #\"volume_bin\"]\n",
    "\n",
    "for c in columns:\n",
    "    res = [None, None, None]\n",
    "    res.extend([(df.iloc[i-1][c],df.iloc[i-2][c], df.iloc[i-3][c])  for i in range(3, len(df))])\n",
    "    df[c+'_history'] = res\n",
    "\"\"\"\n",
    "#df.dropna(inplace=True)\n",
    "df = df.reset_index()\n",
    "\n",
    "#df['ma_cross'] = [[x for _,x in sorted(zip([row['ma5'],row['ma8'],row['ma13']],[0,1,2]))] for key,row in df.iterrows()]\n"
   ],
   "metadata": {
    "collapsed": false
   }
  },
  {
   "cell_type": "code",
   "execution_count": 43,
   "outputs": [],
   "source": [
    "df['gain'] = df['Change'].clip(lower=0).round(2)\n",
    "df['loss'] = df['Change'].clip(upper=0).abs().round(2)\n",
    "df['gain'] = df['gain'].fillna(0)\n",
    "df['loss'] = df['loss'].fillna(0)\n",
    "\n",
    "window_length = 14\n",
    "df['avg_gain'] = df['gain'].rolling(window=window_length, min_periods=window_length).mean()\n",
    "df['avg_loss'] = df['loss'].rolling(window=window_length, min_periods=window_length).mean()\n",
    "\n",
    "df['ma_cross'] =\\\n",
    "    [\"\".join([str(x) for _,x in sorted(zip([row['ma5'],row['ma8']],[0,1]))]) for key,row in df.iterrows()]\n",
    "\n",
    "#df['ma_cross'] = [''.join([str(x) for _,x in sorted(zip([row['ma5'],row['ma8'],row['ma13']],[0,1,2]))]) for key,row in df.iterrows()]\n",
    "\n",
    "df['ma_cross_new'] = [0] + [1 if df.iloc[i]['ma_cross'] != df.iloc[i-1]['ma_cross'] else 0 for i in range(1, len(df))]"
   ],
   "metadata": {
    "collapsed": false
   }
  },
  {
   "cell_type": "code",
   "execution_count": 44,
   "outputs": [
    {
     "data": {
      "text/plain": "   ma_cross  ma_cross_new\n0        01             0\n1        01             0\n2        01             0\n3        01             0\n4        01             0\n5        01             0\n6        01             0\n7        01             0\n8        01             0\n9        01             0\n10       01             0\n11       01             0\n12       10             1\n13       10             0\n14       10             0\n15       10             0\n16       10             0\n17       10             0\n18       10             0\n19       10             0\n20       01             1\n21       01             0\n22       01             0\n23       01             0\n24       01             0\n25       01             0\n26       10             1\n27       10             0\n28       10             0\n29       10             0\n30       10             0\n31       10             0\n32       10             0\n33       10             0\n34       10             0\n35       01             1\n36       01             0\n37       01             0\n38       01             0\n39       10             1\n40       10             0\n41       10             0\n42       10             0\n43       10             0\n44       01             1\n45       01             0\n46       01             0\n47       10             1\n48       01             1\n49       01             0",
      "text/html": "<div>\n<style scoped>\n    .dataframe tbody tr th:only-of-type {\n        vertical-align: middle;\n    }\n\n    .dataframe tbody tr th {\n        vertical-align: top;\n    }\n\n    .dataframe thead th {\n        text-align: right;\n    }\n</style>\n<table border=\"1\" class=\"dataframe\">\n  <thead>\n    <tr style=\"text-align: right;\">\n      <th></th>\n      <th>ma_cross</th>\n      <th>ma_cross_new</th>\n    </tr>\n  </thead>\n  <tbody>\n    <tr>\n      <th>0</th>\n      <td>01</td>\n      <td>0</td>\n    </tr>\n    <tr>\n      <th>1</th>\n      <td>01</td>\n      <td>0</td>\n    </tr>\n    <tr>\n      <th>2</th>\n      <td>01</td>\n      <td>0</td>\n    </tr>\n    <tr>\n      <th>3</th>\n      <td>01</td>\n      <td>0</td>\n    </tr>\n    <tr>\n      <th>4</th>\n      <td>01</td>\n      <td>0</td>\n    </tr>\n    <tr>\n      <th>5</th>\n      <td>01</td>\n      <td>0</td>\n    </tr>\n    <tr>\n      <th>6</th>\n      <td>01</td>\n      <td>0</td>\n    </tr>\n    <tr>\n      <th>7</th>\n      <td>01</td>\n      <td>0</td>\n    </tr>\n    <tr>\n      <th>8</th>\n      <td>01</td>\n      <td>0</td>\n    </tr>\n    <tr>\n      <th>9</th>\n      <td>01</td>\n      <td>0</td>\n    </tr>\n    <tr>\n      <th>10</th>\n      <td>01</td>\n      <td>0</td>\n    </tr>\n    <tr>\n      <th>11</th>\n      <td>01</td>\n      <td>0</td>\n    </tr>\n    <tr>\n      <th>12</th>\n      <td>10</td>\n      <td>1</td>\n    </tr>\n    <tr>\n      <th>13</th>\n      <td>10</td>\n      <td>0</td>\n    </tr>\n    <tr>\n      <th>14</th>\n      <td>10</td>\n      <td>0</td>\n    </tr>\n    <tr>\n      <th>15</th>\n      <td>10</td>\n      <td>0</td>\n    </tr>\n    <tr>\n      <th>16</th>\n      <td>10</td>\n      <td>0</td>\n    </tr>\n    <tr>\n      <th>17</th>\n      <td>10</td>\n      <td>0</td>\n    </tr>\n    <tr>\n      <th>18</th>\n      <td>10</td>\n      <td>0</td>\n    </tr>\n    <tr>\n      <th>19</th>\n      <td>10</td>\n      <td>0</td>\n    </tr>\n    <tr>\n      <th>20</th>\n      <td>01</td>\n      <td>1</td>\n    </tr>\n    <tr>\n      <th>21</th>\n      <td>01</td>\n      <td>0</td>\n    </tr>\n    <tr>\n      <th>22</th>\n      <td>01</td>\n      <td>0</td>\n    </tr>\n    <tr>\n      <th>23</th>\n      <td>01</td>\n      <td>0</td>\n    </tr>\n    <tr>\n      <th>24</th>\n      <td>01</td>\n      <td>0</td>\n    </tr>\n    <tr>\n      <th>25</th>\n      <td>01</td>\n      <td>0</td>\n    </tr>\n    <tr>\n      <th>26</th>\n      <td>10</td>\n      <td>1</td>\n    </tr>\n    <tr>\n      <th>27</th>\n      <td>10</td>\n      <td>0</td>\n    </tr>\n    <tr>\n      <th>28</th>\n      <td>10</td>\n      <td>0</td>\n    </tr>\n    <tr>\n      <th>29</th>\n      <td>10</td>\n      <td>0</td>\n    </tr>\n    <tr>\n      <th>30</th>\n      <td>10</td>\n      <td>0</td>\n    </tr>\n    <tr>\n      <th>31</th>\n      <td>10</td>\n      <td>0</td>\n    </tr>\n    <tr>\n      <th>32</th>\n      <td>10</td>\n      <td>0</td>\n    </tr>\n    <tr>\n      <th>33</th>\n      <td>10</td>\n      <td>0</td>\n    </tr>\n    <tr>\n      <th>34</th>\n      <td>10</td>\n      <td>0</td>\n    </tr>\n    <tr>\n      <th>35</th>\n      <td>01</td>\n      <td>1</td>\n    </tr>\n    <tr>\n      <th>36</th>\n      <td>01</td>\n      <td>0</td>\n    </tr>\n    <tr>\n      <th>37</th>\n      <td>01</td>\n      <td>0</td>\n    </tr>\n    <tr>\n      <th>38</th>\n      <td>01</td>\n      <td>0</td>\n    </tr>\n    <tr>\n      <th>39</th>\n      <td>10</td>\n      <td>1</td>\n    </tr>\n    <tr>\n      <th>40</th>\n      <td>10</td>\n      <td>0</td>\n    </tr>\n    <tr>\n      <th>41</th>\n      <td>10</td>\n      <td>0</td>\n    </tr>\n    <tr>\n      <th>42</th>\n      <td>10</td>\n      <td>0</td>\n    </tr>\n    <tr>\n      <th>43</th>\n      <td>10</td>\n      <td>0</td>\n    </tr>\n    <tr>\n      <th>44</th>\n      <td>01</td>\n      <td>1</td>\n    </tr>\n    <tr>\n      <th>45</th>\n      <td>01</td>\n      <td>0</td>\n    </tr>\n    <tr>\n      <th>46</th>\n      <td>01</td>\n      <td>0</td>\n    </tr>\n    <tr>\n      <th>47</th>\n      <td>10</td>\n      <td>1</td>\n    </tr>\n    <tr>\n      <th>48</th>\n      <td>01</td>\n      <td>1</td>\n    </tr>\n    <tr>\n      <th>49</th>\n      <td>01</td>\n      <td>0</td>\n    </tr>\n  </tbody>\n</table>\n</div>"
     },
     "execution_count": 44,
     "metadata": {},
     "output_type": "execute_result"
    }
   ],
   "source": [
    "df[['ma_cross', 'ma_cross_new']].head(50)"
   ],
   "metadata": {
    "collapsed": false
   }
  },
  {
   "cell_type": "code",
   "execution_count": 45,
   "outputs": [
    {
     "name": "stderr",
     "output_type": "stream",
     "text": [
      "/var/folders/zx/yk985wb16xsc86xkvb1kqg500000gn/T/ipykernel_6175/3763601371.py:5: SettingWithCopyWarning: \n",
      "A value is trying to be set on a copy of a slice from a DataFrame\n",
      "\n",
      "See the caveats in the documentation: https://pandas.pydata.org/pandas-docs/stable/user_guide/indexing.html#returning-a-view-versus-a-copy\n",
      "  df['avg_gain'].iloc[i + window_length + 1] = \\\n",
      "/var/folders/zx/yk985wb16xsc86xkvb1kqg500000gn/T/ipykernel_6175/3763601371.py:12: SettingWithCopyWarning: \n",
      "A value is trying to be set on a copy of a slice from a DataFrame\n",
      "\n",
      "See the caveats in the documentation: https://pandas.pydata.org/pandas-docs/stable/user_guide/indexing.html#returning-a-view-versus-a-copy\n",
      "  df['avg_loss'].iloc[i + window_length + 1] = \\\n"
     ]
    },
    {
     "name": "stdout",
     "output_type": "stream",
     "text": [
      "    index        open        high         low       close    Change  \\\n",
      "13     13  148.379898  148.479995  148.179992  148.342193 -0.032807   \n",
      "14     14  148.345001  148.698196  148.199996  148.698196  0.356003   \n",
      "15     15  148.699005  148.789993  148.449096  148.479995 -0.218201   \n",
      "16     16  148.470092  148.669998  148.339996  148.666198  0.186203   \n",
      "17     17  148.679992  148.720001  148.350006  148.518997 -0.147201   \n",
      "18     18  148.509994  148.979995  148.470001  148.839996  0.320999   \n",
      "\n",
      "   Change_enc         ma5         ma8        ma13  gain  loss  avg_gain  \\\n",
      "13       drop  148.064221  147.800638  147.853483  0.00  0.03  0.110000   \n",
      "14   big rise  148.280859  147.952287  147.891807  0.36  0.00  0.135714   \n",
      "15       drop  148.377078  148.118538  147.947191  0.00  0.22  0.126020   \n",
      "16       rise  148.512316  148.270687  147.996952  0.19  0.00  0.130590   \n",
      "17       drop  148.541116  148.383686  148.049960  0.00  0.15  0.121262   \n",
      "18   big rise  148.640676  148.488822  148.123730  0.32  0.00  0.135458   \n",
      "\n",
      "    avg_loss ma_cross  ma_cross_new  \n",
      "13  0.109286       10             0  \n",
      "14  0.109286       10             0  \n",
      "15  0.117194       10             0  \n",
      "16  0.108823       10             0  \n",
      "17  0.111764       10             0  \n",
      "18  0.103781       10             0  \n"
     ]
    }
   ],
   "source": [
    "window_length = 14\n",
    "# Get WMS averages\n",
    "# try to get more data\n",
    "#\n",
    "# Average Gains\n",
    "for i, row in enumerate(df['avg_gain'].iloc[window_length+1:]):\n",
    "    df['avg_gain'].iloc[i + window_length + 1] = \\\n",
    "        (df['avg_gain'].iloc[i + window_length] *\n",
    "         (window_length - 1) +\n",
    "         df['gain'].iloc[i + window_length + 1]) \\\n",
    "        / window_length\n",
    "# Average Losses\n",
    "for i, row in enumerate(df['avg_loss'].iloc[window_length+1:]):\n",
    "    df['avg_loss'].iloc[i + window_length + 1] = \\\n",
    "        (df['avg_loss'].iloc[i + window_length] *\n",
    "         (window_length - 1) +\n",
    "         df['loss'].iloc[i + window_length + 1]) \\\n",
    "        / window_length\n",
    "# View initial results\n",
    "print(df[window_length-1:window_length+5])"
   ],
   "metadata": {
    "collapsed": false
   }
  },
  {
   "cell_type": "code",
   "execution_count": 46,
   "outputs": [
    {
     "name": "stderr",
     "output_type": "stream",
     "text": [
      "/var/folders/zx/yk985wb16xsc86xkvb1kqg500000gn/T/ipykernel_6175/3583435095.py:11: SettingWithCopyWarning: \n",
      "A value is trying to be set on a copy of a slice from a DataFrame.\n",
      "Try using .loc[row_indexer,col_indexer] = value instead\n",
      "\n",
      "See the caveats in the documentation: https://pandas.pydata.org/pandas-docs/stable/user_guide/indexing.html#returning-a-view-versus-a-copy\n",
      "  df['rs_state'] = [convert_rs(df['rs'].values[i]) for i in range(len(df))]\n"
     ]
    }
   ],
   "source": [
    "# Calculate RS Values\n",
    "df['rs'] = df['avg_gain'] / df['avg_loss']\n",
    "df = df.iloc[30:]\n",
    "def convert_rs(value):\n",
    "    if value > .70:\n",
    "        return 0\n",
    "    if value < .30:\n",
    "        return 1\n",
    "    return 2\n",
    "\n",
    "df['rs_state'] = [convert_rs(df['rs'].values[i]) for i in range(len(df))]"
   ],
   "metadata": {
    "collapsed": false
   }
  },
  {
   "cell_type": "markdown",
   "metadata": {},
   "source": [
    "## Fit models"
   ]
  },
  {
   "cell_type": "code",
   "execution_count": 49,
   "outputs": [],
   "source": [
    "values = [df.Change_enc, df.ma_cross, df.rs_state]\n",
    "\n",
    "data_to_fit = np.array([''.join([str(v.values[i]) for v in values]) for i in range(len(df))])\n",
    "\n",
    "order = 7\n",
    "\n",
    "sc = SequenceCutter(order)\n",
    "x, y = sc.transform(data_to_fit)\n",
    "\n",
    "pe = PathEncoder(order)\n",
    "pe.fit(x, y)\n",
    "\n",
    "x_tr, y_tr = pe.transform(x, y)"
   ],
   "metadata": {
    "collapsed": false
   }
  },
  {
   "cell_type": "code",
   "execution_count": 50,
   "outputs": [
    {
     "name": "stdout",
     "output_type": "stream",
     "text": [
      "34 29\n",
      "0.49853372434017595\n",
      "MMC\n",
      "Training: (None, 0.109093)\n",
      "Testing: (0.24564429877522856, 0.588304)\n",
      "\n",
      "0.48956356736242884\n",
      "FMC\n",
      "Training: (None, 0.16561)\n",
      "Testing: (0.3141279972399517, 3.227963)\n",
      "\n",
      "[0.24564429877522856, 0.3141279972399517]\n"
     ]
    }
   ],
   "source": [
    "from sklearn.model_selection import train_test_split\n",
    "\n",
    "div = round(len(x_tr)*.90)\n",
    "X_train, X_test, y_train, y_test = x_tr[div:, :], x_tr[:div, :], y_tr[div:], y_tr[:div]\n",
    "#(X_train, X_test, y_train, y_test) = train_test_split(x_tr, y_tr)\n",
    "\n",
    "print(max(X_train.flatten()), len(set(X_train.flatten())))\n",
    "amount_to_average = 1\n",
    "\n",
    "sgo_type = \"greedy\"\n",
    "methods = [MMC, FMC] #HMC] #FMC]\n",
    "types = [m.__name__ for m in methods]\n",
    "\n",
    "state_count = len(np.unique(x_tr))\n",
    "\n",
    "mmc = None\n",
    "for _ in range(amount_to_average):\n",
    "    args_training = {\"X_train\": X_train, \"y_train\": y_train}\n",
    "    args_testing =   {\"X_test\": X_test, \"y_test\": y_test}\n",
    "    results_training = []\n",
    "    results_testing = []\n",
    "\n",
    "    for m in methods:\n",
    "        model = m(state_count, order=order)\n",
    "        training = MarkovChain.calculate_time(model.train, args_training)\n",
    "        testing = MarkovChain.calculate_time(model.test, args_testing)\n",
    "\n",
    "        if m.__name__ == \"MMC\":\n",
    "            mmc = model\n",
    "            pred_res = []\n",
    "            drop_indexes = [key for key,value in pe.label_dict_inverse.items() if \"drop\" in value]\n",
    "            rise_indexes = [key for key,value in pe.label_dict_inverse.items() if \"rise\" in value]\n",
    "\n",
    "            for lag in X_test:\n",
    "\n",
    "                prob_values = mmc.cpt[mmc.find_high(lag, mmc.index_dict)]\n",
    "                drop_prob = sum([prob_values[key] for key in drop_indexes])\n",
    "\n",
    "                if drop_prob >= .5:\n",
    "                    pred_res.append(drop_indexes[0])\n",
    "                else:\n",
    "                    pred_res.append(rise_indexes[0])\n",
    "        else:\n",
    "            pred_res = model.predict(X_test)\n",
    "\n",
    "        #results_training.append(training[0])\n",
    "        results_testing.append(testing[0])\n",
    "\n",
    "        count = 0\n",
    "        for i,p in enumerate(pred_res):\n",
    "\n",
    "            if \"drop\" in pe.label_dict_inverse[p] and \"drop\" in pe.label_dict_inverse[y_test[i]]:\n",
    "                count += 1\n",
    "            elif \"rise\" in pe.label_dict_inverse[p] and \"rise\" in pe.label_dict_inverse[y_test[i]]:\n",
    "                count += 1\n",
    "        print(count/len(pred_res))\n",
    "\n",
    "        print(model.__class__.__name__)\n",
    "        print(f\"Training: {training}\")\n",
    "        print(f\"Testing: {testing}\")\n",
    "        print(\"\")\n",
    "\n",
    "    print(results_testing)"
   ],
   "metadata": {
    "collapsed": false
   }
  },
  {
   "cell_type": "code",
   "execution_count": 96,
   "outputs": [
    {
     "data": {
      "text/plain": "<Figure size 1000x500 with 1 Axes>",
      "image/png": "[encoded data removed]"
     },
     "metadata": {},
     "output_type": "display_data"
    }
   ],
   "source": [
    "def create_bar_graph(data, title, types):\n",
    "    plt.figure(figsize=(10, 5))\n",
    "\n",
    "    # creating the bar plot\n",
    "    plt.bar(types, data, color='maroon',\n",
    "            width=0.4)\n",
    "\n",
    "    plt.title(title)\n",
    "    plt.show()\n",
    "[m.__name__ for m in methods if m != MTD]\n",
    "\n",
    "create_bar_graph(results_testing, f\"{symbol} Intraday {interval} Interval Latest 15% Order {order}\", [m.__name__ for m in methods if m != MTD])"
   ],
   "metadata": {
    "collapsed": false
   }
  },
  {
   "cell_type": "code",
   "execution_count": 37,
   "outputs": [
    {
     "data": {
      "text/plain": "['MMC', 'FMC', 'HMC']"
     },
     "execution_count": 37,
     "metadata": {},
     "output_type": "execute_result"
    }
   ],
   "source": [
    "[m.__name__ for m in methods]"
   ],
   "metadata": {
    "collapsed": false
   }
  },
  {
   "cell_type": "markdown",
   "metadata": {},
   "source": [
    "## Choose model"
   ]
  },
  {
   "cell_type": "code",
   "execution_count": 39,
   "outputs": [
    {
     "data": {
      "text/plain": "[0]"
     },
     "execution_count": 39,
     "metadata": {},
     "output_type": "execute_result"
    }
   ],
   "source": [
    "mmc.predict([x_tr[-1]])"
   ],
   "metadata": {
    "collapsed": false
   }
  }
 ],
 "metadata": {
  "jupytext": {
   "formats": "ipynb,py:light"
  },
  "kernelspec": {
   "display_name": "Python 3",
   "language": "python",
   "name": "python3"
  },
  "language_info": {
   "codemirror_mode": {
    "name": "ipython",
    "version": 3
   },
   "file_extension": ".py",
   "mimetype": "text/x-python",
   "name": "python",
   "nbconvert_exporter": "python",
   "pygments_lexer": "ipython3",
   "version": "3.6.7"
  }
 },
 "nbformat": 4,
 "nbformat_minor": 2
}
