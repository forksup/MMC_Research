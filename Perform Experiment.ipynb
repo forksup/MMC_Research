{
 "cells": [
  {
   "cell_type": "code",
   "execution_count": null,
   "metadata": {
    "collapsed": true,
    "pycharm": {
     "name": "#%%\n"
    }
   },
   "outputs": [],
   "source": [
    "%cd /notebooks\n",
    "!rm -d -r -rf \"thesis_research\"\n",
    "!git clone -b master2 https://github.com/forksup/thesis_research/\n",
    "!pip install progressbar fastparquet\n",
    "%cd thesis_research\n",
    "from run_experiments import run_experiment\n",
    "from Datasets import Markov_Data, MMC_Data, Fruit_Data\n"
   ]
  },
  {
   "cell_type": "code",
   "execution_count": null,
   "outputs": [],
   "source": [
    "from Models.model_sources.markov_source import MarkovChain\n",
    "from Models.MMC import MMC\n",
    "from Models.HMC import HMC\n",
    "from Models.DBN import FMC\n",
    "from Models.model_sources.mtd_source import MTD\n",
    "\n",
    "from Datasets import Markov_Data, MMC_Data, Fruit_Data, Markov_Data_Large\n",
    "\n",
    "methods = [HMC, FMC, MMC, MTD]\n",
    "types = [m.__name__ for m in methods]\n",
    "data_generator = Markov_Data.HMM_Data\n",
    "data_size_args = 5000\n",
    "state_size_args = 7\n",
    "order_size_args = (3,11,1)\n",
    "avg_amt = 30\n",
    "threading = True\n",
    "\n",
    "metric_to_test = \"order\"\n",
    "\n",
    "# Data size 2k-20k, State size 3-15, order 3-10 , choose these when you have to fix parameters: datasize 5k, state size 7, order 5\n",
    "# order, state_space, or data_size\n",
    "\n",
    "data_results, sgo_type = run_experiment(methods, avg_amt, data_generator, threading, metric_to_test, data_size_args,\n",
    "                                        state_size_args, order_size_args, f\"/storage/data/HMM_Order.pkl\")"
   ],
   "metadata": {
    "collapsed": false,
    "pycharm": {
     "name": "#%%\n"
    }
   }
  }
 ],
 "metadata": {
  "kernelspec": {
   "display_name": "Python 3",
   "language": "python",
   "name": "python3"
  },
  "language_info": {
   "codemirror_mode": {
    "name": "ipython",
    "version": 2
   },
   "file_extension": ".py",
   "mimetype": "text/x-python",
   "name": "python",
   "nbconvert_exporter": "python",
   "pygments_lexer": "ipython2",
   "version": "2.7.6"
  }
 },
 "nbformat": 4,
 "nbformat_minor": 0
}