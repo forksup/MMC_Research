{
 "cells": [
  {
   "cell_type": "code",
   "execution_count": 1,
   "id": "c1ff4821-173a-43ea-8649-bc9cd9c54c84",
   "metadata": {
    "execution": {
     "iopub.execute_input": "2022-09-09T17:22:07.334418Z",
     "iopub.status.busy": "2022-09-09T17:22:07.333833Z",
     "iopub.status.idle": "2022-09-09T17:22:12.455286Z",
     "shell.execute_reply": "2022-09-09T17:22:12.453887Z",
     "shell.execute_reply.started": "2022-09-09T17:22:07.334291Z"
    }
   },
   "outputs": [
    {
     "name": "stdout",
     "output_type": "stream",
     "text": [
      "Collecting tabulate\n",
      "  Downloading tabulate-0.8.10-py3-none-any.whl (29 kB)\n",
      "Installing collected packages: tabulate\n",
      "Successfully installed tabulate-0.8.10\n",
      "\u001b[33mWARNING: Running pip as the 'root' user can result in broken permissions and conflicting behaviour with the system package manager. It is recommended to use a virtual environment instead: https://pip.pypa.io/warnings/venv\u001b[0m\u001b[33m\n",
      "\u001b[0m"
     ]
    }
   ],
   "source": [
    "!pip install tabulate\n",
    "from tabulate import tabulate"
   ]
  },
  {
   "cell_type": "code",
   "execution_count": 2,
   "id": "974afc36-08b1-45f4-bea5-49bdec703d2c",
   "metadata": {
    "execution": {
     "iopub.execute_input": "2022-09-09T17:22:40.793109Z",
     "iopub.status.busy": "2022-09-09T17:22:40.792585Z",
     "iopub.status.idle": "2022-09-09T17:22:41.638478Z",
     "shell.execute_reply": "2022-09-09T17:22:41.636801Z",
     "shell.execute_reply.started": "2022-09-09T17:22:40.793064Z"
    }
   },
   "outputs": [
    {
     "ename": "ModuleNotFoundError",
     "evalue": "No module named 'run_experiments'",
     "output_type": "error",
     "traceback": [
      "\u001b[0;31m---------------------------------------------------------------------------\u001b[0m",
      "\u001b[0;31mModuleNotFoundError\u001b[0m                       Traceback (most recent call last)",
      "Input \u001b[0;32mIn [2]\u001b[0m, in \u001b[0;36m<cell line: 1>\u001b[0;34m()\u001b[0m\n\u001b[0;32m----> 1\u001b[0m \u001b[38;5;28;01mfrom\u001b[39;00m \u001b[38;5;21;01mrun_experiments\u001b[39;00m \u001b[38;5;28;01mimport\u001b[39;00m plot_data, metrics, find_average\n\u001b[1;32m      2\u001b[0m \u001b[38;5;28;01mfrom\u001b[39;00m \u001b[38;5;21;01mmatplotlib\u001b[39;00m \u001b[38;5;28;01mimport\u001b[39;00m pyplot \u001b[38;5;28;01mas\u001b[39;00m plt\n\u001b[1;32m      3\u001b[0m \u001b[38;5;28;01mfrom\u001b[39;00m \u001b[38;5;21;01mModels\u001b[39;00m\u001b[38;5;21;01m.\u001b[39;00m\u001b[38;5;21;01mMMC\u001b[39;00m \u001b[38;5;28;01mimport\u001b[39;00m MMC\n",
      "\u001b[0;31mModuleNotFoundError\u001b[0m: No module named 'run_experiments'"
     ]
    }
   ],
   "source": [
    "from run_experiments import plot_data, metrics, find_average\n",
    "from matplotlib import pyplot as plt\n",
    "from Models.MMC import MMC\n",
    "from Models.HMC import HMC\n",
    "from Models.DBN import FMC\n",
    "from Models.model_sources.mtd_source import MTD\n",
    "import pickle\n",
    "import os\n",
    "import itertools\n",
    "from scipy import stats\n",
    "methods = [HMC, FMC, MMC, MTD]\n",
    "\n",
    "plt.rcParams.update({'font.size': 22})\n",
    "metrics = [\"Testing Accuracy\", \"Training Times\"]\n",
    "\n",
    "from os import walk\n",
    "\n",
    "basepath = \"/storage/data/\"\n",
    "\n",
    "\n",
    "method_perms = list(itertools.permutations(methods, 2))\n",
    "method_perms = []\n",
    "for m in methods:\n",
    "    if m != MMC:\n",
    "        method_perms.append((MMC, m))\n",
    "headers = [f\"{m1.__name__}-{m2.__name__}\" for m1, m2 in method_perms]\n",
    "for filename in os.listdir(basepath):\n",
    "    path = basepath+filename\n",
    "    \n",
    "    metric_to_test = path.split(\"/\")[-1].split(\"_\")[1].split(\".\")[0]\n",
    "    data_type = path.split(\"/\")[-1].split(\"_\")[0]\n",
    "    \n",
    "    with open(path, 'rb') as f:\n",
    "        x = pickle.load(f)\n",
    "    \n",
    "    t_test = [headers, []]\n",
    "\n",
    "    for st in x:\n",
    "        for m1, m2 in method_perms:\n",
    "            n1 = m1.__name__\n",
    "            n2 = m2.__name__\n",
    "            #print(f\"T-Test for {n1} & {n2}\")\n",
    "            tstat, pval = stats.ttest_rel(x[st][n1]['Testing Accuracy'][0][0], x[st][n2]['Testing Accuracy'][0][0])\n",
    "            \n",
    "            if round(pval, 3) == 0:\n",
    "                t_test[-1].append(\"0.000\")\n",
    "            else:\n",
    "                t_test[-1].append(round(pval,3))\n",
    "        t_test.append([])\n",
    "    t_test.pop(-1)\n",
    "    \n",
    "    print(filename)\n",
    "    #print(tabulate(t_test, headers=\"firstrow\"))\n",
    "    print(tabulate(t_test, headers=\"firstrow\", tablefmt=\"latex\"))\n",
    "        \n",
    "    for key, data in x.items():\n",
    "        for method in data:\n",
    "            for m in metrics:\n",
    "                x[key][method][m] = [(find_average(x[key][method][m][0][0]), x[key][method][m][0][1])]\n",
    "\n",
    "    methods = [HMC, FMC, MMC, MTD]\n",
    "    types = [m.__name__ for m in methods]\n",
    "\n",
    "    fig, axs = plt.subplots(len(metrics), 1, figsize=(20, 13))\n",
    "    fig.suptitle(f'Data Type: {data_type}', y=1.08)\n",
    "    colors = [\"#21d185\", \"#d1218b\", \"#0000FF\", \"#FFA500\"]\n",
    "    for im, met in enumerate(metrics):\n",
    "        plot_data(x.keys(), x, met, met, axs[im], colors, \"state\", types)\n",
    "    \n",
    "    axs[-1].set_xlabel(metric_to_test)\n",
    "    fig.tight_layout()\n",
    "    fig.savefig(\"experiment_results/\"+data_type+\"_\"+metric_to_test+\".png\")\n",
    "    #fig.show()"
   ]
  }
 ],
 "metadata": {
  "kernelspec": {
   "display_name": "Python 3 (ipykernel)",
   "language": "python",
   "name": "python3"
  },
  "language_info": {
   "codemirror_mode": {
    "name": "ipython",
    "version": 3
   },
   "file_extension": ".py",
   "mimetype": "text/x-python",
   "name": "python",
   "nbconvert_exporter": "python",
   "pygments_lexer": "ipython3",
   "version": "3.9.13"
  }
 },
 "nbformat": 4,
 "nbformat_minor": 5
}
