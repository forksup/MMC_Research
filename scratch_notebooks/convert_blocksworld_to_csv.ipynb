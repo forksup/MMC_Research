{
 "cells": [
  {
   "cell_type": "code",
   "execution_count": 5,
   "outputs": [],
   "source": [
    "import pickle\n",
    "import os\n",
    "import pandas as pd\n",
    "from collections import defaultdict\n",
    "episodes = []\n",
    "directory = \"/mnt/watchandhelp/PycharmProjects/pddl-generators/blocksworld/data/data-4blocks-10goals-4ops\"\n",
    "keys = set()\n",
    "for filename in os.listdir(directory):\n",
    "    if \".soln\" in filename:\n",
    "\n",
    "        file = open(f\"{directory}/{filename}\", 'rb')\n",
    "        object_file = pickle.load(file)\n",
    "        # for key, value in object_file['solution'].items():\n",
    "        # object_file['solution'][key] = value\n",
    "        del object_file['solution'][0]\n",
    "        df2 = pd.DataFrame(object_file['solution'], index=list(range(len(object_file['solution']))),\n",
    "                           columns=['action'])\n",
    "        df1 = pd.DataFrame(object_file['trace'], index=list(range(len(object_file['trace']))))\n",
    "        episodes.append(pd.concat([df1, df2], axis=1))\n",
    "        keys.update(episodes[-1].keys())\n",
    "        if len(df2) == 0:\n",
    "            pass\n",
    "        if len(df2) != 0:\n",
    "            #frames[folder].append(pd.concat([df1, df2], axis=1))\n",
    "            pass\n",
    "        file.close()"
   ],
   "metadata": {
    "collapsed": false,
    "pycharm": {
     "name": "#%%\n"
    }
   }
  },
  {
   "cell_type": "code",
   "execution_count": 6,
   "outputs": [
    {
     "data": {
      "text/plain": "5000"
     },
     "execution_count": 6,
     "metadata": {},
     "output_type": "execute_result"
    }
   ],
   "source": [
    "len(episodes)"
   ],
   "metadata": {
    "collapsed": false,
    "pycharm": {
     "name": "#%%\n"
    }
   }
  },
  {
   "cell_type": "code",
   "execution_count": 7,
   "outputs": [],
   "source": [
    "end_marker = pd.DataFrame({key: [\"end\"] for key in keys})"
   ],
   "metadata": {
    "collapsed": false,
    "pycharm": {
     "name": "#%%\n"
    }
   }
  },
  {
   "cell_type": "code",
   "execution_count": 8,
   "outputs": [],
   "source": [
    "final_res = []\n",
    "for e in range(len(episodes)):\n",
    "    final_res.append(episodes[e])\n",
    "    final_res.append(end_marker)\n",
    "df = pd.concat(final_res,ignore_index=True)\n",
    "df.to_csv(\"4blocks-10goals\", index_label=False,na_rep=\"null\",index=False)"
   ],
   "metadata": {
    "collapsed": false,
    "pycharm": {
     "name": "#%%\n"
    }
   }
  },
  {
   "cell_type": "code",
   "execution_count": 38,
   "outputs": [
    {
     "data": {
      "text/plain": "       arm-empty on_b2 on_b1 clear_b1 on-table_b5 clear_b4 on-table_b3 on_b4  \\\n0           True    b5    b6     True        True     True        True    b3   \n1            NaN    b5   NaN      NaN        True     True        True    b3   \n2           True    b5   NaN     True        True     True        True    b3   \n3            NaN    b5   NaN     True        True      NaN        True   NaN   \n4           True    b5   NaN      NaN        True     True        True    b1   \n...          ...   ...   ...      ...         ...      ...         ...   ...   \n238075       NaN    b1    b4      NaN        True      NaN         NaN   NaN   \n238076      True    b1    b4      NaN        True      NaN         NaN   NaN   \n238077       NaN    b1    b4      NaN         NaN      NaN         NaN   NaN   \n238078      True    b1    b4      NaN         NaN      NaN         NaN   NaN   \n238079       end   end   end      end         end      end         end   end   \n\n       on_b6 clear_b6  ... on-table_b6 holding_b2 clear_b5           action  \\\n0         b2      NaN  ...         NaN        NaN      NaN  (unstack_b1_b6)   \n1         b2     True  ...         NaN        NaN      NaN     (putdown_b1)   \n2         b2     True  ...         NaN        NaN      NaN  (unstack_b4_b3)   \n3         b2     True  ...         NaN        NaN      NaN    (stack_b4_b1)   \n4         b2     True  ...         NaN        NaN      NaN  (unstack_b6_b2)   \n...      ...      ...  ...         ...        ...      ...              ...   \n238075    b2     True  ...         NaN        NaN     True    (stack_b3_b6)   \n238076    b2      NaN  ...         NaN        NaN     True      (pickup_b5)   \n238077    b2      NaN  ...         NaN        NaN      NaN    (stack_b5_b3)   \n238078    b2      NaN  ...         NaN        NaN     True              NaN   \n238079   end      end  ...         end        end      end              end   \n\n       on_b3 on-table_b2 holding_b3 on_b5 on-table_b4 holding_b5  \n0        NaN         NaN        NaN   NaN         NaN        NaN  \n1        NaN         NaN        NaN   NaN         NaN        NaN  \n2        NaN         NaN        NaN   NaN         NaN        NaN  \n3        NaN         NaN        NaN   NaN         NaN        NaN  \n4        NaN         NaN        NaN   NaN         NaN        NaN  \n...      ...         ...        ...   ...         ...        ...  \n238075   NaN         NaN       True   NaN        True        NaN  \n238076    b6         NaN        NaN   NaN        True        NaN  \n238077    b6         NaN        NaN   NaN        True       True  \n238078    b6         NaN        NaN    b3        True        NaN  \n238079   end         end        end   end         end        end  \n\n[238080 rows x 26 columns]",
      "text/html": "<div>\n<style scoped>\n    .dataframe tbody tr th:only-of-type {\n        vertical-align: middle;\n    }\n\n    .dataframe tbody tr th {\n        vertical-align: top;\n    }\n\n    .dataframe thead th {\n        text-align: right;\n    }\n</style>\n<table border=\"1\" class=\"dataframe\">\n  <thead>\n    <tr style=\"text-align: right;\">\n      <th></th>\n      <th>arm-empty</th>\n      <th>on_b2</th>\n      <th>on_b1</th>\n      <th>clear_b1</th>\n      <th>on-table_b5</th>\n      <th>clear_b4</th>\n      <th>on-table_b3</th>\n      <th>on_b4</th>\n      <th>on_b6</th>\n      <th>clear_b6</th>\n      <th>...</th>\n      <th>on-table_b6</th>\n      <th>holding_b2</th>\n      <th>clear_b5</th>\n      <th>action</th>\n      <th>on_b3</th>\n      <th>on-table_b2</th>\n      <th>holding_b3</th>\n      <th>on_b5</th>\n      <th>on-table_b4</th>\n      <th>holding_b5</th>\n    </tr>\n  </thead>\n  <tbody>\n    <tr>\n      <th>0</th>\n      <td>True</td>\n      <td>b5</td>\n      <td>b6</td>\n      <td>True</td>\n      <td>True</td>\n      <td>True</td>\n      <td>True</td>\n      <td>b3</td>\n      <td>b2</td>\n      <td>NaN</td>\n      <td>...</td>\n      <td>NaN</td>\n      <td>NaN</td>\n      <td>NaN</td>\n      <td>(unstack_b1_b6)</td>\n      <td>NaN</td>\n      <td>NaN</td>\n      <td>NaN</td>\n      <td>NaN</td>\n      <td>NaN</td>\n      <td>NaN</td>\n    </tr>\n    <tr>\n      <th>1</th>\n      <td>NaN</td>\n      <td>b5</td>\n      <td>NaN</td>\n      <td>NaN</td>\n      <td>True</td>\n      <td>True</td>\n      <td>True</td>\n      <td>b3</td>\n      <td>b2</td>\n      <td>True</td>\n      <td>...</td>\n      <td>NaN</td>\n      <td>NaN</td>\n      <td>NaN</td>\n      <td>(putdown_b1)</td>\n      <td>NaN</td>\n      <td>NaN</td>\n      <td>NaN</td>\n      <td>NaN</td>\n      <td>NaN</td>\n      <td>NaN</td>\n    </tr>\n    <tr>\n      <th>2</th>\n      <td>True</td>\n      <td>b5</td>\n      <td>NaN</td>\n      <td>True</td>\n      <td>True</td>\n      <td>True</td>\n      <td>True</td>\n      <td>b3</td>\n      <td>b2</td>\n      <td>True</td>\n      <td>...</td>\n      <td>NaN</td>\n      <td>NaN</td>\n      <td>NaN</td>\n      <td>(unstack_b4_b3)</td>\n      <td>NaN</td>\n      <td>NaN</td>\n      <td>NaN</td>\n      <td>NaN</td>\n      <td>NaN</td>\n      <td>NaN</td>\n    </tr>\n    <tr>\n      <th>3</th>\n      <td>NaN</td>\n      <td>b5</td>\n      <td>NaN</td>\n      <td>True</td>\n      <td>True</td>\n      <td>NaN</td>\n      <td>True</td>\n      <td>NaN</td>\n      <td>b2</td>\n      <td>True</td>\n      <td>...</td>\n      <td>NaN</td>\n      <td>NaN</td>\n      <td>NaN</td>\n      <td>(stack_b4_b1)</td>\n      <td>NaN</td>\n      <td>NaN</td>\n      <td>NaN</td>\n      <td>NaN</td>\n      <td>NaN</td>\n      <td>NaN</td>\n    </tr>\n    <tr>\n      <th>4</th>\n      <td>True</td>\n      <td>b5</td>\n      <td>NaN</td>\n      <td>NaN</td>\n      <td>True</td>\n      <td>True</td>\n      <td>True</td>\n      <td>b1</td>\n      <td>b2</td>\n      <td>True</td>\n      <td>...</td>\n      <td>NaN</td>\n      <td>NaN</td>\n      <td>NaN</td>\n      <td>(unstack_b6_b2)</td>\n      <td>NaN</td>\n      <td>NaN</td>\n      <td>NaN</td>\n      <td>NaN</td>\n      <td>NaN</td>\n      <td>NaN</td>\n    </tr>\n    <tr>\n      <th>...</th>\n      <td>...</td>\n      <td>...</td>\n      <td>...</td>\n      <td>...</td>\n      <td>...</td>\n      <td>...</td>\n      <td>...</td>\n      <td>...</td>\n      <td>...</td>\n      <td>...</td>\n      <td>...</td>\n      <td>...</td>\n      <td>...</td>\n      <td>...</td>\n      <td>...</td>\n      <td>...</td>\n      <td>...</td>\n      <td>...</td>\n      <td>...</td>\n      <td>...</td>\n      <td>...</td>\n    </tr>\n    <tr>\n      <th>238075</th>\n      <td>NaN</td>\n      <td>b1</td>\n      <td>b4</td>\n      <td>NaN</td>\n      <td>True</td>\n      <td>NaN</td>\n      <td>NaN</td>\n      <td>NaN</td>\n      <td>b2</td>\n      <td>True</td>\n      <td>...</td>\n      <td>NaN</td>\n      <td>NaN</td>\n      <td>True</td>\n      <td>(stack_b3_b6)</td>\n      <td>NaN</td>\n      <td>NaN</td>\n      <td>True</td>\n      <td>NaN</td>\n      <td>True</td>\n      <td>NaN</td>\n    </tr>\n    <tr>\n      <th>238076</th>\n      <td>True</td>\n      <td>b1</td>\n      <td>b4</td>\n      <td>NaN</td>\n      <td>True</td>\n      <td>NaN</td>\n      <td>NaN</td>\n      <td>NaN</td>\n      <td>b2</td>\n      <td>NaN</td>\n      <td>...</td>\n      <td>NaN</td>\n      <td>NaN</td>\n      <td>True</td>\n      <td>(pickup_b5)</td>\n      <td>b6</td>\n      <td>NaN</td>\n      <td>NaN</td>\n      <td>NaN</td>\n      <td>True</td>\n      <td>NaN</td>\n    </tr>\n    <tr>\n      <th>238077</th>\n      <td>NaN</td>\n      <td>b1</td>\n      <td>b4</td>\n      <td>NaN</td>\n      <td>NaN</td>\n      <td>NaN</td>\n      <td>NaN</td>\n      <td>NaN</td>\n      <td>b2</td>\n      <td>NaN</td>\n      <td>...</td>\n      <td>NaN</td>\n      <td>NaN</td>\n      <td>NaN</td>\n      <td>(stack_b5_b3)</td>\n      <td>b6</td>\n      <td>NaN</td>\n      <td>NaN</td>\n      <td>NaN</td>\n      <td>True</td>\n      <td>True</td>\n    </tr>\n    <tr>\n      <th>238078</th>\n      <td>True</td>\n      <td>b1</td>\n      <td>b4</td>\n      <td>NaN</td>\n      <td>NaN</td>\n      <td>NaN</td>\n      <td>NaN</td>\n      <td>NaN</td>\n      <td>b2</td>\n      <td>NaN</td>\n      <td>...</td>\n      <td>NaN</td>\n      <td>NaN</td>\n      <td>True</td>\n      <td>NaN</td>\n      <td>b6</td>\n      <td>NaN</td>\n      <td>NaN</td>\n      <td>b3</td>\n      <td>True</td>\n      <td>NaN</td>\n    </tr>\n    <tr>\n      <th>238079</th>\n      <td>end</td>\n      <td>end</td>\n      <td>end</td>\n      <td>end</td>\n      <td>end</td>\n      <td>end</td>\n      <td>end</td>\n      <td>end</td>\n      <td>end</td>\n      <td>end</td>\n      <td>...</td>\n      <td>end</td>\n      <td>end</td>\n      <td>end</td>\n      <td>end</td>\n      <td>end</td>\n      <td>end</td>\n      <td>end</td>\n      <td>end</td>\n      <td>end</td>\n      <td>end</td>\n    </tr>\n  </tbody>\n</table>\n<p>238080 rows × 26 columns</p>\n</div>"
     },
     "execution_count": 38,
     "metadata": {},
     "output_type": "execute_result"
    }
   ],
   "source": [
    "df"
   ],
   "metadata": {
    "collapsed": false,
    "pycharm": {
     "name": "#%%\n"
    }
   }
  },
  {
   "cell_type": "code",
   "execution_count": 30,
   "outputs": [
    {
     "name": "stdout",
     "output_type": "stream",
     "text": [
      "/mnt/watchandhelp/PycharmProjects/thesis_test\r\n"
     ]
    }
   ],
   "source": [
    "!pwd"
   ],
   "metadata": {
    "collapsed": false,
    "pycharm": {
     "name": "#%%\n"
    }
   }
  },
  {
   "cell_type": "code",
   "execution_count": 31,
   "outputs": [
    {
     "data": {
      "text/plain": "   arm-empty on_b2 on_b1 clear_b1 on-table_b5 clear_b4 on-table_b3 on_b4  \\\n0       True    b5    b6     True        True     True        True    b3   \n1        NaN    b5   NaN      NaN        True     True        True    b3   \n2       True    b5   NaN     True        True     True        True    b3   \n3        NaN    b5   NaN     True        True      NaN        True   NaN   \n4       True    b5   NaN      NaN        True     True        True    b1   \n5        NaN    b5   NaN      NaN        True     True        True    b1   \n6       True    b5   NaN      NaN        True     True        True    b1   \n7        NaN   NaN   NaN      NaN        True     True        True    b1   \n8       True    b4   NaN      NaN        True      NaN        True    b1   \n9        NaN    b4   NaN      NaN        True      NaN        True    b1   \n10      True    b4   NaN      NaN        True      NaN        True    b1   \n\n   on_b6 clear_b6 holding_b1 on-table_b1 holding_b4 clear_b3 holding_b6  \\\n0     b2      NaN        NaN         NaN        NaN      NaN        NaN   \n1     b2     True       True         NaN        NaN      NaN        NaN   \n2     b2     True        NaN        True        NaN      NaN        NaN   \n3     b2     True        NaN        True       True     True        NaN   \n4     b2     True        NaN        True        NaN     True        NaN   \n5    NaN      NaN        NaN        True        NaN     True       True   \n6    NaN     True        NaN        True        NaN     True        NaN   \n7    NaN     True        NaN        True        NaN     True        NaN   \n8    NaN     True        NaN        True        NaN     True        NaN   \n9    NaN      NaN        NaN        True        NaN     True       True   \n10    b5     True        NaN        True        NaN     True        NaN   \n\n   clear_b2 on-table_b6 holding_b2 clear_b5           action  \n0       NaN         NaN        NaN      NaN  (unstack_b1_b6)  \n1       NaN         NaN        NaN      NaN     (putdown_b1)  \n2       NaN         NaN        NaN      NaN  (unstack_b4_b3)  \n3       NaN         NaN        NaN      NaN    (stack_b4_b1)  \n4       NaN         NaN        NaN      NaN  (unstack_b6_b2)  \n5      True         NaN        NaN      NaN     (putdown_b6)  \n6      True        True        NaN      NaN  (unstack_b2_b5)  \n7       NaN        True       True     True    (stack_b2_b4)  \n8      True        True        NaN     True      (pickup_b6)  \n9      True         NaN        NaN     True    (stack_b6_b5)  \n10     True         NaN        NaN      NaN              NaN  ",
      "text/html": "<div>\n<style scoped>\n    .dataframe tbody tr th:only-of-type {\n        vertical-align: middle;\n    }\n\n    .dataframe tbody tr th {\n        vertical-align: top;\n    }\n\n    .dataframe thead th {\n        text-align: right;\n    }\n</style>\n<table border=\"1\" class=\"dataframe\">\n  <thead>\n    <tr style=\"text-align: right;\">\n      <th></th>\n      <th>arm-empty</th>\n      <th>on_b2</th>\n      <th>on_b1</th>\n      <th>clear_b1</th>\n      <th>on-table_b5</th>\n      <th>clear_b4</th>\n      <th>on-table_b3</th>\n      <th>on_b4</th>\n      <th>on_b6</th>\n      <th>clear_b6</th>\n      <th>holding_b1</th>\n      <th>on-table_b1</th>\n      <th>holding_b4</th>\n      <th>clear_b3</th>\n      <th>holding_b6</th>\n      <th>clear_b2</th>\n      <th>on-table_b6</th>\n      <th>holding_b2</th>\n      <th>clear_b5</th>\n      <th>action</th>\n    </tr>\n  </thead>\n  <tbody>\n    <tr>\n      <th>0</th>\n      <td>True</td>\n      <td>b5</td>\n      <td>b6</td>\n      <td>True</td>\n      <td>True</td>\n      <td>True</td>\n      <td>True</td>\n      <td>b3</td>\n      <td>b2</td>\n      <td>NaN</td>\n      <td>NaN</td>\n      <td>NaN</td>\n      <td>NaN</td>\n      <td>NaN</td>\n      <td>NaN</td>\n      <td>NaN</td>\n      <td>NaN</td>\n      <td>NaN</td>\n      <td>NaN</td>\n      <td>(unstack_b1_b6)</td>\n    </tr>\n    <tr>\n      <th>1</th>\n      <td>NaN</td>\n      <td>b5</td>\n      <td>NaN</td>\n      <td>NaN</td>\n      <td>True</td>\n      <td>True</td>\n      <td>True</td>\n      <td>b3</td>\n      <td>b2</td>\n      <td>True</td>\n      <td>True</td>\n      <td>NaN</td>\n      <td>NaN</td>\n      <td>NaN</td>\n      <td>NaN</td>\n      <td>NaN</td>\n      <td>NaN</td>\n      <td>NaN</td>\n      <td>NaN</td>\n      <td>(putdown_b1)</td>\n    </tr>\n    <tr>\n      <th>2</th>\n      <td>True</td>\n      <td>b5</td>\n      <td>NaN</td>\n      <td>True</td>\n      <td>True</td>\n      <td>True</td>\n      <td>True</td>\n      <td>b3</td>\n      <td>b2</td>\n      <td>True</td>\n      <td>NaN</td>\n      <td>True</td>\n      <td>NaN</td>\n      <td>NaN</td>\n      <td>NaN</td>\n      <td>NaN</td>\n      <td>NaN</td>\n      <td>NaN</td>\n      <td>NaN</td>\n      <td>(unstack_b4_b3)</td>\n    </tr>\n    <tr>\n      <th>3</th>\n      <td>NaN</td>\n      <td>b5</td>\n      <td>NaN</td>\n      <td>True</td>\n      <td>True</td>\n      <td>NaN</td>\n      <td>True</td>\n      <td>NaN</td>\n      <td>b2</td>\n      <td>True</td>\n      <td>NaN</td>\n      <td>True</td>\n      <td>True</td>\n      <td>True</td>\n      <td>NaN</td>\n      <td>NaN</td>\n      <td>NaN</td>\n      <td>NaN</td>\n      <td>NaN</td>\n      <td>(stack_b4_b1)</td>\n    </tr>\n    <tr>\n      <th>4</th>\n      <td>True</td>\n      <td>b5</td>\n      <td>NaN</td>\n      <td>NaN</td>\n      <td>True</td>\n      <td>True</td>\n      <td>True</td>\n      <td>b1</td>\n      <td>b2</td>\n      <td>True</td>\n      <td>NaN</td>\n      <td>True</td>\n      <td>NaN</td>\n      <td>True</td>\n      <td>NaN</td>\n      <td>NaN</td>\n      <td>NaN</td>\n      <td>NaN</td>\n      <td>NaN</td>\n      <td>(unstack_b6_b2)</td>\n    </tr>\n    <tr>\n      <th>5</th>\n      <td>NaN</td>\n      <td>b5</td>\n      <td>NaN</td>\n      <td>NaN</td>\n      <td>True</td>\n      <td>True</td>\n      <td>True</td>\n      <td>b1</td>\n      <td>NaN</td>\n      <td>NaN</td>\n      <td>NaN</td>\n      <td>True</td>\n      <td>NaN</td>\n      <td>True</td>\n      <td>True</td>\n      <td>True</td>\n      <td>NaN</td>\n      <td>NaN</td>\n      <td>NaN</td>\n      <td>(putdown_b6)</td>\n    </tr>\n    <tr>\n      <th>6</th>\n      <td>True</td>\n      <td>b5</td>\n      <td>NaN</td>\n      <td>NaN</td>\n      <td>True</td>\n      <td>True</td>\n      <td>True</td>\n      <td>b1</td>\n      <td>NaN</td>\n      <td>True</td>\n      <td>NaN</td>\n      <td>True</td>\n      <td>NaN</td>\n      <td>True</td>\n      <td>NaN</td>\n      <td>True</td>\n      <td>True</td>\n      <td>NaN</td>\n      <td>NaN</td>\n      <td>(unstack_b2_b5)</td>\n    </tr>\n    <tr>\n      <th>7</th>\n      <td>NaN</td>\n      <td>NaN</td>\n      <td>NaN</td>\n      <td>NaN</td>\n      <td>True</td>\n      <td>True</td>\n      <td>True</td>\n      <td>b1</td>\n      <td>NaN</td>\n      <td>True</td>\n      <td>NaN</td>\n      <td>True</td>\n      <td>NaN</td>\n      <td>True</td>\n      <td>NaN</td>\n      <td>NaN</td>\n      <td>True</td>\n      <td>True</td>\n      <td>True</td>\n      <td>(stack_b2_b4)</td>\n    </tr>\n    <tr>\n      <th>8</th>\n      <td>True</td>\n      <td>b4</td>\n      <td>NaN</td>\n      <td>NaN</td>\n      <td>True</td>\n      <td>NaN</td>\n      <td>True</td>\n      <td>b1</td>\n      <td>NaN</td>\n      <td>True</td>\n      <td>NaN</td>\n      <td>True</td>\n      <td>NaN</td>\n      <td>True</td>\n      <td>NaN</td>\n      <td>True</td>\n      <td>True</td>\n      <td>NaN</td>\n      <td>True</td>\n      <td>(pickup_b6)</td>\n    </tr>\n    <tr>\n      <th>9</th>\n      <td>NaN</td>\n      <td>b4</td>\n      <td>NaN</td>\n      <td>NaN</td>\n      <td>True</td>\n      <td>NaN</td>\n      <td>True</td>\n      <td>b1</td>\n      <td>NaN</td>\n      <td>NaN</td>\n      <td>NaN</td>\n      <td>True</td>\n      <td>NaN</td>\n      <td>True</td>\n      <td>True</td>\n      <td>True</td>\n      <td>NaN</td>\n      <td>NaN</td>\n      <td>True</td>\n      <td>(stack_b6_b5)</td>\n    </tr>\n    <tr>\n      <th>10</th>\n      <td>True</td>\n      <td>b4</td>\n      <td>NaN</td>\n      <td>NaN</td>\n      <td>True</td>\n      <td>NaN</td>\n      <td>True</td>\n      <td>b1</td>\n      <td>b5</td>\n      <td>True</td>\n      <td>NaN</td>\n      <td>True</td>\n      <td>NaN</td>\n      <td>True</td>\n      <td>NaN</td>\n      <td>True</td>\n      <td>NaN</td>\n      <td>NaN</td>\n      <td>NaN</td>\n      <td>NaN</td>\n    </tr>\n  </tbody>\n</table>\n</div>"
     },
     "execution_count": 31,
     "metadata": {},
     "output_type": "execute_result"
    }
   ],
   "source": [
    "episodes[0]"
   ],
   "metadata": {
    "collapsed": false,
    "pycharm": {
     "name": "#%%\n"
    }
   }
  },
  {
   "cell_type": "code",
   "execution_count": 4,
   "outputs": [],
   "source": [
    "state_index = {}\n",
    "state_count = 0\n",
    "episodes = episodes[0:250]\n",
    "for e in episodes:\n",
    "    for i, r in e.iterrows():\n",
    "        tuple_proc = tuple(r)\n",
    "        if not tuple_proc in state_index:\n",
    "            state_index[tuple_proc] = state_count\n",
    "        state_count += 1\n"
   ],
   "metadata": {
    "collapsed": false,
    "pycharm": {
     "name": "#%%\n"
    }
   }
  },
  {
   "cell_type": "code",
   "execution_count": null,
   "outputs": [],
   "source": [
    "import pickle"
   ],
   "metadata": {
    "collapsed": false,
    "pycharm": {
     "name": "#%%\n"
    }
   }
  },
  {
   "cell_type": "code",
   "execution_count": 13,
   "outputs": [],
   "source": [
    "with open('blocksworld6blocks.pkl', 'wb') as f:\n",
    "    pickle.dump(episodes, f)\n"
   ],
   "metadata": {
    "collapsed": false,
    "pycharm": {
     "name": "#%%\n"
    }
   }
  },
  {
   "cell_type": "code",
   "execution_count": null,
   "outputs": [],
   "source": [],
   "metadata": {
    "collapsed": false,
    "pycharm": {
     "name": "#%%\n"
    }
   }
  },
  {
   "cell_type": "code",
   "execution_count": 12,
   "outputs": [
    {
     "data": {
      "text/plain": "3401"
     },
     "execution_count": 12,
     "metadata": {},
     "output_type": "execute_result"
    }
   ],
   "source": [
    "max(state_index.values())"
   ],
   "metadata": {
    "collapsed": false,
    "pycharm": {
     "name": "#%%\n"
    }
   }
  },
  {
   "cell_type": "code",
   "execution_count": 6,
   "outputs": [
    {
     "data": {
      "text/plain": "  on-table_b1 on_b7 clear_b2 on-table_b4 on_b2 on_b6 clear_b6 on_b8 on_b5  \\\n0        True    b1     True        True    b8    b5     True    b3    b7   \n1        True    b1     True        True    b8   NaN      NaN    b3    b7   \n2        True    b1     True        True    b8   NaN     True    b3    b7   \n3        True    b1     True        True    b8   NaN     True    b3   NaN   \n4        True    b1     True        True    b8   NaN     True    b3   NaN   \n\n  on_b3  ... on-table_b8 holding_b3 clear_b4 on-table_b3 holding_b4 on_b4  \\\n0    b4  ...         NaN        NaN      NaN         NaN        NaN   NaN   \n1    b4  ...         NaN        NaN      NaN         NaN        NaN   NaN   \n2    b4  ...         NaN        NaN      NaN         NaN        NaN   NaN   \n3    b4  ...         NaN        NaN      NaN         NaN        NaN   NaN   \n4    b4  ...         NaN        NaN      NaN         NaN        NaN   NaN   \n\n  holding_b7 clear_b1 on-table_b7           action  \n0        NaN      NaN         NaN  (unstack_b6_b5)  \n1        NaN      NaN         NaN     (putdown_b6)  \n2        NaN      NaN         NaN  (unstack_b5_b7)  \n3        NaN      NaN         NaN     (putdown_b5)  \n4        NaN      NaN         NaN  (unstack_b2_b8)  \n\n[5 rows x 32 columns]",
      "text/html": "<div>\n<style scoped>\n    .dataframe tbody tr th:only-of-type {\n        vertical-align: middle;\n    }\n\n    .dataframe tbody tr th {\n        vertical-align: top;\n    }\n\n    .dataframe thead th {\n        text-align: right;\n    }\n</style>\n<table border=\"1\" class=\"dataframe\">\n  <thead>\n    <tr style=\"text-align: right;\">\n      <th></th>\n      <th>on-table_b1</th>\n      <th>on_b7</th>\n      <th>clear_b2</th>\n      <th>on-table_b4</th>\n      <th>on_b2</th>\n      <th>on_b6</th>\n      <th>clear_b6</th>\n      <th>on_b8</th>\n      <th>on_b5</th>\n      <th>on_b3</th>\n      <th>...</th>\n      <th>on-table_b8</th>\n      <th>holding_b3</th>\n      <th>clear_b4</th>\n      <th>on-table_b3</th>\n      <th>holding_b4</th>\n      <th>on_b4</th>\n      <th>holding_b7</th>\n      <th>clear_b1</th>\n      <th>on-table_b7</th>\n      <th>action</th>\n    </tr>\n  </thead>\n  <tbody>\n    <tr>\n      <th>0</th>\n      <td>True</td>\n      <td>b1</td>\n      <td>True</td>\n      <td>True</td>\n      <td>b8</td>\n      <td>b5</td>\n      <td>True</td>\n      <td>b3</td>\n      <td>b7</td>\n      <td>b4</td>\n      <td>...</td>\n      <td>NaN</td>\n      <td>NaN</td>\n      <td>NaN</td>\n      <td>NaN</td>\n      <td>NaN</td>\n      <td>NaN</td>\n      <td>NaN</td>\n      <td>NaN</td>\n      <td>NaN</td>\n      <td>(unstack_b6_b5)</td>\n    </tr>\n    <tr>\n      <th>1</th>\n      <td>True</td>\n      <td>b1</td>\n      <td>True</td>\n      <td>True</td>\n      <td>b8</td>\n      <td>NaN</td>\n      <td>NaN</td>\n      <td>b3</td>\n      <td>b7</td>\n      <td>b4</td>\n      <td>...</td>\n      <td>NaN</td>\n      <td>NaN</td>\n      <td>NaN</td>\n      <td>NaN</td>\n      <td>NaN</td>\n      <td>NaN</td>\n      <td>NaN</td>\n      <td>NaN</td>\n      <td>NaN</td>\n      <td>(putdown_b6)</td>\n    </tr>\n    <tr>\n      <th>2</th>\n      <td>True</td>\n      <td>b1</td>\n      <td>True</td>\n      <td>True</td>\n      <td>b8</td>\n      <td>NaN</td>\n      <td>True</td>\n      <td>b3</td>\n      <td>b7</td>\n      <td>b4</td>\n      <td>...</td>\n      <td>NaN</td>\n      <td>NaN</td>\n      <td>NaN</td>\n      <td>NaN</td>\n      <td>NaN</td>\n      <td>NaN</td>\n      <td>NaN</td>\n      <td>NaN</td>\n      <td>NaN</td>\n      <td>(unstack_b5_b7)</td>\n    </tr>\n    <tr>\n      <th>3</th>\n      <td>True</td>\n      <td>b1</td>\n      <td>True</td>\n      <td>True</td>\n      <td>b8</td>\n      <td>NaN</td>\n      <td>True</td>\n      <td>b3</td>\n      <td>NaN</td>\n      <td>b4</td>\n      <td>...</td>\n      <td>NaN</td>\n      <td>NaN</td>\n      <td>NaN</td>\n      <td>NaN</td>\n      <td>NaN</td>\n      <td>NaN</td>\n      <td>NaN</td>\n      <td>NaN</td>\n      <td>NaN</td>\n      <td>(putdown_b5)</td>\n    </tr>\n    <tr>\n      <th>4</th>\n      <td>True</td>\n      <td>b1</td>\n      <td>True</td>\n      <td>True</td>\n      <td>b8</td>\n      <td>NaN</td>\n      <td>True</td>\n      <td>b3</td>\n      <td>NaN</td>\n      <td>b4</td>\n      <td>...</td>\n      <td>NaN</td>\n      <td>NaN</td>\n      <td>NaN</td>\n      <td>NaN</td>\n      <td>NaN</td>\n      <td>NaN</td>\n      <td>NaN</td>\n      <td>NaN</td>\n      <td>NaN</td>\n      <td>(unstack_b2_b8)</td>\n    </tr>\n  </tbody>\n</table>\n<p>5 rows × 32 columns</p>\n</div>"
     },
     "execution_count": 6,
     "metadata": {},
     "output_type": "execute_result"
    }
   ],
   "source": [
    "episodes[0].head(5)"
   ],
   "metadata": {
    "collapsed": false,
    "pycharm": {
     "name": "#%%\n"
    }
   }
  },
  {
   "cell_type": "code",
   "execution_count": null,
   "outputs": [],
   "source": [],
   "metadata": {
    "collapsed": false,
    "pycharm": {
     "name": "#%%\n"
    }
   }
  }
 ],
 "metadata": {
  "kernelspec": {
   "display_name": "Python 3",
   "language": "python",
   "name": "python3"
  },
  "language_info": {
   "codemirror_mode": {
    "name": "ipython",
    "version": 2
   },
   "file_extension": ".py",
   "mimetype": "text/x-python",
   "name": "python",
   "nbconvert_exporter": "python",
   "pygments_lexer": "ipython2",
   "version": "2.7.6"
  }
 },
 "nbformat": 4,
 "nbformat_minor": 0
}