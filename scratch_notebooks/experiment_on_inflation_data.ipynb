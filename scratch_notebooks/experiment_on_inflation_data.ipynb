{
 "cells": [
  {
   "cell_type": "code",
   "execution_count": 4,
   "metadata": {
    "collapsed": false,
    "jupyter": {
     "outputs_hidden": false
    }
   },
   "outputs": [
    {
     "name": "stdout",
     "output_type": "stream",
     "text": [
      "The autoreload extension is already loaded. To reload it, use:\n",
      "  %reload_ext autoreload\n"
     ]
    }
   ],
   "source": [
    "import sys\n",
    "sys.path.append(\"../\")\n",
    "\n",
    "from Models.model_sources.markov_source import MarkovChain\n",
    "from Models.MMC import MMC\n",
    "from Models.DBN import FMC\n",
    "from Models.model_sources.mtd_source import MTD\n",
    "from Models.model_sources.path_encoder import PathEncoder, SequenceCutter\n",
    "\n",
    "import numpy as np\n",
    "import pandas as pd\n",
    "from matplotlib import pyplot as plt\n",
    "\n",
    "%load_ext autoreload\n",
    "%autoreload 2"
   ]
  },
  {
   "cell_type": "code",
   "execution_count": 8,
   "metadata": {
    "collapsed": false,
    "jupyter": {
     "outputs_hidden": false
    }
   },
   "outputs": [
    {
     "name": "stderr",
     "output_type": "stream",
     "text": [
      "/var/folders/zx/yk985wb16xsc86xkvb1kqg500000gn/T/ipykernel_7013/2724304998.py:8: FutureWarning: Dropping of nuisance columns in DataFrame reductions (with 'numeric_only=None') is deprecated; in a future version this will raise TypeError.  Select only valid columns before calling the reduction.\n",
      "  std = df.std()['Change']\n"
     ]
    }
   ],
   "source": [
    "df = pd.read_csv('inflation_data.csv')\n",
    "df['year'] = pd.to_numeric(df['year'])\n",
    "df = df[(df['year'] > 1821) & (df['year'] < 1999)]\n",
    "df['Change'] = df['inflation rate']\n",
    "\n",
    "\n",
    "df['Change_enc'] = 'none'\n",
    "std = df.std()['Change']\n",
    "\n",
    "df.loc[df.Change < 0.0, 'Change_enc'] = \"drop\"\n",
    "df.loc[df.Change > 0.0, 'Change_enc'] = \"rise\"\n",
    "\n",
    "df.loc[df.Change <= -std, 'Change_enc'] = \"big drop\"\n",
    "df.loc[df.Change >= std, 'Change_enc'] = \"big rise\"\n",
    "\n",
    "df.loc[df.Change <= -2*std, 'Change_enc'] = \"bigger drop\"\n",
    "df.loc[df.Change >= 2*std, 'Change_enc'] = \"bigger rise\"\n",
    "\n",
    "df = df.reset_index()\n"
   ]
  },
  {
   "cell_type": "code",
   "execution_count": 9,
   "outputs": [
    {
     "data": {
      "text/plain": "     index  year  amount  inflation rate  Change Change_enc\n0       22  1822    0.93            0.04    0.04       rise\n1       23  1823    0.83           -0.10   -0.10   big drop\n2       24  1824    0.77           -0.08   -0.08   big drop\n3       25  1825    0.79            0.02    0.02       rise\n4       26  1826    0.79            0.00    0.00       none\n..     ...   ...     ...             ...     ...        ...\n172    194  1994   11.76            0.03    0.03       rise\n173    195  1995   12.10            0.03    0.03       rise\n174    196  1996   12.45            0.03    0.03       rise\n175    197  1997   12.74            0.02    0.02       rise\n176    198  1998   12.94            0.02    0.02       rise\n\n[177 rows x 6 columns]",
      "text/html": "<div>\n<style scoped>\n    .dataframe tbody tr th:only-of-type {\n        vertical-align: middle;\n    }\n\n    .dataframe tbody tr th {\n        vertical-align: top;\n    }\n\n    .dataframe thead th {\n        text-align: right;\n    }\n</style>\n<table border=\"1\" class=\"dataframe\">\n  <thead>\n    <tr style=\"text-align: right;\">\n      <th></th>\n      <th>index</th>\n      <th>year</th>\n      <th>amount</th>\n      <th>inflation rate</th>\n      <th>Change</th>\n      <th>Change_enc</th>\n    </tr>\n  </thead>\n  <tbody>\n    <tr>\n      <th>0</th>\n      <td>22</td>\n      <td>1822</td>\n      <td>0.93</td>\n      <td>0.04</td>\n      <td>0.04</td>\n      <td>rise</td>\n    </tr>\n    <tr>\n      <th>1</th>\n      <td>23</td>\n      <td>1823</td>\n      <td>0.83</td>\n      <td>-0.10</td>\n      <td>-0.10</td>\n      <td>big drop</td>\n    </tr>\n    <tr>\n      <th>2</th>\n      <td>24</td>\n      <td>1824</td>\n      <td>0.77</td>\n      <td>-0.08</td>\n      <td>-0.08</td>\n      <td>big drop</td>\n    </tr>\n    <tr>\n      <th>3</th>\n      <td>25</td>\n      <td>1825</td>\n      <td>0.79</td>\n      <td>0.02</td>\n      <td>0.02</td>\n      <td>rise</td>\n    </tr>\n    <tr>\n      <th>4</th>\n      <td>26</td>\n      <td>1826</td>\n      <td>0.79</td>\n      <td>0.00</td>\n      <td>0.00</td>\n      <td>none</td>\n    </tr>\n    <tr>\n      <th>...</th>\n      <td>...</td>\n      <td>...</td>\n      <td>...</td>\n      <td>...</td>\n      <td>...</td>\n      <td>...</td>\n    </tr>\n    <tr>\n      <th>172</th>\n      <td>194</td>\n      <td>1994</td>\n      <td>11.76</td>\n      <td>0.03</td>\n      <td>0.03</td>\n      <td>rise</td>\n    </tr>\n    <tr>\n      <th>173</th>\n      <td>195</td>\n      <td>1995</td>\n      <td>12.10</td>\n      <td>0.03</td>\n      <td>0.03</td>\n      <td>rise</td>\n    </tr>\n    <tr>\n      <th>174</th>\n      <td>196</td>\n      <td>1996</td>\n      <td>12.45</td>\n      <td>0.03</td>\n      <td>0.03</td>\n      <td>rise</td>\n    </tr>\n    <tr>\n      <th>175</th>\n      <td>197</td>\n      <td>1997</td>\n      <td>12.74</td>\n      <td>0.02</td>\n      <td>0.02</td>\n      <td>rise</td>\n    </tr>\n    <tr>\n      <th>176</th>\n      <td>198</td>\n      <td>1998</td>\n      <td>12.94</td>\n      <td>0.02</td>\n      <td>0.02</td>\n      <td>rise</td>\n    </tr>\n  </tbody>\n</table>\n<p>177 rows × 6 columns</p>\n</div>"
     },
     "execution_count": 9,
     "metadata": {},
     "output_type": "execute_result"
    }
   ],
   "source": [
    "df"
   ],
   "metadata": {
    "collapsed": false
   }
  },
  {
   "cell_type": "markdown",
   "metadata": {},
   "source": [
    "## Fit models"
   ]
  },
  {
   "cell_type": "code",
   "execution_count": 14,
   "outputs": [
    {
     "data": {
      "text/plain": "0          rise\n1      big drop\n2      big drop\n3          rise\n4          none\n         ...   \n172        rise\n173        rise\n174        rise\n175        rise\n176        rise\nName: Change_enc, Length: 177, dtype: object"
     },
     "execution_count": 14,
     "metadata": {},
     "output_type": "execute_result"
    }
   ],
   "source": [
    "df.Change_enc"
   ],
   "metadata": {
    "collapsed": false
   }
  },
  {
   "cell_type": "code",
   "execution_count": 12,
   "metadata": {
    "collapsed": false,
    "jupyter": {
     "outputs_hidden": false
    }
   },
   "outputs": [],
   "source": [
    "values = [df.Change_enc]\n",
    "\n",
    "data_to_fit = np.array([''.join([str(v.values[i]) for v in values]) for i in range(len(df))])\n",
    "\n",
    "order = 3\n",
    "\n",
    "sc = SequenceCutter(order)\n",
    "x, y = sc.transform(data_to_fit)\n",
    "\n",
    "pe = PathEncoder(order)\n",
    "pe.fit(x, y)\n",
    "\n",
    "x_tr, y_tr = pe.transform(x, y)"
   ]
  },
  {
   "cell_type": "code",
   "execution_count": 13,
   "outputs": [
    {
     "data": {
      "text/plain": "[0          rise\n 1      big drop\n 2      big drop\n 3          rise\n 4          none\n          ...   \n 172        rise\n 173        rise\n 174        rise\n 175        rise\n 176        rise\n Name: Change_enc, Length: 177, dtype: object]"
     },
     "execution_count": 13,
     "metadata": {},
     "output_type": "execute_result"
    }
   ],
   "source": [
    "values"
   ],
   "metadata": {
    "collapsed": false
   }
  },
  {
   "cell_type": "code",
   "execution_count": null,
   "outputs": [],
   "source": [
    "data_to_fit"
   ],
   "metadata": {
    "collapsed": false
   }
  },
  {
   "cell_type": "code",
   "execution_count": 23,
   "metadata": {
    "collapsed": false,
    "jupyter": {
     "outputs_hidden": false
    }
   },
   "outputs": [
    {
     "name": "stdout",
     "output_type": "stream",
     "text": [
      "['MMC', 'FMC', 'HMC', 'MTD']\n",
      "0.41420245398773003\n",
      "0.41837423312883437\n",
      "0.41765644171779137\n",
      "0.42461349693251516\n"
     ]
    }
   ],
   "source": [
    "from Models.HMC import HMC\n",
    "from sklearn.model_selection import train_test_split\n",
    "\n",
    "div = round(len(x_tr)*.90)\n",
    "#X_train, X_test, y_train, y_test = x_tr[div:, :], x_tr[:div, :], y_tr[div:], y_tr[:div]\n",
    "\n",
    "amount_to_average = 100\n",
    "\n",
    "sgo_type = \"greedy\"\n",
    "methods = [MMC, FMC, HMC, MTD] #FMC]\n",
    "types = [m.__name__ for m in methods]\n",
    "mmc = None\n",
    "\n",
    "master_res = []\n",
    "for _ in range(amount_to_average):\n",
    "    (X_train, X_test, y_train, y_test) = train_test_split(x_tr, y_tr)\n",
    "\n",
    "    state_count = len(np.unique(X_train))\n",
    "\n",
    "    args_training = {\"X_train\": X_train, \"y_train\": y_train}\n",
    "    args_testing =   {\"X_test\": X_test, \"y_test\": y_test}\n",
    "    results_training = []\n",
    "    results_testing = []\n",
    "\n",
    "    for m in methods:\n",
    "        model = m(state_count, order=order)\n",
    "        training = MarkovChain.calculate_time(model.train, args_training)\n",
    "        testing = MarkovChain.calculate_time(model.test, args_testing)\n",
    "\n",
    "        # Why did we do this just for MMC\n",
    "        if False:\n",
    "            mmc = model\n",
    "            pred_res = []\n",
    "            drop_indexes = [key for key,value in pe.label_dict_inverse.items() if \"drop\" in value]\n",
    "            rise_indexes = [key for key,value in pe.label_dict_inverse.items() if \"rise\" in value]\n",
    "\n",
    "            for lag in X_test:\n",
    "\n",
    "                prob_values = mmc.cpt[mmc.find_high(lag, mmc.index_dict)]\n",
    "                drop_prob = sum([prob_values[key] for key in drop_indexes])\n",
    "\n",
    "                if drop_prob >= .5:\n",
    "                    pred_res.append(drop_indexes[0])\n",
    "                else:\n",
    "                    pred_res.append(rise_indexes[0])\n",
    "        else:\n",
    "            pred_res = model.predict(X_test)\n",
    "\n",
    "        #results_training.append(training[0])\n",
    "        results_testing.append(testing[0])\n",
    "\n",
    "        count = 0\n",
    "        for i,p in enumerate(pred_res):\n",
    "            \"\"\"\n",
    "            if \"drop\" in pe.label_dict_inverse[p] and \"drop\" in pe.label_dict_inverse[y_test[i]]:\n",
    "                count += 1\n",
    "            elif \"rise\" in pe.label_dict_inverse[p] and \"rise\" in pe.label_dict_inverse[y_test[i]]:\n",
    "                count += 1\n",
    "            \"\"\"\n",
    "            pass\n",
    "\n",
    "        \"\"\"\n",
    "        print(count/len(pred_res))\n",
    "        print(model.__class__.__name__)\n",
    "        print(f\"Training: {training}\")\n",
    "        print(f\"Testing: {testing}\")\n",
    "        print(\"\")\"\"\"\n",
    "\n",
    "    master_res.append(results_testing)\n",
    "\n",
    "print(types)\n",
    "for i in range(len(master_res[0])):\n",
    "    print(sum([master_res[j][i] for j in range(len(master_res))])/len(master_res))\n",
    "\n",
    "#print(types)\n",
    "#print(results_testing)"
   ]
  },
  {
   "cell_type": "code",
   "execution_count": 59,
   "outputs": [
    {
     "data": {
      "text/plain": "[[0.4909090909090909,\n  0.4909090909090909,\n  0.509090909090909,\n  0.4727272727272727],\n [0.4909090909090909,\n  0.4909090909090909,\n  0.509090909090909,\n  0.4727272727272727],\n [0.4909090909090909,\n  0.4909090909090909,\n  0.509090909090909,\n  0.509090909090909],\n [0.4909090909090909,\n  0.4909090909090909,\n  0.509090909090909,\n  0.5272727272727272],\n [0.4909090909090909,\n  0.4909090909090909,\n  0.509090909090909,\n  0.509090909090909],\n [0.4909090909090909,\n  0.4909090909090909,\n  0.509090909090909,\n  0.5454545454545454],\n [0.4909090909090909,\n  0.4909090909090909,\n  0.509090909090909,\n  0.509090909090909],\n [0.4909090909090909,\n  0.4909090909090909,\n  0.509090909090909,\n  0.509090909090909],\n [0.4909090909090909,\n  0.4909090909090909,\n  0.509090909090909,\n  0.509090909090909],\n [0.4909090909090909,\n  0.4909090909090909,\n  0.509090909090909,\n  0.509090909090909]]"
     },
     "execution_count": 59,
     "metadata": {},
     "output_type": "execute_result"
    }
   ],
   "source": [
    "m.master_res"
   ],
   "metadata": {
    "collapsed": false
   }
  },
  {
   "cell_type": "code",
   "execution_count": 96,
   "metadata": {
    "collapsed": false,
    "jupyter": {
     "outputs_hidden": false
    }
   },
   "outputs": [
    {
     "data": {
      "image/png": "[encoded data removed]",
      "text/plain": [
       "<Figure size 1000x500 with 1 Axes>"
      ]
     },
     "metadata": {},
     "output_type": "display_data"
    }
   ],
   "source": [
    "def create_bar_graph(data, title, types):\n",
    "    plt.figure(figsize=(10, 5))\n",
    "\n",
    "    # creating the bar plot\n",
    "    plt.bar(types, data, color='maroon',\n",
    "            width=0.4)\n",
    "\n",
    "    plt.title(title)\n",
    "    plt.show()\n",
    "[m.__name__ for m in methods if m != MTD]\n",
    "\n",
    "create_bar_graph(results_testing, f\"{symbol} Intraday {interval} Interval Latest 15% Order {order}\", [m.__name__ for m in methods if m != MTD])"
   ]
  },
  {
   "cell_type": "code",
   "execution_count": 37,
   "metadata": {
    "collapsed": false,
    "jupyter": {
     "outputs_hidden": false
    }
   },
   "outputs": [
    {
     "data": {
      "text/plain": [
       "['MMC', 'FMC', 'HMC']"
      ]
     },
     "execution_count": 37,
     "metadata": {},
     "output_type": "execute_result"
    }
   ],
   "source": [
    "[m.__name__ for m in methods]"
   ]
  },
  {
   "cell_type": "markdown",
   "metadata": {},
   "source": [
    "## Choose model"
   ]
  },
  {
   "cell_type": "code",
   "execution_count": 39,
   "metadata": {
    "collapsed": false,
    "jupyter": {
     "outputs_hidden": false
    }
   },
   "outputs": [
    {
     "data": {
      "text/plain": [
       "[0]"
      ]
     },
     "execution_count": 39,
     "metadata": {},
     "output_type": "execute_result"
    }
   ],
   "source": [
    "mmc.predict([x_tr[-1]])"
   ]
  }
 ],
 "metadata": {
  "jupytext": {
   "formats": "ipynb,py:light"
  },
  "kernelspec": {
   "display_name": "Python 3 (ipykernel)",
   "language": "python",
   "name": "python3"
  },
  "language_info": {
   "codemirror_mode": {
    "name": "ipython",
    "version": 3
   },
   "file_extension": ".py",
   "mimetype": "text/x-python",
   "name": "python",
   "nbconvert_exporter": "python",
   "pygments_lexer": "ipython3",
   "version": "3.10.4"
  }
 },
 "nbformat": 4,
 "nbformat_minor": 4
}
