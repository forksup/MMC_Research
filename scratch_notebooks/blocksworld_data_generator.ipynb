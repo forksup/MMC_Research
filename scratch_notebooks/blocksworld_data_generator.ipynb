{
 "cells": [
  {
   "cell_type": "code",
   "execution_count": 95,
   "metadata": {
    "collapsed": true,
    "pycharm": {
     "name": "#%%\n"
    }
   },
   "outputs": [],
   "source": [
    "import math\n",
    "from collections import defaultdict\n",
    "from random import randint\n",
    "from datetime import datetime\n",
    "\n",
    "from fastparquet import ParquetFile\n",
    "import pandas as pd\n",
    "import random\n",
    "import numpy as np\n",
    "from numpy.random import choice\n",
    "from Models import MMC\n",
    "from sklearn.model_selection import train_test_split\n"
   ]
  },
  {
   "cell_type": "code",
   "execution_count": 96,
   "outputs": [],
   "source": [
    "start = \"(:init\"\n",
    "goal_stt = \"(:goal\"\n",
    "end = \"\\n)\\n\"\n",
    "\n",
    "#goal_start = contents[:contents.find(start)]\n",
    "#goal_end = contents[contents.find(goal_stt):]"
   ],
   "metadata": {
    "collapsed": false,
    "pycharm": {
     "name": "#%%\n"
    }
   }
  },
  {
   "cell_type": "code",
   "execution_count": 90,
   "outputs": [],
   "source": [
    "import os\n",
    "rootdir = '/mnt/watchandhelp/PycharmProjects/pddl-generators/blocksworld/data/data-4blocks-4ops'\n",
    "start_states = []\n",
    "goal_states = []\n",
    "for subdir, dirs, files in os.walk(rootdir):\n",
    "    for file in files:\n",
    "        #print os.path.join(subdir, file)\n",
    "        filepath = subdir + os.sep + file\n",
    "        if \".soln\" in filepath:\n",
    "            continue\n",
    "        try:\n",
    "            with open(filepath) as f:\n",
    "                contents = f.read()\n",
    "                start_states.append(contents[contents.find(start)+len(start):contents.rfind(goal_stt)])\n",
    "                goal_states.append(contents[contents.find(goal_stt)+len(start):])\n",
    "\n",
    "        except Exception as e:\n",
    "                print(e)"
   ],
   "metadata": {
    "collapsed": false,
    "pycharm": {
     "name": "#%%\n"
    }
   }
  },
  {
   "cell_type": "code",
   "execution_count": 92,
   "outputs": [],
   "source": [
    "init_string = contents[:contents.rfind(start)]"
   ],
   "metadata": {
    "collapsed": false,
    "pycharm": {
     "name": "#%%\n"
    }
   }
  },
  {
   "cell_type": "code",
   "execution_count": 93,
   "outputs": [],
   "source": [
    "goals_to_select = 10\n",
    "episodes_for_every_goal = 500\n",
    "goal_indexes = [randint(0,len(goal_states)) for _ in range(goals_to_select)]"
   ],
   "metadata": {
    "collapsed": false,
    "pycharm": {
     "name": "#%%\n"
    }
   }
  },
  {
   "cell_type": "code",
   "execution_count": 94,
   "outputs": [],
   "source": [
    "save_path = \"/mnt/watchandhelp/PycharmProjects/pddl-generators/blocksworld/data/data-4blocks-10goals-4ops\"\n",
    "\n",
    "count = 0\n",
    "for g in goal_indexes:\n",
    "    for _ in range(episodes_for_every_goal):\n",
    "        output = init_string +\\\n",
    "                 start +\\\n",
    "                 start_states[randint(0,len(start_states))] +\\\n",
    "                 goal_stt +\\\n",
    "                 goal_states[g]\n",
    "\n",
    "        with  open(f\"{save_path}/{count}.txt\", \"w\") as file:\n",
    "            file.write(output)\n",
    "        count += 1"
   ],
   "metadata": {
    "collapsed": false,
    "pycharm": {
     "name": "#%%\n"
    }
   }
  },
  {
   "cell_type": "code",
   "execution_count": 2,
   "outputs": [],
   "source": [
    "four_blocks = True\n",
    "drop_arms = True\n",
    "size = 50000\n",
    "order = 3"
   ],
   "metadata": {
    "collapsed": false,
    "pycharm": {
     "name": "#%%\n"
    }
   }
  },
  {
   "cell_type": "code",
   "execution_count": null,
   "outputs": [],
   "source": [
    "if four_blocks:\n",
    "    dataset = \"Datasets/data_files/markovtraining_blocksworld.txt\"\n",
    "else:\n",
    "    dataset = \"Datasets/data_files/6blocks\"\n",
    "data = pd.read_csv(dataset)\n",
    "if drop_arms:\n",
    "    columns_to_drop = []\n",
    "    for key in data.keys():\n",
    "        # attempting to drop holding, arms, and action to make domain less deterministic\n",
    "        if \"holding\" in key or \"arm\" in key or \"act\" in key:\n",
    "            columns_to_drop.append(key)\n",
    "            pass\n",
    "    data.drop(columns_to_drop, axis=1, inplace=True)\n",
    "\n",
    "state_set = set()\n",
    "\n",
    "# Limit dataset to certain goal states\n",
    "end_states = defaultdict(list)\n",
    "start = 0\n",
    "b = 10\n",
    "transient_states = 2\n",
    "columns_to_add = [\"on_b\", \"on-table_b\", \"clear_b\"]\n",
    "\n",
    "\"\"\"\n",
    "for i in range(transient_states):\n",
    "    for c in columns_to_add:\n",
    "        if \"table\" in c:\n",
    "            data[c+str(b+i)] = \"True\"\n",
    "        else:\n",
    "            data[c+str(b+i)] = \"null\"\n",
    "stacked = False\n",
    "columns = {}\n",
    "\"\"\"\n",
    "def set_item(data, dictionary):\n",
    "    for key in dictionary:\n",
    "        dictionary[key] = data[key]\n",
    "\n",
    "\n",
    "for key, row in data.iterrows():\n",
    "\n",
    "    if random.random() > .7:\n",
    "        \"\"\"\n",
    "        if not stacked:\n",
    "            block_to_stack = randint(0, transient_states-1)\n",
    "            base_block = 0\n",
    "            if block_to_stack == 0:\n",
    "                base_block = 1\n",
    "            stacked = True\n",
    "\n",
    "            columns[\"on_b\"+str(b+base_block)] = \"b\"+str(b+block_to_stack)\n",
    "            columns[\"clear_b\"+str(b+base_block)] = \"False\"\n",
    "            columns[\"on-table_b\"+str(b+block_to_stack)] = \"False\"\n",
    "        else:\n",
    "            stacked = False\n",
    "            columns = {}\n",
    "        \"\"\"\n",
    "\n",
    "    if row['on_b2'] == \"end\":\n",
    "        end_states[tuple(data.iloc[key-1])].append(data.iloc[start:key+1])\n",
    "        start = key+1\n",
    "    else:\n",
    "        ...\n",
    "        #set_item(row, columns)\n",
    "\n",
    "\n",
    "sizes = []\n",
    "keys = []\n",
    "for key, d in end_states.items():\n",
    "    sizes.append(len(d))\n",
    "    keys.append(key)\n",
    "\n",
    "# limit the dataset to 10 random ending goals\n",
    "top_30 = random.choices(list(range(len(keys))),k=15)\n",
    "\n",
    "data_states = [[]]\n",
    "all_data = []\n",
    "\n",
    "for t in top_30:\n",
    "    all_data.extend(end_states[keys[t]])\n",
    "data = pd.concat(all_data)\n",
    "\n",
    "state_keys = {}\n",
    "for key, row in data.iterrows():\n",
    "    if not row['on_b2'] == \"end\":\n",
    "        state_set.add(tuple(row))\n",
    "\n",
    "count = 0\n",
    "for s in state_set:\n",
    "    state_keys[s] = count\n",
    "    count += 1\n",
    "\n",
    "for key, row in data.iterrows():\n",
    "    if not row['on_b2'] == \"end\":\n",
    "        data_states[-1].append(state_keys[tuple(row)])\n",
    "    else:\n",
    "        data_states.append([])\n",
    "\n",
    "x = []\n",
    "y = []\n",
    "for e in data_states:\n",
    "\n",
    "    e = list(e)\n",
    "    x.extend([e[i:i+order] for i in range(len(e)-order)])\n",
    "    y.extend([e[i] for i in range(order, len(e))])\n",
    "\n",
    "for i in range(len(y)):\n",
    "    if random.random() > .8:\n",
    "        y[i] = randint(0,max(y))\n",
    "if size > len(x):\n",
    "    print(\"warning dataset size is greater than available blocksworld data\")\n",
    "\n",
    "train_test_split(np.asarray(x[:size]), np.asarray(y[:size])), len(state_keys)"
   ],
   "metadata": {
    "collapsed": false,
    "pycharm": {
     "name": "#%%\n"
    }
   }
  }
 ],
 "metadata": {
  "kernelspec": {
   "display_name": "Python 3",
   "language": "python",
   "name": "python3"
  },
  "language_info": {
   "codemirror_mode": {
    "name": "ipython",
    "version": 2
   },
   "file_extension": ".py",
   "mimetype": "text/x-python",
   "name": "python",
   "nbconvert_exporter": "python",
   "pygments_lexer": "ipython2",
   "version": "2.7.6"
  }
 },
 "nbformat": 4,
 "nbformat_minor": 0
}