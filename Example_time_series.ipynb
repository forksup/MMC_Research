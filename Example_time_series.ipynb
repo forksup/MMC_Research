{
 "cells": [
  {
   "cell_type": "code",
   "execution_count": 62,
   "outputs": [
    {
     "name": "stdout",
     "output_type": "stream",
     "text": [
      "The autoreload extension is already loaded. To reload it, use:\n",
      "  %reload_ext autoreload\n"
     ]
    }
   ],
   "source": [
    "from Models.model_sources.markov_source import MarkovChain\n",
    "from Models.MMC import MMC\n",
    "from Models.HMC import HMC\n",
    "from Models.DBN import FMC\n",
    "from Models.model_sources.mtd_source import MTD\n",
    "\n",
    "from Datasets import Blocksworld_Data, Markov_Data_Casual\n",
    "\n",
    "from Datasets.Markov_Data import HMM_Data\n",
    "from Datasets.MMC_Data import MMC_data\n",
    "from Datasets.Markov_Data_Large import HMM_Decisive\n",
    "from Datasets.Fruit_Data import fruit_domain\n",
    "import matplotlib.pyplot as plt\n",
    "\n",
    "%load_ext autoreload\n",
    "%autoreload 2\n",
    "\n",
    "import warnings"
   ],
   "metadata": {
    "collapsed": false,
    "pycharm": {
     "name": "#%%\n"
    }
   }
  },
  {
   "cell_type": "code",
   "execution_count": 63,
   "outputs": [],
   "source": [
    "import pandas as pd\n",
    "import numpy as np\n",
    "import seaborn as sns\n",
    "\n",
    "from mtdlearn.mtd import MTD, RandomWalk\n",
    "from mtdlearn.preprocessing import PathEncoder, SequenceCutter"
   ],
   "metadata": {
    "collapsed": false,
    "pycharm": {
     "name": "#%%\n"
    }
   }
  },
  {
   "cell_type": "code",
   "execution_count": 64,
   "outputs": [],
   "source": [
    "import requests\n",
    "import pandas as pd\n",
    "\n",
    "def get_crypto_price(symbol, exchange, start_date = None):\n",
    "    api_key = 'QEUZDNSCRV22B7VL'\n",
    "    api_url = f'https://www.alphavantage.co/query?function=CRYPTO_INTRADAY&symbol={symbol}&market={exchange}&apikey={api_key}&interval=30min&outputsize=full&page=1'\n",
    "    raw_df = requests.get(api_url).json()\n",
    "    df = pd.DataFrame(raw_df['Time Series Crypto (30min)']).T\n",
    "    #df = df.rename(columns = {'1a. open (USD)': 'open', '2a. high (USD)': 'high', '3a. low (USD)': 'low', '4a. close (USD)': 'close', '5. volume': 'volume'})\n",
    "    for i in df.columns:\n",
    "        df[i] = df[i].astype(float)\n",
    "    df.index = pd.to_datetime(df.index)\n",
    "    #df = df.iloc[::-1].drop(['1b. open (USD)', '2b. high (USD)', '3b. low (USD)', '4b. close (USD)', '6. market cap (USD)'], axis = 1)\n",
    "    if start_date:\n",
    "        df = df[df.index >= start_date]\n",
    "    return df\n",
    "\n",
    "df = get_crypto_price(symbol = 'BTC', exchange = 'USD')\n",
    "df['Change'] = df['4. close'].diff()\n",
    "\n",
    "df['Change_enc'] = np.nan\n",
    "\n",
    "df.loc[df.Change < 0.0, 'Change_enc'] = '1_DROP'\n",
    "#df.loc[df.Change < -40, 'Change_enc'] = '0_HUGE_DROP'\n",
    "\n",
    "df.loc[df.Change > 0.0, 'Change_enc'] = '2_RISE'\n",
    "#df.loc[df.Change > 40, 'Change_enc'] = 'HUGE_RISE'\n",
    "\n",
    "#df.loc[df.Change.between(-5, 5), 'Change_enc'] = 'NO_CHANGE'\n",
    "\n",
    "df.dropna(inplace=True)\n"
   ],
   "metadata": {
    "collapsed": false,
    "pycharm": {
     "name": "#%%\n"
    }
   }
  },
  {
   "cell_type": "code",
   "execution_count": 65,
   "outputs": [
    {
     "name": "stderr",
     "output_type": "stream",
     "text": [
      "/tmp/ipykernel_8584/2598880382.py:19: FutureWarning: Dropping of nuisance columns in DataFrame reductions (with 'numeric_only=None') is deprecated; in a future version this will raise TypeError.  Select only valid columns before calling the reduction.\n",
      "  std = df.std()['Change']\n"
     ]
    }
   ],
   "source": [
    "import requests\n",
    "import pandas as pd\n",
    "\n",
    "def get_crypto_price(symbol, exchange, start_date = None):\n",
    "    api_key = 'QEUZDNSCRV22B7VL'\n",
    "    api_url = f'https://eodhistoricaldata.com/api/intraday/BTC-USD.CC?api_token=630d712fd8bd74.01254339&interval=5m&fmt=json'\n",
    "    raw_df = requests.get(api_url).json()\n",
    "    df = pd.DataFrame(raw_df)\n",
    "    #df = df.rename(columns = {'1a. open (USD)': 'open', '2a. high (USD)': 'high', '3a. low (USD)': 'low', '4a. close (USD)': 'close', '5. volume': 'volume'})\n",
    "    df['close'] = df['close'].astype(float)\n",
    "    #df.index = pd.to_datetime(df.index)\n",
    "    #df = df.iloc[::-1].drop(['1b. open (USD)', '2b. high (USD)', '3b. low (USD)', '4b. close (USD)', '6. market cap (USD)'], axis = 1)\n",
    "    return df\n",
    "\n",
    "df = get_crypto_price(symbol = 'BTC', exchange = 'USD')\n",
    "df['Change'] = df['close'].diff()\n",
    "\n",
    "df['Change_enc'] = np.nan\n",
    "std = df.std()['Change']\n",
    "\n",
    "df.loc[df.Change < 0.0, 'Change_enc'] = 'drop'\n",
    "df.loc[df.Change <= -std, 'Change_enc'] = 'big_drop'\n",
    "df.loc[df.Change <= -2*std, 'Change_enc'] = 'bigger_drop'\n",
    "df.loc[df.Change <= -3*std, 'Change_enc'] = 'biggest_drop'\n",
    "\n",
    "df.loc[df.Change > 0.0, 'Change_enc'] = 'rise'\n",
    "df.loc[df.Change >= std, 'Change_enc'] = 'big_rise'\n",
    "df.loc[df.Change >= 2*std, 'Change_enc'] = 'bigger_rise'\n",
    "df.loc[df.Change >= 3*std, 'Change_enc'] = 'biggest_rise'\n",
    "\n",
    "#df.loc[df.Change.between(-5, 5), 'Change_enc'] = 'NO_CHANGE'\n",
    "\n",
    "df.dropna(inplace=True)"
   ],
   "metadata": {
    "collapsed": false,
    "pycharm": {
     "name": "#%%\n"
    }
   }
  },
  {
   "cell_type": "code",
   "execution_count": 45,
   "outputs": [
    {
     "data": {
      "text/plain": "        timestamp  gmtoffset             datetime          open          high  \\\n2      1651536600          0  2022-05-03 00:10:00  38543.230468  38553.597656   \n11     1651539300          0  2022-05-03 00:55:00  38452.425781  38452.425781   \n16     1651540800          0  2022-05-03 01:20:00  38391.320312  38401.191406   \n17     1651541100          0  2022-05-03 01:25:00  38403.914062  38408.726562   \n19     1651541700          0  2022-05-03 01:35:00  38437.101562  38469.343750   \n...           ...        ...                  ...           ...           ...   \n34405  1661824800          0  2022-08-30 02:00:00  20168.687500  20169.841796   \n34406  1661825100          0  2022-08-30 02:05:00  20165.722656  20165.876953   \n34407  1661825400          0  2022-08-30 02:10:00  20159.646484  20159.646484   \n34408  1661825700          0  2022-08-30 02:15:00  20152.031250  20152.031250   \n34409  1661826000          0  2022-08-30 02:20:00  20153.148437  20161.796875   \n\n                low         close      volume     Change Change_enc  \n2      38543.230468  38553.597656  27320320.0  41.195313       rise  \n11     38432.628906  38432.628906     22528.0 -22.191406       drop  \n16     38391.320312  38401.191406  12023808.0   0.035156       rise  \n17     38403.914062  38407.105468  10377216.0   5.914062       rise  \n19     38437.101562  38469.343750  56254464.0  63.640625   big_rise  \n...             ...           ...         ...        ...        ...  \n34405  20165.941406  20166.732421    524288.0  -1.300782       drop  \n34406  20162.320312  20162.320312  15710208.0  -4.412109       drop  \n34407  20152.353515  20152.353515   4253696.0  -9.966797       drop  \n34408  20147.273437  20151.773437   9611264.0  -0.580078       drop  \n34409  20153.148437  20161.796875  14243840.0  10.023438       rise  \n\n[18518 rows x 10 columns]",
      "text/html": "<div>\n<style scoped>\n    .dataframe tbody tr th:only-of-type {\n        vertical-align: middle;\n    }\n\n    .dataframe tbody tr th {\n        vertical-align: top;\n    }\n\n    .dataframe thead th {\n        text-align: right;\n    }\n</style>\n<table border=\"1\" class=\"dataframe\">\n  <thead>\n    <tr style=\"text-align: right;\">\n      <th></th>\n      <th>timestamp</th>\n      <th>gmtoffset</th>\n      <th>datetime</th>\n      <th>open</th>\n      <th>high</th>\n      <th>low</th>\n      <th>close</th>\n      <th>volume</th>\n      <th>Change</th>\n      <th>Change_enc</th>\n    </tr>\n  </thead>\n  <tbody>\n    <tr>\n      <th>2</th>\n      <td>1651536600</td>\n      <td>0</td>\n      <td>2022-05-03 00:10:00</td>\n      <td>38543.230468</td>\n      <td>38553.597656</td>\n      <td>38543.230468</td>\n      <td>38553.597656</td>\n      <td>27320320.0</td>\n      <td>41.195313</td>\n      <td>rise</td>\n    </tr>\n    <tr>\n      <th>11</th>\n      <td>1651539300</td>\n      <td>0</td>\n      <td>2022-05-03 00:55:00</td>\n      <td>38452.425781</td>\n      <td>38452.425781</td>\n      <td>38432.628906</td>\n      <td>38432.628906</td>\n      <td>22528.0</td>\n      <td>-22.191406</td>\n      <td>drop</td>\n    </tr>\n    <tr>\n      <th>16</th>\n      <td>1651540800</td>\n      <td>0</td>\n      <td>2022-05-03 01:20:00</td>\n      <td>38391.320312</td>\n      <td>38401.191406</td>\n      <td>38391.320312</td>\n      <td>38401.191406</td>\n      <td>12023808.0</td>\n      <td>0.035156</td>\n      <td>rise</td>\n    </tr>\n    <tr>\n      <th>17</th>\n      <td>1651541100</td>\n      <td>0</td>\n      <td>2022-05-03 01:25:00</td>\n      <td>38403.914062</td>\n      <td>38408.726562</td>\n      <td>38403.914062</td>\n      <td>38407.105468</td>\n      <td>10377216.0</td>\n      <td>5.914062</td>\n      <td>rise</td>\n    </tr>\n    <tr>\n      <th>19</th>\n      <td>1651541700</td>\n      <td>0</td>\n      <td>2022-05-03 01:35:00</td>\n      <td>38437.101562</td>\n      <td>38469.343750</td>\n      <td>38437.101562</td>\n      <td>38469.343750</td>\n      <td>56254464.0</td>\n      <td>63.640625</td>\n      <td>big_rise</td>\n    </tr>\n    <tr>\n      <th>...</th>\n      <td>...</td>\n      <td>...</td>\n      <td>...</td>\n      <td>...</td>\n      <td>...</td>\n      <td>...</td>\n      <td>...</td>\n      <td>...</td>\n      <td>...</td>\n      <td>...</td>\n    </tr>\n    <tr>\n      <th>34405</th>\n      <td>1661824800</td>\n      <td>0</td>\n      <td>2022-08-30 02:00:00</td>\n      <td>20168.687500</td>\n      <td>20169.841796</td>\n      <td>20165.941406</td>\n      <td>20166.732421</td>\n      <td>524288.0</td>\n      <td>-1.300782</td>\n      <td>drop</td>\n    </tr>\n    <tr>\n      <th>34406</th>\n      <td>1661825100</td>\n      <td>0</td>\n      <td>2022-08-30 02:05:00</td>\n      <td>20165.722656</td>\n      <td>20165.876953</td>\n      <td>20162.320312</td>\n      <td>20162.320312</td>\n      <td>15710208.0</td>\n      <td>-4.412109</td>\n      <td>drop</td>\n    </tr>\n    <tr>\n      <th>34407</th>\n      <td>1661825400</td>\n      <td>0</td>\n      <td>2022-08-30 02:10:00</td>\n      <td>20159.646484</td>\n      <td>20159.646484</td>\n      <td>20152.353515</td>\n      <td>20152.353515</td>\n      <td>4253696.0</td>\n      <td>-9.966797</td>\n      <td>drop</td>\n    </tr>\n    <tr>\n      <th>34408</th>\n      <td>1661825700</td>\n      <td>0</td>\n      <td>2022-08-30 02:15:00</td>\n      <td>20152.031250</td>\n      <td>20152.031250</td>\n      <td>20147.273437</td>\n      <td>20151.773437</td>\n      <td>9611264.0</td>\n      <td>-0.580078</td>\n      <td>drop</td>\n    </tr>\n    <tr>\n      <th>34409</th>\n      <td>1661826000</td>\n      <td>0</td>\n      <td>2022-08-30 02:20:00</td>\n      <td>20153.148437</td>\n      <td>20161.796875</td>\n      <td>20153.148437</td>\n      <td>20161.796875</td>\n      <td>14243840.0</td>\n      <td>10.023438</td>\n      <td>rise</td>\n    </tr>\n  </tbody>\n</table>\n<p>18518 rows × 10 columns</p>\n</div>"
     },
     "execution_count": 45,
     "metadata": {},
     "output_type": "execute_result"
    }
   ],
   "source": [
    "df"
   ],
   "metadata": {
    "collapsed": false,
    "pycharm": {
     "name": "#%%\n"
    }
   }
  },
  {
   "cell_type": "markdown",
   "source": [
    "df = pd.read_csv(\"/mnt/watchandhelp/PycharmProjects/mtd-learn/examples/euro_usd.csv\")\n",
    "\n",
    "df['Change'] = df.Closing_rate.diff()\n",
    "\n",
    "df['Change_enc'] = np.nan\n",
    "\n",
    "df.loc[df.Change < 0.0, 'Change_enc'] = '1_DROP'\n",
    "df.loc[df.Change < -0.005, 'Change_enc'] = '0_BIG_DROP'\n",
    "df.loc[df.Change >= 0, 'Change_enc'] = '2_RISE'\n",
    "df.loc[df.Change >= 0.005, 'Change_enc'] = '3_BIG_RISE'\n",
    "\n",
    "df.dropna(inplace=True)"
   ],
   "metadata": {
    "collapsed": false,
    "pycharm": {
     "name": "#%% md\n"
    }
   }
  },
  {
   "cell_type": "markdown",
   "metadata": {
    "pycharm": {
     "name": "#%% md\n"
    }
   },
   "source": [
    "## Fit models"
   ]
  },
  {
   "cell_type": "code",
   "execution_count": 56,
   "metadata": {
    "ExecuteTime": {
     "end_time": "2020-04-25T14:33:31.036223Z",
     "start_time": "2020-04-25T14:33:31.025157Z"
    },
    "pycharm": {
     "name": "#%%\n"
    }
   },
   "outputs": [],
   "source": [
    "aics = []\n",
    "bics = []"
   ]
  },
  {
   "cell_type": "code",
   "execution_count": 77,
   "outputs": [],
   "source": [
    "from sklearn.model_selection import train_test_split\n",
    "\n",
    "order = 4\n",
    "\n",
    "sc = SequenceCutter(order)\n",
    "x, y = sc.transform(df.Change_enc.values)\n",
    "\n",
    "pe = PathEncoder(order)\n",
    "pe.fit(x, y)\n",
    "\n",
    "x_tr, y_tr = pe.transform(x, y)\n"
   ],
   "metadata": {
    "collapsed": false,
    "pycharm": {
     "name": "#%%\n"
    }
   }
  },
  {
   "cell_type": "code",
   "execution_count": 78,
   "outputs": [
    {
     "data": {
      "text/plain": "{0: 'big_drop',\n 1: 'big_rise',\n 2: 'bigger_drop',\n 3: 'bigger_rise',\n 4: 'biggest_drop',\n 5: 'biggest_rise',\n 6: 'drop',\n 7: 'rise',\n 8: 'null'}"
     },
     "execution_count": 78,
     "metadata": {},
     "output_type": "execute_result"
    }
   ],
   "source": [
    "pe.label_dict_inverse"
   ],
   "metadata": {
    "collapsed": false,
    "pycharm": {
     "name": "#%%\n"
    }
   }
  },
  {
   "cell_type": "code",
   "execution_count": 79,
   "outputs": [
    {
     "name": "stdout",
     "output_type": "stream",
     "text": [
      "0.5233526085022558\n",
      "HMC\n",
      "Training: (None, 0.103427)\n",
      "Testing: (0.36588930545847365, 2.375991)\n",
      "\n",
      "0.5754591091059287\n",
      "MMC\n",
      "Training: (None, 0.039448)\n",
      "Testing: (0.44309588867001337, 0.525861)\n",
      "\n",
      "0.5609074156446591\n",
      "FMC\n",
      "Training: (None, 0.070985)\n",
      "Testing: (0.42047404206646755, 2.862221)\n",
      "\n",
      "0.5666264218084769\n",
      "MTD\n",
      "Training: (None, 2.392575)\n",
      "Testing: (0.43019635254495775, 0.002582)\n",
      "\n",
      "[]\n",
      "[]\n"
     ]
    }
   ],
   "source": [
    "\n",
    "div = round(len(x_tr)*.85)\n",
    "#(X_train, X_test, y_train, y_test) = train_test_split(x_tr, y_tr)\n",
    "X_train, X_test, y_train, y_test = x_tr[div:, :],x_tr[:div, :], y_tr[div:], y_tr[:div]\n",
    "#X_train, y_train = x_tr, y_tr\n",
    "#X_test, y_test = x_tr, y_tr\n",
    "amount_to_average = 1\n",
    "\n",
    "training_master = []\n",
    "testing_master = []\n",
    "\n",
    "sgo_type = \"greedy\"\n",
    "methods = [HMC, MMC, FMC, MTD] #FMC]\n",
    "types = [m.__name__ for m in methods]\n",
    "\n",
    "state_count = len(np.unique(x_tr))\n",
    "for _ in range(amount_to_average):\n",
    "\n",
    "    args_training = {\"X_train\": X_train, \"y_train\": y_train}\n",
    "    args_testing =   {\"X_test\": X_test, \"y_test\": y_test}\n",
    "    results_training = []\n",
    "    results_testing = []\n",
    "\n",
    "    for m in methods:\n",
    "        model = m(state_count, order=order)\n",
    "        training = MarkovChain.calculate_time(model.train, args_training)\n",
    "        testing = MarkovChain.calculate_time(model.test, args_testing)\n",
    "\n",
    "\n",
    "        pred_res = model.predict(X_test)\n",
    "        count = 0\n",
    "        for i,p in enumerate(pred_res):\n",
    "            if \"drop\" in pe.label_dict_inverse[p] and \"drop\" in pe.label_dict_inverse[y_test[i]]:\n",
    "                count += 1\n",
    "            elif \"rise\" in pe.label_dict_inverse[p] and \"rise\" in pe.label_dict_inverse[y_test[i]]:\n",
    "                count += 1\n",
    "        print(count/len(pred_res))\n",
    "\n",
    "\n",
    "        #print(count/sum)\n",
    "\n",
    "        print(model.__class__.__name__)\n",
    "        print(f\"Training: {training}\")\n",
    "        print(f\"Testing: {testing}\")\n",
    "        print(\"\")\n",
    "\n",
    "    print(results_training)\n",
    "    print(results_testing)\n",
    "    training_master.append(results_training)\n",
    "    testing_master.append(results_testing)"
   ],
   "metadata": {
    "collapsed": false,
    "pycharm": {
     "name": "#%%\n"
    }
   }
  },
  {
   "cell_type": "code",
   "execution_count": null,
   "outputs": [],
   "source": [
    "X_train"
   ],
   "metadata": {
    "collapsed": false,
    "pycharm": {
     "name": "#%%\n"
    }
   }
  },
  {
   "cell_type": "markdown",
   "metadata": {
    "pycharm": {
     "name": "#%% md\n"
    }
   },
   "source": [
    "## Choose model"
   ]
  },
  {
   "cell_type": "code",
   "execution_count": 22,
   "metadata": {
    "ExecuteTime": {
     "end_time": "2020-04-25T14:34:46.286667Z",
     "start_time": "2020-04-25T14:34:46.282140Z"
    },
    "pycharm": {
     "name": "#%%\n"
    }
   },
   "outputs": [],
   "source": [
    "xs = [0, 1, 2, 3, 4]"
   ]
  },
  {
   "cell_type": "code",
   "execution_count": 18,
   "metadata": {
    "ExecuteTime": {
     "end_time": "2020-04-25T14:34:46.523644Z",
     "start_time": "2020-04-25T14:34:46.291929Z"
    },
    "pycharm": {
     "name": "#%%\n"
    }
   },
   "outputs": [
    {
     "ename": "ValueError",
     "evalue": "All arrays must be of the same length",
     "output_type": "error",
     "traceback": [
      "\u001B[0;31m---------------------------------------------------------------------------\u001B[0m",
      "\u001B[0;31mValueError\u001B[0m                                Traceback (most recent call last)",
      "Input \u001B[0;32mIn [18]\u001B[0m, in \u001B[0;36m<cell line: 1>\u001B[0;34m()\u001B[0m\n\u001B[0;32m----> 1\u001B[0m \u001B[43msns\u001B[49m\u001B[38;5;241;43m.\u001B[39;49m\u001B[43mlineplot\u001B[49m\u001B[43m(\u001B[49m\u001B[43mx\u001B[49m\u001B[38;5;241;43m=\u001B[39;49m\u001B[43mxs\u001B[49m\u001B[43m,\u001B[49m\u001B[43m \u001B[49m\u001B[43my\u001B[49m\u001B[38;5;241;43m=\u001B[39;49m\u001B[43maics\u001B[49m\u001B[43m)\u001B[49m\n\u001B[1;32m      2\u001B[0m sns\u001B[38;5;241m.\u001B[39mlineplot(x\u001B[38;5;241m=\u001B[39mxs, y\u001B[38;5;241m=\u001B[39mbics)\n",
      "File \u001B[0;32m~/anaconda3/envs/py3.10/lib/python3.10/site-packages/seaborn/_decorators.py:46\u001B[0m, in \u001B[0;36m_deprecate_positional_args.<locals>.inner_f\u001B[0;34m(*args, **kwargs)\u001B[0m\n\u001B[1;32m     36\u001B[0m     warnings\u001B[38;5;241m.\u001B[39mwarn(\n\u001B[1;32m     37\u001B[0m         \u001B[38;5;124m\"\u001B[39m\u001B[38;5;124mPass the following variable\u001B[39m\u001B[38;5;132;01m{}\u001B[39;00m\u001B[38;5;124m as \u001B[39m\u001B[38;5;132;01m{}\u001B[39;00m\u001B[38;5;124mkeyword arg\u001B[39m\u001B[38;5;132;01m{}\u001B[39;00m\u001B[38;5;124m: \u001B[39m\u001B[38;5;132;01m{}\u001B[39;00m\u001B[38;5;124m. \u001B[39m\u001B[38;5;124m\"\u001B[39m\n\u001B[1;32m     38\u001B[0m         \u001B[38;5;124m\"\u001B[39m\u001B[38;5;124mFrom version 0.12, the only valid positional argument \u001B[39m\u001B[38;5;124m\"\u001B[39m\n\u001B[0;32m   (...)\u001B[0m\n\u001B[1;32m     43\u001B[0m         \u001B[38;5;167;01mFutureWarning\u001B[39;00m\n\u001B[1;32m     44\u001B[0m     )\n\u001B[1;32m     45\u001B[0m kwargs\u001B[38;5;241m.\u001B[39mupdate({k: arg \u001B[38;5;28;01mfor\u001B[39;00m k, arg \u001B[38;5;129;01min\u001B[39;00m \u001B[38;5;28mzip\u001B[39m(sig\u001B[38;5;241m.\u001B[39mparameters, args)})\n\u001B[0;32m---> 46\u001B[0m \u001B[38;5;28;01mreturn\u001B[39;00m \u001B[43mf\u001B[49m\u001B[43m(\u001B[49m\u001B[38;5;241;43m*\u001B[39;49m\u001B[38;5;241;43m*\u001B[39;49m\u001B[43mkwargs\u001B[49m\u001B[43m)\u001B[49m\n",
      "File \u001B[0;32m~/anaconda3/envs/py3.10/lib/python3.10/site-packages/seaborn/relational.py:692\u001B[0m, in \u001B[0;36mlineplot\u001B[0;34m(x, y, hue, size, style, data, palette, hue_order, hue_norm, sizes, size_order, size_norm, dashes, markers, style_order, units, estimator, ci, n_boot, seed, sort, err_style, err_kws, legend, ax, **kwargs)\u001B[0m\n\u001B[1;32m    677\u001B[0m \u001B[38;5;129m@_deprecate_positional_args\u001B[39m\n\u001B[1;32m    678\u001B[0m \u001B[38;5;28;01mdef\u001B[39;00m \u001B[38;5;21mlineplot\u001B[39m(\n\u001B[1;32m    679\u001B[0m     \u001B[38;5;241m*\u001B[39m,\n\u001B[0;32m   (...)\u001B[0m\n\u001B[1;32m    688\u001B[0m     legend\u001B[38;5;241m=\u001B[39m\u001B[38;5;124m\"\u001B[39m\u001B[38;5;124mauto\u001B[39m\u001B[38;5;124m\"\u001B[39m, ax\u001B[38;5;241m=\u001B[39m\u001B[38;5;28;01mNone\u001B[39;00m, \u001B[38;5;241m*\u001B[39m\u001B[38;5;241m*\u001B[39mkwargs\n\u001B[1;32m    689\u001B[0m ):\n\u001B[1;32m    691\u001B[0m     variables \u001B[38;5;241m=\u001B[39m _LinePlotter\u001B[38;5;241m.\u001B[39mget_semantics(\u001B[38;5;28mlocals\u001B[39m())\n\u001B[0;32m--> 692\u001B[0m     p \u001B[38;5;241m=\u001B[39m \u001B[43m_LinePlotter\u001B[49m\u001B[43m(\u001B[49m\n\u001B[1;32m    693\u001B[0m \u001B[43m        \u001B[49m\u001B[43mdata\u001B[49m\u001B[38;5;241;43m=\u001B[39;49m\u001B[43mdata\u001B[49m\u001B[43m,\u001B[49m\u001B[43m \u001B[49m\u001B[43mvariables\u001B[49m\u001B[38;5;241;43m=\u001B[39;49m\u001B[43mvariables\u001B[49m\u001B[43m,\u001B[49m\n\u001B[1;32m    694\u001B[0m \u001B[43m        \u001B[49m\u001B[43mestimator\u001B[49m\u001B[38;5;241;43m=\u001B[39;49m\u001B[43mestimator\u001B[49m\u001B[43m,\u001B[49m\u001B[43m \u001B[49m\u001B[43mci\u001B[49m\u001B[38;5;241;43m=\u001B[39;49m\u001B[43mci\u001B[49m\u001B[43m,\u001B[49m\u001B[43m \u001B[49m\u001B[43mn_boot\u001B[49m\u001B[38;5;241;43m=\u001B[39;49m\u001B[43mn_boot\u001B[49m\u001B[43m,\u001B[49m\u001B[43m \u001B[49m\u001B[43mseed\u001B[49m\u001B[38;5;241;43m=\u001B[39;49m\u001B[43mseed\u001B[49m\u001B[43m,\u001B[49m\n\u001B[1;32m    695\u001B[0m \u001B[43m        \u001B[49m\u001B[43msort\u001B[49m\u001B[38;5;241;43m=\u001B[39;49m\u001B[43msort\u001B[49m\u001B[43m,\u001B[49m\u001B[43m \u001B[49m\u001B[43merr_style\u001B[49m\u001B[38;5;241;43m=\u001B[39;49m\u001B[43merr_style\u001B[49m\u001B[43m,\u001B[49m\u001B[43m \u001B[49m\u001B[43merr_kws\u001B[49m\u001B[38;5;241;43m=\u001B[39;49m\u001B[43merr_kws\u001B[49m\u001B[43m,\u001B[49m\u001B[43m \u001B[49m\u001B[43mlegend\u001B[49m\u001B[38;5;241;43m=\u001B[39;49m\u001B[43mlegend\u001B[49m\u001B[43m,\u001B[49m\n\u001B[1;32m    696\u001B[0m \u001B[43m    \u001B[49m\u001B[43m)\u001B[49m\n\u001B[1;32m    698\u001B[0m     p\u001B[38;5;241m.\u001B[39mmap_hue(palette\u001B[38;5;241m=\u001B[39mpalette, order\u001B[38;5;241m=\u001B[39mhue_order, norm\u001B[38;5;241m=\u001B[39mhue_norm)\n\u001B[1;32m    699\u001B[0m     p\u001B[38;5;241m.\u001B[39mmap_size(sizes\u001B[38;5;241m=\u001B[39msizes, order\u001B[38;5;241m=\u001B[39msize_order, norm\u001B[38;5;241m=\u001B[39msize_norm)\n",
      "File \u001B[0;32m~/anaconda3/envs/py3.10/lib/python3.10/site-packages/seaborn/relational.py:367\u001B[0m, in \u001B[0;36m_LinePlotter.__init__\u001B[0;34m(self, data, variables, estimator, ci, n_boot, seed, sort, err_style, err_kws, legend)\u001B[0m\n\u001B[1;32m    353\u001B[0m \u001B[38;5;28;01mdef\u001B[39;00m \u001B[38;5;21m__init__\u001B[39m(\n\u001B[1;32m    354\u001B[0m     \u001B[38;5;28mself\u001B[39m, \u001B[38;5;241m*\u001B[39m,\n\u001B[1;32m    355\u001B[0m     data\u001B[38;5;241m=\u001B[39m\u001B[38;5;28;01mNone\u001B[39;00m, variables\u001B[38;5;241m=\u001B[39m{},\n\u001B[0;32m   (...)\u001B[0m\n\u001B[1;32m    361\u001B[0m     \u001B[38;5;66;03m# the kind of plot to draw, but for the time being we need to set\u001B[39;00m\n\u001B[1;32m    362\u001B[0m     \u001B[38;5;66;03m# this information so the SizeMapping can use it\u001B[39;00m\n\u001B[1;32m    363\u001B[0m     \u001B[38;5;28mself\u001B[39m\u001B[38;5;241m.\u001B[39m_default_size_range \u001B[38;5;241m=\u001B[39m (\n\u001B[1;32m    364\u001B[0m         np\u001B[38;5;241m.\u001B[39mr_[\u001B[38;5;241m.5\u001B[39m, \u001B[38;5;241m2\u001B[39m] \u001B[38;5;241m*\u001B[39m mpl\u001B[38;5;241m.\u001B[39mrcParams[\u001B[38;5;124m\"\u001B[39m\u001B[38;5;124mlines.linewidth\u001B[39m\u001B[38;5;124m\"\u001B[39m]\n\u001B[1;32m    365\u001B[0m     )\n\u001B[0;32m--> 367\u001B[0m     \u001B[38;5;28;43msuper\u001B[39;49m\u001B[43m(\u001B[49m\u001B[43m)\u001B[49m\u001B[38;5;241;43m.\u001B[39;49m\u001B[38;5;21;43m__init__\u001B[39;49m\u001B[43m(\u001B[49m\u001B[43mdata\u001B[49m\u001B[38;5;241;43m=\u001B[39;49m\u001B[43mdata\u001B[49m\u001B[43m,\u001B[49m\u001B[43m \u001B[49m\u001B[43mvariables\u001B[49m\u001B[38;5;241;43m=\u001B[39;49m\u001B[43mvariables\u001B[49m\u001B[43m)\u001B[49m\n\u001B[1;32m    369\u001B[0m     \u001B[38;5;28mself\u001B[39m\u001B[38;5;241m.\u001B[39mestimator \u001B[38;5;241m=\u001B[39m estimator\n\u001B[1;32m    370\u001B[0m     \u001B[38;5;28mself\u001B[39m\u001B[38;5;241m.\u001B[39mci \u001B[38;5;241m=\u001B[39m ci\n",
      "File \u001B[0;32m~/anaconda3/envs/py3.10/lib/python3.10/site-packages/seaborn/_core.py:605\u001B[0m, in \u001B[0;36mVectorPlotter.__init__\u001B[0;34m(self, data, variables)\u001B[0m\n\u001B[1;32m    603\u001B[0m \u001B[38;5;28;01mdef\u001B[39;00m \u001B[38;5;21m__init__\u001B[39m(\u001B[38;5;28mself\u001B[39m, data\u001B[38;5;241m=\u001B[39m\u001B[38;5;28;01mNone\u001B[39;00m, variables\u001B[38;5;241m=\u001B[39m{}):\n\u001B[0;32m--> 605\u001B[0m     \u001B[38;5;28;43mself\u001B[39;49m\u001B[38;5;241;43m.\u001B[39;49m\u001B[43massign_variables\u001B[49m\u001B[43m(\u001B[49m\u001B[43mdata\u001B[49m\u001B[43m,\u001B[49m\u001B[43m \u001B[49m\u001B[43mvariables\u001B[49m\u001B[43m)\u001B[49m\n\u001B[1;32m    607\u001B[0m     \u001B[38;5;28;01mfor\u001B[39;00m var, \u001B[38;5;28mcls\u001B[39m \u001B[38;5;129;01min\u001B[39;00m \u001B[38;5;28mself\u001B[39m\u001B[38;5;241m.\u001B[39m_semantic_mappings\u001B[38;5;241m.\u001B[39mitems():\n\u001B[1;32m    608\u001B[0m \n\u001B[1;32m    609\u001B[0m         \u001B[38;5;66;03m# Create the mapping function\u001B[39;00m\n\u001B[1;32m    610\u001B[0m         map_func \u001B[38;5;241m=\u001B[39m partial(\u001B[38;5;28mcls\u001B[39m\u001B[38;5;241m.\u001B[39mmap, plotter\u001B[38;5;241m=\u001B[39m\u001B[38;5;28mself\u001B[39m)\n",
      "File \u001B[0;32m~/anaconda3/envs/py3.10/lib/python3.10/site-packages/seaborn/_core.py:668\u001B[0m, in \u001B[0;36mVectorPlotter.assign_variables\u001B[0;34m(self, data, variables)\u001B[0m\n\u001B[1;32m    666\u001B[0m \u001B[38;5;28;01melse\u001B[39;00m:\n\u001B[1;32m    667\u001B[0m     \u001B[38;5;28mself\u001B[39m\u001B[38;5;241m.\u001B[39minput_format \u001B[38;5;241m=\u001B[39m \u001B[38;5;124m\"\u001B[39m\u001B[38;5;124mlong\u001B[39m\u001B[38;5;124m\"\u001B[39m\n\u001B[0;32m--> 668\u001B[0m     plot_data, variables \u001B[38;5;241m=\u001B[39m \u001B[38;5;28;43mself\u001B[39;49m\u001B[38;5;241;43m.\u001B[39;49m\u001B[43m_assign_variables_longform\u001B[49m\u001B[43m(\u001B[49m\n\u001B[1;32m    669\u001B[0m \u001B[43m        \u001B[49m\u001B[43mdata\u001B[49m\u001B[43m,\u001B[49m\u001B[43m \u001B[49m\u001B[38;5;241;43m*\u001B[39;49m\u001B[38;5;241;43m*\u001B[39;49m\u001B[43mvariables\u001B[49m\u001B[43m,\u001B[49m\n\u001B[1;32m    670\u001B[0m \u001B[43m    \u001B[49m\u001B[43m)\u001B[49m\n\u001B[1;32m    672\u001B[0m \u001B[38;5;28mself\u001B[39m\u001B[38;5;241m.\u001B[39mplot_data \u001B[38;5;241m=\u001B[39m plot_data\n\u001B[1;32m    673\u001B[0m \u001B[38;5;28mself\u001B[39m\u001B[38;5;241m.\u001B[39mvariables \u001B[38;5;241m=\u001B[39m variables\n",
      "File \u001B[0;32m~/anaconda3/envs/py3.10/lib/python3.10/site-packages/seaborn/_core.py:927\u001B[0m, in \u001B[0;36mVectorPlotter._assign_variables_longform\u001B[0;34m(self, data, **kwargs)\u001B[0m\n\u001B[1;32m    923\u001B[0m         variables[key] \u001B[38;5;241m=\u001B[39m \u001B[38;5;28mgetattr\u001B[39m(val, \u001B[38;5;124m\"\u001B[39m\u001B[38;5;124mname\u001B[39m\u001B[38;5;124m\"\u001B[39m, \u001B[38;5;28;01mNone\u001B[39;00m)\n\u001B[1;32m    925\u001B[0m \u001B[38;5;66;03m# Construct a tidy plot DataFrame. This will convert a number of\u001B[39;00m\n\u001B[1;32m    926\u001B[0m \u001B[38;5;66;03m# types automatically, aligning on index in case of pandas objects\u001B[39;00m\n\u001B[0;32m--> 927\u001B[0m plot_data \u001B[38;5;241m=\u001B[39m \u001B[43mpd\u001B[49m\u001B[38;5;241;43m.\u001B[39;49m\u001B[43mDataFrame\u001B[49m\u001B[43m(\u001B[49m\u001B[43mplot_data\u001B[49m\u001B[43m)\u001B[49m\n\u001B[1;32m    929\u001B[0m \u001B[38;5;66;03m# Reduce the variables dictionary to fields with valid data\u001B[39;00m\n\u001B[1;32m    930\u001B[0m variables \u001B[38;5;241m=\u001B[39m {\n\u001B[1;32m    931\u001B[0m     var: name\n\u001B[1;32m    932\u001B[0m     \u001B[38;5;28;01mfor\u001B[39;00m var, name \u001B[38;5;129;01min\u001B[39;00m variables\u001B[38;5;241m.\u001B[39mitems()\n\u001B[1;32m    933\u001B[0m     \u001B[38;5;28;01mif\u001B[39;00m plot_data[var]\u001B[38;5;241m.\u001B[39mnotnull()\u001B[38;5;241m.\u001B[39many()\n\u001B[1;32m    934\u001B[0m }\n",
      "File \u001B[0;32m~/anaconda3/envs/py3.10/lib/python3.10/site-packages/pandas/core/frame.py:636\u001B[0m, in \u001B[0;36mDataFrame.__init__\u001B[0;34m(self, data, index, columns, dtype, copy)\u001B[0m\n\u001B[1;32m    630\u001B[0m     mgr \u001B[38;5;241m=\u001B[39m \u001B[38;5;28mself\u001B[39m\u001B[38;5;241m.\u001B[39m_init_mgr(\n\u001B[1;32m    631\u001B[0m         data, axes\u001B[38;5;241m=\u001B[39m{\u001B[38;5;124m\"\u001B[39m\u001B[38;5;124mindex\u001B[39m\u001B[38;5;124m\"\u001B[39m: index, \u001B[38;5;124m\"\u001B[39m\u001B[38;5;124mcolumns\u001B[39m\u001B[38;5;124m\"\u001B[39m: columns}, dtype\u001B[38;5;241m=\u001B[39mdtype, copy\u001B[38;5;241m=\u001B[39mcopy\n\u001B[1;32m    632\u001B[0m     )\n\u001B[1;32m    634\u001B[0m \u001B[38;5;28;01melif\u001B[39;00m \u001B[38;5;28misinstance\u001B[39m(data, \u001B[38;5;28mdict\u001B[39m):\n\u001B[1;32m    635\u001B[0m     \u001B[38;5;66;03m# GH#38939 de facto copy defaults to False only in non-dict cases\u001B[39;00m\n\u001B[0;32m--> 636\u001B[0m     mgr \u001B[38;5;241m=\u001B[39m \u001B[43mdict_to_mgr\u001B[49m\u001B[43m(\u001B[49m\u001B[43mdata\u001B[49m\u001B[43m,\u001B[49m\u001B[43m \u001B[49m\u001B[43mindex\u001B[49m\u001B[43m,\u001B[49m\u001B[43m \u001B[49m\u001B[43mcolumns\u001B[49m\u001B[43m,\u001B[49m\u001B[43m \u001B[49m\u001B[43mdtype\u001B[49m\u001B[38;5;241;43m=\u001B[39;49m\u001B[43mdtype\u001B[49m\u001B[43m,\u001B[49m\u001B[43m \u001B[49m\u001B[43mcopy\u001B[49m\u001B[38;5;241;43m=\u001B[39;49m\u001B[43mcopy\u001B[49m\u001B[43m,\u001B[49m\u001B[43m \u001B[49m\u001B[43mtyp\u001B[49m\u001B[38;5;241;43m=\u001B[39;49m\u001B[43mmanager\u001B[49m\u001B[43m)\u001B[49m\n\u001B[1;32m    637\u001B[0m \u001B[38;5;28;01melif\u001B[39;00m \u001B[38;5;28misinstance\u001B[39m(data, ma\u001B[38;5;241m.\u001B[39mMaskedArray):\n\u001B[1;32m    638\u001B[0m     \u001B[38;5;28;01mimport\u001B[39;00m \u001B[38;5;21;01mnumpy\u001B[39;00m\u001B[38;5;21;01m.\u001B[39;00m\u001B[38;5;21;01mma\u001B[39;00m\u001B[38;5;21;01m.\u001B[39;00m\u001B[38;5;21;01mmrecords\u001B[39;00m \u001B[38;5;28;01mas\u001B[39;00m \u001B[38;5;21;01mmrecords\u001B[39;00m\n",
      "File \u001B[0;32m~/anaconda3/envs/py3.10/lib/python3.10/site-packages/pandas/core/internals/construction.py:502\u001B[0m, in \u001B[0;36mdict_to_mgr\u001B[0;34m(data, index, columns, dtype, typ, copy)\u001B[0m\n\u001B[1;32m    494\u001B[0m     arrays \u001B[38;5;241m=\u001B[39m [\n\u001B[1;32m    495\u001B[0m         x\n\u001B[1;32m    496\u001B[0m         \u001B[38;5;28;01mif\u001B[39;00m \u001B[38;5;129;01mnot\u001B[39;00m \u001B[38;5;28mhasattr\u001B[39m(x, \u001B[38;5;124m\"\u001B[39m\u001B[38;5;124mdtype\u001B[39m\u001B[38;5;124m\"\u001B[39m) \u001B[38;5;129;01mor\u001B[39;00m \u001B[38;5;129;01mnot\u001B[39;00m \u001B[38;5;28misinstance\u001B[39m(x\u001B[38;5;241m.\u001B[39mdtype, ExtensionDtype)\n\u001B[1;32m    497\u001B[0m         \u001B[38;5;28;01melse\u001B[39;00m x\u001B[38;5;241m.\u001B[39mcopy()\n\u001B[1;32m    498\u001B[0m         \u001B[38;5;28;01mfor\u001B[39;00m x \u001B[38;5;129;01min\u001B[39;00m arrays\n\u001B[1;32m    499\u001B[0m     ]\n\u001B[1;32m    500\u001B[0m     \u001B[38;5;66;03m# TODO: can we get rid of the dt64tz special case above?\u001B[39;00m\n\u001B[0;32m--> 502\u001B[0m \u001B[38;5;28;01mreturn\u001B[39;00m \u001B[43marrays_to_mgr\u001B[49m\u001B[43m(\u001B[49m\u001B[43marrays\u001B[49m\u001B[43m,\u001B[49m\u001B[43m \u001B[49m\u001B[43mcolumns\u001B[49m\u001B[43m,\u001B[49m\u001B[43m \u001B[49m\u001B[43mindex\u001B[49m\u001B[43m,\u001B[49m\u001B[43m \u001B[49m\u001B[43mdtype\u001B[49m\u001B[38;5;241;43m=\u001B[39;49m\u001B[43mdtype\u001B[49m\u001B[43m,\u001B[49m\u001B[43m \u001B[49m\u001B[43mtyp\u001B[49m\u001B[38;5;241;43m=\u001B[39;49m\u001B[43mtyp\u001B[49m\u001B[43m,\u001B[49m\u001B[43m \u001B[49m\u001B[43mconsolidate\u001B[49m\u001B[38;5;241;43m=\u001B[39;49m\u001B[43mcopy\u001B[49m\u001B[43m)\u001B[49m\n",
      "File \u001B[0;32m~/anaconda3/envs/py3.10/lib/python3.10/site-packages/pandas/core/internals/construction.py:120\u001B[0m, in \u001B[0;36marrays_to_mgr\u001B[0;34m(arrays, columns, index, dtype, verify_integrity, typ, consolidate)\u001B[0m\n\u001B[1;32m    117\u001B[0m \u001B[38;5;28;01mif\u001B[39;00m verify_integrity:\n\u001B[1;32m    118\u001B[0m     \u001B[38;5;66;03m# figure out the index, if necessary\u001B[39;00m\n\u001B[1;32m    119\u001B[0m     \u001B[38;5;28;01mif\u001B[39;00m index \u001B[38;5;129;01mis\u001B[39;00m \u001B[38;5;28;01mNone\u001B[39;00m:\n\u001B[0;32m--> 120\u001B[0m         index \u001B[38;5;241m=\u001B[39m \u001B[43m_extract_index\u001B[49m\u001B[43m(\u001B[49m\u001B[43marrays\u001B[49m\u001B[43m)\u001B[49m\n\u001B[1;32m    121\u001B[0m     \u001B[38;5;28;01melse\u001B[39;00m:\n\u001B[1;32m    122\u001B[0m         index \u001B[38;5;241m=\u001B[39m ensure_index(index)\n",
      "File \u001B[0;32m~/anaconda3/envs/py3.10/lib/python3.10/site-packages/pandas/core/internals/construction.py:674\u001B[0m, in \u001B[0;36m_extract_index\u001B[0;34m(data)\u001B[0m\n\u001B[1;32m    672\u001B[0m lengths \u001B[38;5;241m=\u001B[39m \u001B[38;5;28mlist\u001B[39m(\u001B[38;5;28mset\u001B[39m(raw_lengths))\n\u001B[1;32m    673\u001B[0m \u001B[38;5;28;01mif\u001B[39;00m \u001B[38;5;28mlen\u001B[39m(lengths) \u001B[38;5;241m>\u001B[39m \u001B[38;5;241m1\u001B[39m:\n\u001B[0;32m--> 674\u001B[0m     \u001B[38;5;28;01mraise\u001B[39;00m \u001B[38;5;167;01mValueError\u001B[39;00m(\u001B[38;5;124m\"\u001B[39m\u001B[38;5;124mAll arrays must be of the same length\u001B[39m\u001B[38;5;124m\"\u001B[39m)\n\u001B[1;32m    676\u001B[0m \u001B[38;5;28;01mif\u001B[39;00m have_dicts:\n\u001B[1;32m    677\u001B[0m     \u001B[38;5;28;01mraise\u001B[39;00m \u001B[38;5;167;01mValueError\u001B[39;00m(\n\u001B[1;32m    678\u001B[0m         \u001B[38;5;124m\"\u001B[39m\u001B[38;5;124mMixing dicts with non-Series may lead to ambiguous ordering.\u001B[39m\u001B[38;5;124m\"\u001B[39m\n\u001B[1;32m    679\u001B[0m     )\n",
      "\u001B[0;31mValueError\u001B[0m: All arrays must be of the same length"
     ]
    }
   ],
   "source": [
    "sns.lineplot(x=xs, y=aics)\n",
    "sns.lineplot(x=xs, y=bics);"
   ]
  },
  {
   "cell_type": "code",
   "execution_count": null,
   "outputs": [],
   "source": [],
   "metadata": {
    "collapsed": false,
    "pycharm": {
     "name": "#%%\n"
    }
   }
  }
 ],
 "metadata": {
  "jupytext": {
   "formats": "ipynb,py:light"
  },
  "kernelspec": {
   "display_name": "Python 3",
   "language": "python",
   "name": "python3"
  },
  "language_info": {
   "codemirror_mode": {
    "name": "ipython",
    "version": 3
   },
   "file_extension": ".py",
   "mimetype": "text/x-python",
   "name": "python",
   "nbconvert_exporter": "python",
   "pygments_lexer": "ipython3",
   "version": "3.6.7"
  }
 },
 "nbformat": 4,
 "nbformat_minor": 2
}